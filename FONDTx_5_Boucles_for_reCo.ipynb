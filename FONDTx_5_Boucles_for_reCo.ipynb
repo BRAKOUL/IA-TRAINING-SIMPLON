{
 "cells": [
  {
   "cell_type": "markdown",
   "id": "8fc3d371",
   "metadata": {},
   "source": [
    "# 4. LA BOUCLE FOR"
   ]
  },
  {
   "cell_type": "markdown",
   "id": "028cf4f6",
   "metadata": {},
   "source": [
    "## 1. Le contexte d'utilisation\n",
    "> **Principe :** Imaginez qu'on souhaite afficher les éléments de la liste ci-dessous l'un après l'autre"
   ]
  },
  {
   "cell_type": "code",
   "execution_count": 2,
   "id": "cfc4e5f2",
   "metadata": {},
   "outputs": [],
   "source": [
    "animaux = [\"girafe\", \"tigre\", \"singe\", \"souris\"]"
   ]
  },
  {
   "cell_type": "code",
   "execution_count": 5,
   "id": "9c3e30cd",
   "metadata": {},
   "outputs": [
    {
     "name": "stdout",
     "output_type": "stream",
     "text": [
      "girafe\n",
      "tigre\n",
      "singe\n",
      "souris\n"
     ]
    }
   ],
   "source": [
    "print(animaux[0])\n",
    "print(animaux[1])\n",
    "print(animaux[2])\n",
    "print(animaux[3])"
   ]
  },
  {
   "cell_type": "markdown",
   "id": "c56f8172",
   "metadata": {},
   "source": [
    "> Mais imaginez que la liste en contienne 100 voire 1000 ! => fastidieux !!! Pour remédier à cela, il faut utiliser les boucles "
   ]
  },
  {
   "cell_type": "code",
   "execution_count": 1,
   "id": "86249e39",
   "metadata": {
    "scrolled": true
   },
   "outputs": [
    {
     "name": "stdout",
     "output_type": "stream",
     "text": [
      "girafe\n",
      "tigre\n",
      "singe\n",
      "souris\n"
     ]
    }
   ],
   "source": [
    "animaux = [\"girafe\", \"tigre\", \"singe\", \"souris\"]\n",
    "for animal in animaux:\n",
    "    print(animal)"
   ]
  },
  {
   "cell_type": "code",
   "execution_count": 2,
   "id": "17046ecf",
   "metadata": {
    "scrolled": true
   },
   "outputs": [
    {
     "name": "stdout",
     "output_type": "stream",
     "text": [
      "girafe\n",
      "girafegirafe\n",
      "tigre\n",
      "tigretigre\n",
      "singe\n",
      "singesinge\n",
      "souris\n",
      "sourissouris\n",
      "C'est fini\n"
     ]
    }
   ],
   "source": [
    "for animal in animaux:\n",
    "    print(animal)\n",
    "    print(animal*2)\n",
    "print(\"C'est fini\")"
   ]
  },
  {
   "cell_type": "code",
   "execution_count": 8,
   "id": "5a0ebb1e",
   "metadata": {},
   "outputs": [
    {
     "name": "stdout",
     "output_type": "stream",
     "text": [
      "girafegirafe\n",
      "tigretigre\n",
      "singesinge\n",
      "sourissouris\n",
      "C'est fini\n"
     ]
    }
   ],
   "source": [
    "for animal in animaux:\n",
    "    #print(animal)\n",
    "    print(animal*2)\n",
    "print(\"C'est fini\")"
   ]
  },
  {
   "cell_type": "markdown",
   "id": "0f567b81",
   "metadata": {},
   "source": [
    "## 2. Découverte de la boucle `for`\n",
    "### 2.1. Définition\n",
    "> La boucle for énumère les éléments d'un ensemble et pour chaque élément, répète toujours le même code en fonction de cet élément"
   ]
  },
  {
   "cell_type": "code",
   "execution_count": null,
   "id": "a81c7855",
   "metadata": {},
   "outputs": [],
   "source": [
    "# SYNTAXE\n",
    "\n",
    "for var in iterable:   # itérable devant être un objet, une collection\n",
    "    code1                # var étant la variable\n",
    "    print()"
   ]
  },
  {
   "cell_type": "markdown",
   "id": "b095cea3",
   "metadata": {},
   "source": [
    "### 2.2. Les itérables en python : le concept avancé\n",
    "> Les objets itérables : **Voir synthèse diapos**"
   ]
  },
  {
   "cell_type": "code",
   "execution_count": null,
   "id": "79006c1b",
   "metadata": {},
   "outputs": [],
   "source": [
    "iter(iterable) = iterator\n",
    "    \n",
    "# Il en résulte que tous les objets sur lesquels on appelle la fonction iter() sans déclencher une erreur:\n",
    "    # => sont itérables sinon ils ne le sont !\n",
    "\n",
    "        # Les objets non itérables:\n",
    "- int\n",
    "- float\n",
    "- bool\n",
    "\n",
    "        # Les objets itérables à savoir absolument !!!!:\n",
    "- str\n",
    "- list\n",
    "- dict\n",
    "- set\n",
    "\n",
    "# => SYNTAXE :\n",
    "for var in iterable:         # var est appelé VARIABLE D'ITERATION\n",
    "    code\n",
    "\n",
    "    # La fonction next() vs iter()\n",
    "\n",
    "next(iterator) = objet     # retourne le prochain objet mais ne sait pas gérer les erreurs StopIteration\n",
    "\n",
    "iter(iterable) = iterator  # retourne le prochain iterable et gère bien les StopIteration d'où son choix\n",
    "                                # iterable = musée\n",
    "                                # iterator = guide de musée"
   ]
  },
  {
   "cell_type": "code",
   "execution_count": 10,
   "id": "926522ea",
   "metadata": {},
   "outputs": [
    {
     "name": "stdout",
     "output_type": "stream",
     "text": [
      "1\n",
      "2\n",
      "3\n"
     ]
    }
   ],
   "source": [
    "for i in [1, 2, 3]:\n",
    "    print(i)"
   ]
  },
  {
   "cell_type": "markdown",
   "id": "e3958813",
   "metadata": {},
   "source": [
    "## 2.3. Les boucles `for` simples\n",
    "> => Enumération des éléments d'un ensemble"
   ]
  },
  {
   "cell_type": "markdown",
   "id": "1b7c0b4f",
   "metadata": {},
   "source": [
    "### 1. Le principe"
   ]
  },
  {
   "cell_type": "markdown",
   "id": "60283c32",
   "metadata": {},
   "source": [
    "for objet in liste_courses :\n",
    "    trouver(objet)\n",
    "    mettre_dans_le_chariot(objet)\n",
    "aller_payer()"
   ]
  },
  {
   "cell_type": "markdown",
   "id": "eee80611",
   "metadata": {},
   "source": [
    "=> Pour chaque objet dans ma liste de courses : \n",
    "- Je fais toujours la même chose : \n",
    "    - je le trouve puis je le mets dans le chariot **=>** C'est ça que fait ma boucle `for`. \n",
    "- Quand il n'y a plus d'objet dans ma liste de course, :\n",
    "    - je vais payer.\n",
    "- De plus, :\n",
    "    - ce qui doit être fait en boucle doit être indenté. \n",
    "    - Et le `aller_payer` n'est pas indenté car je ne paye qu'à la fin. \n",
    "        - S'il était indenté, cela signifierait que pour chaque objet j'irais payer avant de passer à l'objet suivant... => non sens!!\n",
    "        \n",
    "> Pour créer une liste de nombres, on utilise la fonction `range()`:\n",
    "> - **range(n)** : crée une liste de **n** nombres **allant** de `0 à n-1`"
   ]
  },
  {
   "cell_type": "code",
   "execution_count": 2,
   "id": "146f87df",
   "metadata": {},
   "outputs": [
    {
     "data": {
      "text/plain": [
       "range(0, 4)"
      ]
     },
     "execution_count": 2,
     "metadata": {},
     "output_type": "execute_result"
    }
   ],
   "source": [
    "range(4)               # => est la suite de nombres 0 1 2 3"
   ]
  },
  {
   "cell_type": "code",
   "execution_count": null,
   "id": "f7b91db3",
   "metadata": {},
   "outputs": [],
   "source": []
  },
  {
   "cell_type": "markdown",
   "id": "3eef94d3",
   "metadata": {},
   "source": [
    "range(n1,n2)           # => crée une liste de nombres allant de n1 à n2-1."
   ]
  },
  {
   "cell_type": "code",
   "execution_count": 5,
   "id": "192a2629",
   "metadata": {},
   "outputs": [
    {
     "data": {
      "text/plain": [
       "range(3, 6)"
      ]
     },
     "execution_count": 5,
     "metadata": {},
     "output_type": "execute_result"
    }
   ],
   "source": [
    "range(3,6)             # => est la suite de nombres 3 4 5"
   ]
  },
  {
   "cell_type": "code",
   "execution_count": null,
   "id": "bb6ee479",
   "metadata": {},
   "outputs": [],
   "source": []
  },
  {
   "cell_type": "markdown",
   "id": "b5cfd392",
   "metadata": {},
   "source": [
    "range(n1,n2,pas) : crée une liste de nombres allant de n1 à n2-1 en sautant de pas en pas."
   ]
  },
  {
   "cell_type": "code",
   "execution_count": 6,
   "id": "f8930e81",
   "metadata": {},
   "outputs": [
    {
     "data": {
      "text/plain": [
       "range(1, 9, 3)"
      ]
     },
     "execution_count": 6,
     "metadata": {},
     "output_type": "execute_result"
    }
   ],
   "source": [
    "range(1,9,3)            # => est la suite de nombres 1 4 7 (de 3 en 3 en partant de 1)"
   ]
  },
  {
   "cell_type": "code",
   "execution_count": null,
   "id": "11965ad5",
   "metadata": {},
   "outputs": [],
   "source": []
  },
  {
   "cell_type": "code",
   "execution_count": null,
   "id": "17373b53",
   "metadata": {},
   "outputs": [],
   "source": [
    "range(3,0,-1)   # => est la suite 3 2 1 (un pas négatif permet de compter à l'envers ce qui est très pratique des fois)"
   ]
  },
  {
   "cell_type": "markdown",
   "id": "1d0e282d",
   "metadata": {},
   "source": [
    "### 2. Les cas d'usage"
   ]
  },
  {
   "cell_type": "markdown",
   "id": "07585cd5",
   "metadata": {},
   "source": [
    "#### # Que font les algorithmes ci-dessous et quels `résultats` affichent ils?"
   ]
  },
  {
   "cell_type": "code",
   "execution_count": null,
   "id": "eff9612a",
   "metadata": {},
   "outputs": [],
   "source": [
    "# Exemple \n",
    "\n",
    "for i in range(3) :\n",
    "   print(\"Bonjour !\")"
   ]
  },
  {
   "cell_type": "code",
   "execution_count": null,
   "id": "c452fd49",
   "metadata": {},
   "outputs": [],
   "source": []
  },
  {
   "cell_type": "code",
   "execution_count": null,
   "id": "8ffc29ac",
   "metadata": {},
   "outputs": [],
   "source": [
    "# Exemple 2\n",
    "\n",
    "for i in range(5) :\n",
    "   print(i)"
   ]
  },
  {
   "cell_type": "code",
   "execution_count": null,
   "id": "12fd7e51",
   "metadata": {},
   "outputs": [],
   "source": []
  },
  {
   "cell_type": "code",
   "execution_count": 16,
   "id": "fd17ca24",
   "metadata": {},
   "outputs": [
    {
     "name": "stdout",
     "output_type": "stream",
     "text": [
      "6\n"
     ]
    }
   ],
   "source": [
    "# Exemple 3\n",
    "\n",
    "somme=0\n",
    "for i in range(4) :\n",
    "   somme += i\n",
    "print(somme)"
   ]
  },
  {
   "cell_type": "markdown",
   "id": "fc46cd48",
   "metadata": {},
   "source": [
    "**Commentaire Exemple 3 :**\n",
    "- => Pour `i` allant de **0** jusqu'à **3** (c'est à dire range(4)):\n",
    "    - je demande à chaque fois `somme += i` => je **rajoute** à somme la valeur `i` qui vaut **tour à tour :**\n",
    "        - `0 puis` \n",
    "        - `1 puis`\n",
    "        - `2 puis`\n",
    "        - `3`.\n",
    "    - Finalement, j'affiche le résultat qui n'est autre que **0+1+2+3** => somme(càd somme des sommes)."
   ]
  },
  {
   "cell_type": "markdown",
   "id": "c8f20a09",
   "metadata": {},
   "source": [
    "## 2.4. Les boucles `for` imbriquées\n",
    " => **Enchainer** les **boucles :** Nous voulons afficher tous les couples (x,y) possibles avec x et y des entiers entre 0 et 5 : \n",
    "> - Une façon de faire serait de :\n",
    "    - commençer par x = 0 et énumérer tous les couples (0,y) pour y entre 0 et 5 puis \n",
    "    - faire de même pour x=1 jusqu'à x = 5. \n",
    "> - => Il faut faire en boucle sur x... une boucle sur y. Et comme tout ce qui se trouve dans une boucle doit être indenté, :\n",
    "    - => il faudra donc décaler notre deuxième `for` par rapport au premier"
   ]
  },
  {
   "cell_type": "code",
   "execution_count": 17,
   "id": "836e215e",
   "metadata": {
    "collapsed": true
   },
   "outputs": [
    {
     "name": "stdout",
     "output_type": "stream",
     "text": [
      "(0, 0)\n",
      "(0, 1)\n",
      "(0, 2)\n",
      "(0, 3)\n",
      "(0, 4)\n",
      "(0, 5)\n",
      "(1, 0)\n",
      "(1, 1)\n",
      "(1, 2)\n",
      "(1, 3)\n",
      "(1, 4)\n",
      "(1, 5)\n",
      "(2, 0)\n",
      "(2, 1)\n",
      "(2, 2)\n",
      "(2, 3)\n",
      "(2, 4)\n",
      "(2, 5)\n",
      "(3, 0)\n",
      "(3, 1)\n",
      "(3, 2)\n",
      "(3, 3)\n",
      "(3, 4)\n",
      "(3, 5)\n",
      "(4, 0)\n",
      "(4, 1)\n",
      "(4, 2)\n",
      "(4, 3)\n",
      "(4, 4)\n",
      "(4, 5)\n",
      "(5, 0)\n",
      "(5, 1)\n",
      "(5, 2)\n",
      "(5, 3)\n",
      "(5, 4)\n",
      "(5, 5)\n"
     ]
    }
   ],
   "source": [
    "# Exemple 1\n",
    "\n",
    "for x in range(6):\n",
    "    for y in range(6):\n",
    "        print((x,y))"
   ]
  },
  {
   "cell_type": "markdown",
   "id": "7251b5c9",
   "metadata": {},
   "source": [
    "**Exemple 2:** => faire dépendre la deuxième boucle de la variable de la première\n",
    "* puisque la 2ième est imbriquée, par exemple si on veut :\n",
    " - afficher les couples (x,y) avec y<=x. \n",
    " - on veut donc que y soit entre 0 et x ce qui donnerait le code ci-dessous :"
   ]
  },
  {
   "cell_type": "code",
   "execution_count": null,
   "id": "7a5dc45c",
   "metadata": {},
   "outputs": [],
   "source": [
    "# Exemple 2 : faire dépendre la deuxième boucle de la variable de la première\n",
    "\n",
    "for x in range(6):\n",
    "    for y in range(x+1):\n",
    "        print((x,y))"
   ]
  },
  {
   "cell_type": "code",
   "execution_count": null,
   "id": "a9f80dd4",
   "metadata": {},
   "outputs": [],
   "source": []
  },
  {
   "cell_type": "markdown",
   "id": "e9de467a",
   "metadata": {},
   "source": [
    "Dans ce cet **exemple 3 :**\n",
    "- `for caractere in texte` : permet de créer une boucle en énumérant les lettres de texte.\n",
    "- Par exemple si je veux afficher les chiffres d'un texte voir ci-dessous avec `if caractere in \"0123456789\"`:"
   ]
  },
  {
   "cell_type": "code",
   "execution_count": null,
   "id": "59def8ed",
   "metadata": {},
   "outputs": [],
   "source": [
    "# Exemple 3\n",
    "\n",
    "texte=\"Quatre bonbons à 0,25 euro chacun coûtent un euro\"\n",
    "for caractere in texte:\n",
    "    if caractere in \"0123456789\":\n",
    "        print(caractere)"
   ]
  },
  {
   "cell_type": "markdown",
   "id": "868f67ff",
   "metadata": {},
   "source": [
    "## 2.5. Illustrations\n",
    "### # Que vont afficher les programmes ci-dessous ?"
   ]
  },
  {
   "cell_type": "code",
   "execution_count": null,
   "id": "27eb4269",
   "metadata": {},
   "outputs": [],
   "source": [
    "for k in range(3):\n",
    "    print(k)"
   ]
  },
  {
   "cell_type": "code",
   "execution_count": null,
   "id": "0b23fc82",
   "metadata": {},
   "outputs": [],
   "source": [
    "for k in range(1,7,2):\n",
    "    print(k)"
   ]
  },
  {
   "cell_type": "code",
   "execution_count": null,
   "id": "2b648550",
   "metadata": {},
   "outputs": [],
   "source": [
    "for k in range(5):\n",
    "    print(k*k + k)"
   ]
  },
  {
   "cell_type": "code",
   "execution_count": null,
   "id": "42cb3964",
   "metadata": {},
   "outputs": [],
   "source": [
    "somme = 0\n",
    "for n in range(4):\n",
    "    somme += n*n\n",
    "print(somme)"
   ]
  },
  {
   "cell_type": "markdown",
   "id": "9d2f2621",
   "metadata": {},
   "source": [
    "### # Que mettre à la place des ... "
   ]
  },
  {
   "cell_type": "code",
   "execution_count": null,
   "id": "f167ba51",
   "metadata": {},
   "outputs": [],
   "source": [
    "# pour que le programme précédent affiche 3 / 6 / 9 / 12\n",
    "for k in ... :\n",
    "    print(k)"
   ]
  },
  {
   "cell_type": "code",
   "execution_count": null,
   "id": "8fb3da8b",
   "metadata": {},
   "outputs": [],
   "source": [
    "# pour que ce programme affiche la valeur de la somme 2*0 + 2*1 + 2*2 + 2*3 +2*4 ? \n",
    "\n",
    "somme = 0\n",
    "for n in range(5):\n",
    "    somme += ...\n",
    "print(somme)"
   ]
  },
  {
   "cell_type": "markdown",
   "id": "68334297",
   "metadata": {},
   "source": [
    "#### Exercice 1 :\n",
    "On a recopié ci-dessous le programme de l'exemple précédent. Modifier ce programme pour qu'il affiche la somme des entiers de 3 à 172 c'est à dire 3 + 4 + 5 + ... + 171 + 172."
   ]
  },
  {
   "cell_type": "markdown",
   "id": "7bb7ba18",
   "metadata": {},
   "source": [
    "somme=0\n",
    "for i in range(4):\n",
    "    somme += i\n",
    "print(somme)"
   ]
  },
  {
   "cell_type": "code",
   "execution_count": 5,
   "id": "1ac410f1",
   "metadata": {},
   "outputs": [],
   "source": [
    "import numpy as np"
   ]
  },
  {
   "cell_type": "code",
   "execution_count": 8,
   "id": "cc3b1fa1",
   "metadata": {
    "collapsed": true
   },
   "outputs": [
    {
     "name": "stdout",
     "output_type": "stream",
     "text": [
      "3\n",
      "7\n",
      "12\n",
      "18\n",
      "25\n",
      "33\n",
      "42\n",
      "52\n",
      "63\n",
      "75\n",
      "88\n",
      "102\n",
      "117\n",
      "133\n",
      "150\n",
      "168\n",
      "187\n",
      "207\n",
      "228\n",
      "250\n",
      "273\n",
      "297\n",
      "322\n",
      "348\n",
      "375\n",
      "403\n",
      "432\n",
      "462\n",
      "493\n",
      "525\n",
      "558\n",
      "592\n",
      "627\n",
      "663\n",
      "700\n",
      "738\n",
      "777\n",
      "817\n",
      "858\n",
      "900\n",
      "943\n",
      "987\n",
      "1032\n",
      "1078\n",
      "1125\n",
      "1173\n",
      "1222\n",
      "1272\n",
      "1323\n",
      "1375\n",
      "1428\n",
      "1482\n",
      "1537\n",
      "1593\n",
      "1650\n",
      "1708\n",
      "1767\n",
      "1827\n",
      "1888\n",
      "1950\n",
      "2013\n",
      "2077\n",
      "2142\n",
      "2208\n",
      "2275\n",
      "2343\n",
      "2412\n",
      "2482\n",
      "2553\n",
      "2625\n",
      "2698\n",
      "2772\n",
      "2847\n",
      "2923\n",
      "3000\n",
      "3078\n",
      "3157\n",
      "3237\n",
      "3318\n",
      "3400\n",
      "3483\n",
      "3567\n",
      "3652\n",
      "3738\n",
      "3825\n",
      "3913\n",
      "4002\n",
      "4092\n",
      "4183\n",
      "4275\n",
      "4368\n",
      "4462\n",
      "4557\n",
      "4653\n",
      "4750\n",
      "4848\n",
      "4947\n",
      "5047\n",
      "5148\n",
      "5250\n",
      "5353\n",
      "5457\n",
      "5562\n",
      "5668\n",
      "5775\n",
      "5883\n",
      "5992\n",
      "6102\n",
      "6213\n",
      "6325\n",
      "6438\n",
      "6552\n",
      "6667\n",
      "6783\n",
      "6900\n",
      "7018\n",
      "7137\n",
      "7257\n",
      "7378\n",
      "7500\n",
      "7623\n",
      "7747\n",
      "7872\n",
      "7998\n",
      "8125\n",
      "8253\n",
      "8382\n",
      "8512\n",
      "8643\n",
      "8775\n",
      "8908\n",
      "9042\n",
      "9177\n",
      "9313\n",
      "9450\n",
      "9588\n",
      "9727\n",
      "9867\n",
      "10008\n",
      "10150\n",
      "10293\n",
      "10437\n",
      "10582\n",
      "10728\n",
      "10875\n",
      "11023\n",
      "11172\n",
      "11322\n",
      "11473\n",
      "11625\n",
      "11778\n",
      "11932\n",
      "12087\n",
      "12243\n",
      "12400\n",
      "12558\n",
      "12717\n",
      "12877\n",
      "13038\n",
      "13200\n",
      "13363\n",
      "13527\n",
      "13692\n",
      "13858\n",
      "14025\n",
      "14193\n",
      "14362\n",
      "14532\n",
      "14703\n",
      "14875\n",
      "14875\n"
     ]
    }
   ],
   "source": [
    "somme = 0\n",
    "for i in range(3, 173):\n",
    "    somme += i\n",
    "    #print(somme)\n",
    "print(somme)"
   ]
  },
  {
   "cell_type": "markdown",
   "id": "3ee36431",
   "metadata": {},
   "source": [
    "#### Exercice 2\n",
    "On a recopié de nouveau ci-dessous le programme de l'exemple précédent. Modifier ce programme pour qu'il affiche la somme des carrés des entiers de 5 à 123 c'est à dire 5² + 6² + 7² + ... + 122² + 123²."
   ]
  },
  {
   "cell_type": "raw",
   "id": "c3a55a4f",
   "metadata": {},
   "source": [
    "somme=0\n",
    "for i in range(4) :\n",
    "    somme+= i\n",
    "print(somme)"
   ]
  },
  {
   "cell_type": "code",
   "execution_count": 10,
   "id": "a183bff2",
   "metadata": {},
   "outputs": [
    {
     "name": "stdout",
     "output_type": "stream",
     "text": [
      "627844\n"
     ]
    }
   ],
   "source": [
    "somme=0\n",
    "for i in range(5, 124):\n",
    "    somme+= i*i          # ou somme+= i**2\n",
    "print(somme)"
   ]
  },
  {
   "cell_type": "markdown",
   "id": "e5dbb3e5",
   "metadata": {},
   "source": [
    "#### Exercice 3\n",
    "En s'inspirant des programmes précédents, créez un programme qui affiche, pour chaque entier entre 0 et 100, son carré. Autrement dit, il doit afficher :"
   ]
  },
  {
   "cell_type": "raw",
   "id": "ca1f3395",
   "metadata": {},
   "source": [
    "0  \n",
    "1  \n",
    "4  \n",
    "9  \n",
    "16 \n",
    "...\n",
    "10000"
   ]
  },
  {
   "cell_type": "code",
   "execution_count": 13,
   "id": "dcbecfec",
   "metadata": {
    "collapsed": true
   },
   "outputs": [
    {
     "name": "stdout",
     "output_type": "stream",
     "text": [
      "0\n",
      "1\n",
      "4\n",
      "9\n",
      "16\n",
      "25\n",
      "36\n",
      "49\n",
      "64\n",
      "81\n",
      "100\n",
      "121\n",
      "144\n",
      "169\n",
      "196\n",
      "225\n",
      "256\n",
      "289\n",
      "324\n",
      "361\n",
      "400\n",
      "441\n",
      "484\n",
      "529\n",
      "576\n",
      "625\n",
      "676\n",
      "729\n",
      "784\n",
      "841\n",
      "900\n",
      "961\n",
      "1024\n",
      "1089\n",
      "1156\n",
      "1225\n",
      "1296\n",
      "1369\n",
      "1444\n",
      "1521\n",
      "1600\n",
      "1681\n",
      "1764\n",
      "1849\n",
      "1936\n",
      "2025\n",
      "2116\n",
      "2209\n",
      "2304\n",
      "2401\n",
      "2500\n",
      "2601\n",
      "2704\n",
      "2809\n",
      "2916\n",
      "3025\n",
      "3136\n",
      "3249\n",
      "3364\n",
      "3481\n",
      "3600\n",
      "3721\n",
      "3844\n",
      "3969\n",
      "4096\n",
      "4225\n",
      "4356\n",
      "4489\n",
      "4624\n",
      "4761\n",
      "4900\n",
      "5041\n",
      "5184\n",
      "5329\n",
      "5476\n",
      "5625\n",
      "5776\n",
      "5929\n",
      "6084\n",
      "6241\n",
      "6400\n",
      "6561\n",
      "6724\n",
      "6889\n",
      "7056\n",
      "7225\n",
      "7396\n",
      "7569\n",
      "7744\n",
      "7921\n",
      "8100\n",
      "8281\n",
      "8464\n",
      "8649\n",
      "8836\n",
      "9025\n",
      "9216\n",
      "9409\n",
      "9604\n",
      "9801\n",
      "10000\n"
     ]
    }
   ],
   "source": [
    "carre = 0\n",
    "for i in range(101):\n",
    "    carre = i**2\n",
    "    print(carre)"
   ]
  },
  {
   "cell_type": "markdown",
   "id": "899b078d",
   "metadata": {},
   "source": [
    "## 2.6. Autres applications des boucles for\n",
    "### 1. Les chaines de caractères\n",
    "> Si à la place de range on met une chaine de caractères à énumérer dans une boucle for, on va tout simplement prendre chaque lettre l'une après l'autre de cette chaine de caractères."
   ]
  },
  {
   "cell_type": "code",
   "execution_count": 1,
   "id": "8d33a1df",
   "metadata": {
    "collapsed": true
   },
   "outputs": [
    {
     "name": "stdout",
     "output_type": "stream",
     "text": [
      "B\n",
      "o\n",
      "n\n",
      "j\n",
      "o\n",
      "u\n",
      "r\n",
      " \n",
      "!\n"
     ]
    }
   ],
   "source": [
    "for lettre in \"Bonjour !\":\n",
    "    print(lettre)  # => Il 'affiche successivement les lettres de \"Bonjour !\". "
   ]
  },
  {
   "cell_type": "markdown",
   "id": "0d1e0494",
   "metadata": {},
   "source": [
    "#### Exemple : \n",
    "Supposons qu'on veuille compter le nombre de \"e\" dans un texte, nous pourrions alors écrire ceci :"
   ]
  },
  {
   "cell_type": "code",
   "execution_count": 4,
   "id": "f2f54621",
   "metadata": {},
   "outputs": [
    {
     "name": "stdout",
     "output_type": "stream",
     "text": [
      "17\n"
     ]
    }
   ],
   "source": [
    "texte = \"Homme libre, toujours tu chériras la mer ! La mer est ton miroir ; tu contemples ton âme Dans le déroulement infini de sa lame, Et ton esprit n'est pas un gouffre moins amer.\"\n",
    "compteur=0\n",
    "for lettre in texte :\n",
    "    if lettre == \"e\" :\n",
    "        compteur += 1\n",
    "        #print(compteur)\n",
    "print(compteur)"
   ]
  },
  {
   "cell_type": "markdown",
   "id": "f3f20c07",
   "metadata": {},
   "source": [
    "Dans notre boucle, on énumère lettre après lettre de notre texte : \n",
    "- Si la lettre est \"e\", on rajoute 1 à notre compteur. \n",
    "- Sinon on ne fait rien "
   ]
  },
  {
   "cell_type": "markdown",
   "id": "11bb28e1",
   "metadata": {},
   "source": [
    "### 2. Les listes\n",
    "> On peut énumérer une liste élément par élément avec une boucle for tout simplement en remplaçant range par la liste que l'on veut énumérer. Par exemple, pour afficher les éléments d'une liste :"
   ]
  },
  {
   "cell_type": "code",
   "execution_count": 5,
   "id": "0c466492",
   "metadata": {},
   "outputs": [
    {
     "name": "stdout",
     "output_type": "stream",
     "text": [
      "1\n",
      "arbre\n",
      "True\n",
      "2.564\n",
      "Bonjour !\n"
     ]
    }
   ],
   "source": [
    "liste = [ 1, \"arbre\", True, 2.564, \"Bonjour !\"]\n",
    "for k in liste: \n",
    "    print(k)"
   ]
  },
  {
   "cell_type": "markdown",
   "id": "e214a87a",
   "metadata": {},
   "source": [
    "### 3. L'instruction break\n",
    "> L'instruction break permet d'arrêter une boucle. Par exemple si on cherche quelque chose et dès qu'on l'a trouvé, on peut s'arrêter\n",
    "\n",
    "Par exemple, supposons qu'on cherche à savoir si une chaine de caractère contient un \"x\" ou pas, autrement dit, dès qu'on en a trouvé un, on peut s'arrêter. On pourra le coder ainsi :"
   ]
  },
  {
   "cell_type": "code",
   "execution_count": 6,
   "id": "72b82771",
   "metadata": {
    "collapsed": true
   },
   "outputs": [
    {
     "name": "stdout",
     "output_type": "stream",
     "text": [
      "C\n",
      "e\n",
      "c\n",
      "i\n",
      " \n",
      "e\n",
      "s\n",
      "t\n",
      " \n",
      "u\n",
      "n\n",
      " \n",
      "t\n",
      "e\n",
      "x\n",
      "Un x a été trouvé !\n"
     ]
    }
   ],
   "source": [
    "texte = \"Ceci est un texte, tout ce qu'il y a de plus simple\"\n",
    "for lettre in texte : \n",
    "    print(lettre)\n",
    "    if lettre == \"x\" :\n",
    "        print(\"Un x a été trouvé !\")\n",
    "        break"
   ]
  },
  {
   "cell_type": "code",
   "execution_count": 8,
   "id": "6dc58f9b",
   "metadata": {},
   "outputs": [
    {
     "name": "stdout",
     "output_type": "stream",
     "text": [
      "x\n",
      "Un x a été trouvé !\n"
     ]
    }
   ],
   "source": [
    "texte = \"Ceci est un texte, tout ce qu'il y a de plus simple\"\n",
    "for lettre in texte : \n",
    "    if lettre == \"x\" :\n",
    "        print(lettre)\n",
    "        print(\"Un x a été trouvé !\")\n",
    "        break   # => Arrête la boucle dès que un X a été trouvé"
   ]
  },
  {
   "cell_type": "markdown",
   "id": "540fb921",
   "metadata": {},
   "source": [
    "### 4. L'instruction continue\n",
    "> L'instruction continue permet de sauter une étape de la boucle.\n",
    "\n",
    "Supposons que nous voulions afficher l'inverse 1/n de nombres n dans une liste. Si n vaut 0, le calcul 1/n sera impossible, il faudra donc sauter cette étape et passer au nombre suivant. Cela donnerait :"
   ]
  },
  {
   "cell_type": "code",
   "execution_count": 9,
   "id": "67c79561",
   "metadata": {
    "collapsed": true
   },
   "outputs": [
    {
     "name": "stdout",
     "output_type": "stream",
     "text": [
      "-0.25\n",
      "0.5\n",
      "0.16666666666666666\n",
      "1.0\n",
      "0.3333333333333333\n",
      "0.1\n"
     ]
    }
   ],
   "source": [
    "liste = [-4, 2, 6, 0, 1, 3, 0, 10]\n",
    "for n in liste:\n",
    "    if n==0:\n",
    "        continue\n",
    "    print(1/n)"
   ]
  },
  {
   "cell_type": "markdown",
   "id": "b88dc554",
   "metadata": {},
   "source": [
    "### 5. L'instruction else\n",
    "> Elle se place en fin de boucle et va de paire avec l'instruction break.\n",
    "\n",
    "Tout ce qui est indenté après le else ne sera executé que si la boucle s'est terminée entièrement (sans utilisation de break)"
   ]
  },
  {
   "cell_type": "code",
   "execution_count": null,
   "id": "822d9884",
   "metadata": {},
   "outputs": [],
   "source": [
    "texte = \"Ceci est une phrase, tout ce qu'il y a de plus simple\"\n",
    "for lettre in texte : \n",
    "    print(lettre)\n",
    "    if lettre == \"x\" :\n",
    "        print(\"Un x a été trouvé !\")\n",
    "        break\n",
    "else :\n",
    "    print(\"Pas de x trouvé !\")"
   ]
  },
  {
   "cell_type": "markdown",
   "id": "262d79b1",
   "metadata": {},
   "source": [
    "- Soit on trouve un \"x\" et donc la boucle s'arrête avec le break et donc ce qui est dans le else n'est pas exécuté. \n",
    "- Sinon on n'a pas trouvé de \"x\" et ce qui est dans le elsesera exécuté."
   ]
  },
  {
   "cell_type": "markdown",
   "id": "71bc8315",
   "metadata": {},
   "source": [
    "#### Exercice 1 :\n",
    "Ecrire un programme qui prend en entrée une liste et renvoit en sortie s'il contient 0 ou non. Pour cela, il faut renvoyer les chaines de caractères \"0 trouvé\" ou \"0 non trouvé\".\n",
    "- Entrée : Une liste de nombres nommée liste.\n",
    "- Sortie : \"0 trouvé\" ou \"0 non trouvé\" selon les cas.\n"
   ]
  },
  {
   "cell_type": "code",
   "execution_count": 10,
   "id": "257f6a10",
   "metadata": {},
   "outputs": [],
   "source": [
    "def ma_fonction(liste):\n",
    "    for nombre in liste:\n",
    "        if nombre == 0:\n",
    "            return \"0 trouvé\"\n",
    "    else:\n",
    "        return \"0 non trouvé\""
   ]
  },
  {
   "cell_type": "code",
   "execution_count": 15,
   "id": "0f036881",
   "metadata": {},
   "outputs": [
    {
     "data": {
      "text/plain": [
       "'0 non trouvé'"
      ]
     },
     "execution_count": 15,
     "metadata": {},
     "output_type": "execute_result"
    }
   ],
   "source": [
    "ma_fonction([1,2,3,0,5])"
   ]
  },
  {
   "cell_type": "markdown",
   "id": "949d5d7f",
   "metadata": {},
   "source": [
    "## 2. Les bonnes pratiques pour la boucle for\n",
    "> **LES CAS D'USAGE : LES BONNES PRATIQUES POUR LA BOUCLE FOR ET ...**\n",
    "> - list : enumerate() , zip(), dict\n",
    "> - range()\n",
    "> - continue"
   ]
  },
  {
   "cell_type": "markdown",
   "id": "fb35db28",
   "metadata": {},
   "source": [
    "### 2.1. Boucles `for` sur les listes avec enumerate() et zip()\n",
    "> ### 1 / Cas de `list`"
   ]
  },
  {
   "cell_type": "code",
   "execution_count": 1,
   "id": "188c83a0",
   "metadata": {},
   "outputs": [],
   "source": [
    "# Notation : concept du singulier (pour la variable) / pluriel (pour l'objet l'itérable)\n",
    "\n",
    "factures = []               # Objet ou collection d'objets ici est factures (au pluriel)\n",
    "for facture in factures:    # variable d'iteration ici est facture (le singulier)\n",
    "    print(facture)\n",
    "\n",
    "# Autre notation : lorsque le concept singulier / pluriel n'est pas possible\n",
    "\n",
    "collection = []\n",
    "for each in collection:\n",
    "    print(each)"
   ]
  },
  {
   "cell_type": "code",
   "execution_count": 45,
   "id": "591b9a44",
   "metadata": {},
   "outputs": [
    {
     "name": "stdout",
     "output_type": "stream",
     "text": [
      "d\n",
      "c\n",
      "b\n",
      "a\n"
     ]
    }
   ],
   "source": [
    "# La fonction reversed() : retourne la liste dans le sens inversé\n",
    "\n",
    "A = ['a', 'b', 'c', 'd']\n",
    "\n",
    "for each in reversed(A):\n",
    "    print(each)"
   ]
  },
  {
   "cell_type": "code",
   "execution_count": 4,
   "id": "5126dec6",
   "metadata": {},
   "outputs": [
    {
     "name": "stdout",
     "output_type": "stream",
     "text": [
      "0 Fac.1\n",
      "1 Fac.2\n",
      "2 Fac.3\n",
      "3 Fac.4\n"
     ]
    }
   ],
   "source": [
    "# Création de compteur\n",
    "\n",
    "factures = ['Fac.1', 'Fac.2', 'Fac.3', 'Fac.4']\n",
    "\n",
    "compteur = 0       # l'éqivalent est i\n",
    "for facture in factures:\n",
    "    print(compteur, facture)\n",
    "    compteur += 1              # NB: cette solution marche mais alourdi le code d'où le choix de enumerate()"
   ]
  },
  {
   "cell_type": "markdown",
   "id": "97dd6344",
   "metadata": {},
   "source": [
    "> ### 2 / Cas de `enumerate`"
   ]
  },
  {
   "cell_type": "code",
   "execution_count": 5,
   "id": "de6b3035",
   "metadata": {},
   "outputs": [
    {
     "name": "stdout",
     "output_type": "stream",
     "text": [
      "(0, 'Fac.1')\n",
      "(1, 'Fac.2')\n",
      "(2, 'Fac.3')\n",
      "(3, 'Fac.4')\n"
     ]
    }
   ],
   "source": [
    "# LESSON : La fonction enumerate()\n",
    "\n",
    "factures = ['Fac.1', 'Fac.2', 'Fac.3', 'Fac.4']\n",
    "for facture in enumerate(factures):\n",
    "    print(facture)                   # Retourne un compteur (sans qu'on l'ait défini) et une facture "
   ]
  },
  {
   "cell_type": "code",
   "execution_count": 90,
   "id": "c85e39ac",
   "metadata": {},
   "outputs": [
    {
     "name": "stdout",
     "output_type": "stream",
     "text": [
      "0 Fac.1\n",
      "1 Fac.2\n",
      "2 Fac.3\n",
      "3 Fac.4\n"
     ]
    }
   ],
   "source": [
    "factures = ['Fac.1', 'Fac.2', 'Fac.3', 'Fac.4']\n",
    "\n",
    "    # Pour une meilleure lisibilité, on écrira:\n",
    "    \n",
    "for compteur, facture in enumerate(factures): # ou <=> for i, facture, in enumerate(factures):\n",
    "     print(compteur, facture)    "
   ]
  },
  {
   "cell_type": "markdown",
   "id": "f1b2dce5",
   "metadata": {},
   "source": [
    "> ### 3 / Cas de `zip`"
   ]
  },
  {
   "cell_type": "code",
   "execution_count": 12,
   "id": "8b671e0a",
   "metadata": {},
   "outputs": [
    {
     "name": "stdout",
     "output_type": "stream",
     "text": [
      "<class 'tuple'> ('+', 'addition')\n",
      "<class 'tuple'> ('-', 'soustraction')\n",
      "<class 'tuple'> ('*', 'multiplication')\n",
      "<class 'tuple'> ('/', 'division')\n"
     ]
    }
   ],
   "source": [
    "# LE PRINCIPE\n",
    "symboles = ['+', '-', '*', '/']\n",
    "operations = ['addition', 'soustraction', 'multiplication', 'division']\n",
    "\n",
    "template = 'le symbole de l\\'opération {op} est {sym}'\n",
    "\n",
    "for objet in zip(symboles, operations):\n",
    "    print(type(objet), objet)"
   ]
  },
  {
   "cell_type": "code",
   "execution_count": 9,
   "id": "e82ccafa",
   "metadata": {},
   "outputs": [
    {
     "name": "stdout",
     "output_type": "stream",
     "text": [
      "le symbole de l'opération modullo est %\n"
     ]
    }
   ],
   "source": [
    "    # Plus proprement, on écrira:\n",
    "\n",
    "symboles = ['+', '-', '*', '/', '%']\n",
    "operations = ['addition', 'soustraction', 'multiplication', 'division', 'modullo']\n",
    "\n",
    "template = 'le symbole de l\\'opération {op} est {sym}'\n",
    "\n",
    "for symbole, operation in zip(symboles, operations):\n",
    "     message = template.format(op=operation, \n",
    "                               sym=symbole)\n",
    "        \n",
    "    print(message)"
   ]
  },
  {
   "cell_type": "code",
   "execution_count": 17,
   "id": "d353aff8",
   "metadata": {},
   "outputs": [
    {
     "name": "stdout",
     "output_type": "stream",
     "text": [
      "+ addition\n",
      "- soustraction\n",
      "* multiplication\n",
      "/ division\n",
      "% modullo\n"
     ]
    }
   ],
   "source": [
    "# Plus proprement, on écrira:\n",
    "\n",
    "symboles = ['+', '-', '*', '/', '%']\n",
    "operations = ['addition', 'soustraction', 'multiplication', 'division', 'modullo']\n",
    "\n",
    "for symbole, operation in zip(symboles, operations):\n",
    "    print(symbole, operation)"
   ]
  },
  {
   "cell_type": "markdown",
   "id": "f74b78c0",
   "metadata": {},
   "source": [
    "### 2.2. Boucle `for` sur les `dictionnaires`"
   ]
  },
  {
   "cell_type": "code",
   "execution_count": 72,
   "id": "fd43e9c7",
   "metadata": {},
   "outputs": [
    {
     "name": "stdout",
     "output_type": "stream",
     "text": [
      "addition +\n",
      "soustraction -\n",
      "multiplication *\n",
      "division /\n",
      "modullo %\n",
      "-----------------------------------\n",
      "('addition', '+')\n",
      "('soustraction', '-')\n",
      "('multiplication', '*')\n",
      "('division', '/')\n",
      "('modullo', '%')\n"
     ]
    }
   ],
   "source": [
    "# le dictionnaire\n",
    "operations = {'addition': '+',\n",
    "              'soustraction': '-', \n",
    "              'multiplication': '*',\n",
    "              'division': '/', \n",
    "              'modullo': '%'}\n",
    "    \n",
    "    # Pour boucler sur le dictionnaire et retourner cle et valeur il faut:\n",
    "for operation, symbole in operations.items():\n",
    "    print(operation, symbole)\n",
    "\n",
    "print('-----------------------------------')\n",
    "    \n",
    "    # Ou plus simplement\n",
    "for each in operations.items():\n",
    "    print(each)"
   ]
  },
  {
   "cell_type": "code",
   "execution_count": 67,
   "id": "5769627f",
   "metadata": {},
   "outputs": [
    {
     "name": "stdout",
     "output_type": "stream",
     "text": [
      "addition +\n",
      "soustraction -\n",
      "multiplication *\n",
      "division /\n",
      "modullo %\n",
      "-----------------------------------\n",
      "addition\n",
      "soustraction\n",
      "multiplication\n",
      "division\n",
      "modullo\n",
      "-----------------------------------\n",
      "+\n",
      "-\n",
      "*\n",
      "/\n",
      "%\n"
     ]
    }
   ],
   "source": [
    "# le dictionnaire\n",
    "operations = {'addition': '+',\n",
    "              'soustraction': '-', \n",
    "              'multiplication': '*',\n",
    "              'division': '/', \n",
    "              'modullo': '%'}\n",
    "\n",
    "# EN RESUME:\n",
    "\n",
    "    # Pour boucler sur les clés et les valeurs => la méthode:\n",
    "for k, v in operations.items():\n",
    "    print(k,v)\n",
    "\n",
    "print('-----------------------------------')\n",
    "    \n",
    "    # Pour iterer sur les clés => la methode:\n",
    "for k in operations.keys():\n",
    "    print(k)\n",
    "\n",
    "print('-----------------------------------')\n",
    "    \n",
    "    # Pour parcourir les valeurs => la méthode .value()\n",
    "for v in operations.values():\n",
    "    print(v)"
   ]
  },
  {
   "cell_type": "markdown",
   "id": "636636e7",
   "metadata": {},
   "source": [
    "### 2.3. Boucle `for` sur `range()`"
   ]
  },
  {
   "cell_type": "code",
   "execution_count": null,
   "id": "2f5a17aa",
   "metadata": {},
   "outputs": [],
   "source": [
    "# LESSON:\n",
    "# La fonction builtin range(): a pour objectif de donner un iterable contenant des \n",
    "  # objets triés :\n",
    "    \n",
    "    # 1er cas d'utilisation\n",
    "objet = range(5) # => BORNE DE FIN --> [0, 1, 2, 3, 4] => la borne 5 est EXCLUE\n",
    "                 # Par défaut => commence toujours à 0 si début non précisé\n",
    "    \n",
    "    # 2ième cas d'utilisation\n",
    "objet = range(2, 8)      # => (DEBUT, FIN) => la borne de fin (8) est exclue\n",
    "\n",
    "   # 3ième cas d'utilisation\n",
    "objet = range(1, 10, 2) # => (DEBUT, FIN, STEP)"
   ]
  },
  {
   "cell_type": "markdown",
   "id": "fc3c3f83",
   "metadata": {},
   "source": [
    "> **Transformation d'objet de type range() en list**"
   ]
  },
  {
   "cell_type": "code",
   "execution_count": 19,
   "id": "59f94be4",
   "metadata": {},
   "outputs": [
    {
     "data": {
      "text/plain": [
       "range(0, 10)"
      ]
     },
     "execution_count": 19,
     "metadata": {},
     "output_type": "execute_result"
    }
   ],
   "source": [
    "# => il faut encapsuler l'objet retourné par range() dans le builtin list()\n",
    "\n",
    "objet = range(10)      # 1 - Création de l'objet de type range qui va de 0 à 10 exclu\n",
    "objet"
   ]
  },
  {
   "cell_type": "code",
   "execution_count": 21,
   "id": "5c073041",
   "metadata": {},
   "outputs": [
    {
     "name": "stdout",
     "output_type": "stream",
     "text": [
      "[0, 1, 2, 3, 4, 5, 6, 7, 8, 9]\n"
     ]
    }
   ],
   "source": [
    "objet = range(10)\n",
    "liste = list(objet)    # 2 - Conversion en liste\n",
    "\n",
    "print(liste)\n"
   ]
  },
  {
   "cell_type": "code",
   "execution_count": 22,
   "id": "5d1090fb",
   "metadata": {},
   "outputs": [
    {
     "name": "stdout",
     "output_type": "stream",
     "text": [
      "[0, 1, 2, 3, 4, 5, 6, 7, 8, 9, 10, 11, 12, 13, 14, 15, 16, 17, 18, 19]\n"
     ]
    }
   ],
   "source": [
    "# En pratique la transformation se fait en une ligne de code\n",
    "\n",
    "liste_nombres = list(range(0, 20))\n",
    "print(liste_nombres)"
   ]
  },
  {
   "cell_type": "markdown",
   "id": "eab7a499",
   "metadata": {},
   "source": [
    "> **Nombre négatif** : Privilégier reversed()"
   ]
  },
  {
   "cell_type": "code",
   "execution_count": 80,
   "id": "a38a0af3",
   "metadata": {},
   "outputs": [
    {
     "name": "stdout",
     "output_type": "stream",
     "text": [
      "15\n",
      "14\n",
      "13\n",
      "12\n",
      "11\n",
      "10\n",
      "9\n",
      "8\n",
      "7\n",
      "6\n",
      "5\n",
      "4\n",
      "3\n",
      "2\n"
     ]
    }
   ],
   "source": [
    "# Par ordre décroissant\n",
    "for i in reversed(range(2, 16)):\n",
    "    print(i)"
   ]
  },
  {
   "cell_type": "code",
   "execution_count": 81,
   "id": "6ffb0cef",
   "metadata": {
    "collapsed": true
   },
   "outputs": [
    {
     "name": "stdout",
     "output_type": "stream",
     "text": [
      "3\n",
      "5\n",
      "7\n",
      "9\n",
      "11\n",
      "13\n",
      "15\n",
      "17\n",
      "19\n",
      "21\n",
      "23\n",
      "25\n",
      "27\n"
     ]
    }
   ],
   "source": [
    "# Illustration range avec step => afficher les chiffres impairs\n",
    "for i in range(3, 28, 2):\n",
    "    print(i)\n"
   ]
  },
  {
   "cell_type": "markdown",
   "id": "f92ff24c",
   "metadata": {},
   "source": [
    "#### 1 / Itération directement sur `une liste` via range()\n",
    "> => La méthode la plus efficace"
   ]
  },
  {
   "cell_type": "code",
   "execution_count": 12,
   "id": "22bcc4ed",
   "metadata": {
    "scrolled": true
   },
   "outputs": [
    {
     "name": "stdout",
     "output_type": "stream",
     "text": [
      "girafe\n",
      "tigre\n",
      "singe\n",
      "souris\n"
     ]
    }
   ],
   "source": [
    "animaux = [\"girafe\", \"tigre\", \"singe\", \"souris\"]\n",
    "for animal in animaux:\n",
    "    print(animal)"
   ]
  },
  {
   "cell_type": "markdown",
   "id": "7d28a1cb",
   "metadata": {},
   "source": [
    "**2 / Itération directement sur `une tranche` d'une liste via range()**"
   ]
  },
  {
   "cell_type": "code",
   "execution_count": 9,
   "id": "e151afe8",
   "metadata": {},
   "outputs": [
    {
     "name": "stdout",
     "output_type": "stream",
     "text": [
      "tigre\n",
      "singe\n"
     ]
    }
   ],
   "source": [
    "# Itération sur une tranche\n",
    "\n",
    "animaux = [\"girafe\", \"tigre\", \"singe\", \"souris\"]\n",
    "for animal in animaux[1:3]:\n",
    "    print(animal)"
   ]
  },
  {
   "cell_type": "markdown",
   "id": "2c8f18ed",
   "metadata": {},
   "source": [
    "**3 / Itération sur les `indices` d'une liste via range()**\n",
    "> La variable i prendra les valeurs successives 0, 1, 2 et 3 et on accèdera à chaque élément de la liste animaux par son indice (i.e. animaux[i])"
   ]
  },
  {
   "cell_type": "code",
   "execution_count": 15,
   "id": "a9f587b1",
   "metadata": {},
   "outputs": [
    {
     "name": "stdout",
     "output_type": "stream",
     "text": [
      "girafe\n",
      "tigre\n",
      "singe\n",
      "souris\n"
     ]
    }
   ],
   "source": [
    "animaux = [\"girafe\", \"tigre\", \"singe\", \"souris\"]\n",
    "for i in range(4):\n",
    "    print(animaux[i])"
   ]
  },
  {
   "cell_type": "code",
   "execution_count": 24,
   "id": "8097ac73",
   "metadata": {},
   "outputs": [
    {
     "name": "stdout",
     "output_type": "stream",
     "text": [
      "L'animal 0 est un(e) girafe\n",
      "L'animal 1 est un(e) tigre\n",
      "L'animal 2 est un(e) singe\n",
      "L'animal 3 est un(e) souris\n"
     ]
    }
   ],
   "source": [
    "animaux = [\"girafe\", \"tigre\", \"singe\", \"souris\"]\n",
    "for i in range(len(animaux)):        # len(animaux) : syntaxe générale pr obtenir la longueur la liste\n",
    "    print(f\"L'animal {i} est un(e) {animaux[i]}\")"
   ]
  },
  {
   "cell_type": "markdown",
   "id": "7485f3b7",
   "metadata": {},
   "source": [
    "**4 / Itération sur les `éléments` et les `indices` d'une liste via range()**"
   ]
  },
  {
   "cell_type": "code",
   "execution_count": 25,
   "id": "9a4b5b13",
   "metadata": {},
   "outputs": [
    {
     "name": "stdout",
     "output_type": "stream",
     "text": [
      "L'animal 0 est un(e) girafe\n",
      "L'animal 1 est un(e) tigre\n",
      "L'animal 2 est un(e) singe\n",
      "L'animal 3 est un(e) souris\n"
     ]
    }
   ],
   "source": [
    "animaux = [\"girafe\", \"tigre\", \"singe\", \"souris\"]\n",
    "for i, animal in enumerate(animaux):\n",
    "    print(f\"L'animal {i} est un(e) {animaux[i]}\")"
   ]
  },
  {
   "cell_type": "markdown",
   "id": "417afa05",
   "metadata": {},
   "source": [
    "### Exercice 4   ||   Solution\n",
    "Ecrire un programme en langage Python qui affiche les 100 premiers nombres entiers"
   ]
  },
  {
   "cell_type": "code",
   "execution_count": null,
   "id": "794472c9",
   "metadata": {},
   "outputs": [],
   "source": [
    "# Il s'agit de parcourir les cents premiers nombres à l'aide de la boucle for dans range\n",
    "for i in range(100):\n",
    "    print(i)"
   ]
  },
  {
   "cell_type": "code",
   "execution_count": null,
   "id": "ccd74543",
   "metadata": {},
   "outputs": [],
   "source": []
  },
  {
   "cell_type": "markdown",
   "id": "1f2313f0",
   "metadata": {},
   "source": [
    "### Exercice 8 ||  Solution\n",
    "Ecrire un programme en Python qui demande à l'utilisateur de saisir un nombre entier n et de lui afficher la valeur de la somme 1 + 2 + … + n ="
   ]
  },
  {
   "cell_type": "code",
   "execution_count": null,
   "id": "d1f464e0",
   "metadata": {},
   "outputs": [],
   "source": [
    "# 1/ Demander à l'utilisateur d'écrire le nombre entier n\n",
    "n = int(input('Vous avez saisi un nombre n = '))\n",
    "\n",
    "# 2/ Définir et initialiser une variable auxilliaire j\n",
    "j = 0\n",
    "for i in range(n +1):\n",
    "    j = j + i\n",
    "print(\"La somme  1 + 2 + 3 + ...+ \",n,\" = \", j)"
   ]
  },
  {
   "cell_type": "code",
   "execution_count": null,
   "id": "ff3cdcfe",
   "metadata": {},
   "outputs": [],
   "source": []
  },
  {
   "cell_type": "markdown",
   "id": "7df413e7",
   "metadata": {},
   "source": [
    "### Exercice 9.\n",
    "Écrire un programme en Python qui demande à l'utilisateur de saisir un nombre entier n et de lui afficher n !"
   ]
  },
  {
   "cell_type": "code",
   "execution_count": null,
   "id": "800f94a2",
   "metadata": {},
   "outputs": [],
   "source": [
    "# 1/ Demander à l'utilisateur de saisir un nombre entier\n",
    "n = int(input('veuillez saisir un nombre entier n = '))\n",
    "\n",
    "# 2/ Définir et initialiser une variable auxilliaire\n",
    "j = 1 \n",
    "for i in range (1, n+1):\n",
    "    j = j*i\n",
    "    \n",
    "print(\"Factorielle de n est : \",n,\"! = : \", j)"
   ]
  },
  {
   "cell_type": "code",
   "execution_count": null,
   "id": "7ee756c2",
   "metadata": {},
   "outputs": [],
   "source": []
  },
  {
   "cell_type": "markdown",
   "id": "297a9a7c",
   "metadata": {},
   "source": [
    "### Exercice 11 || Solution\n",
    "Ecrire un programme en Python qui demande à l’utilisateur de saisir un nombre entier n et de lui afficher tous les diviseurs de ce nombre."
   ]
  },
  {
   "cell_type": "code",
   "execution_count": null,
   "id": "ab49c369",
   "metadata": {},
   "outputs": [],
   "source": [
    "# 1/ Demander à l'utilisateur de saisir un nombre entier n\n",
    "n = int(input('Veuillez saisir un nombre entier n: '))\n",
    "\n",
    "# 2/ Parcourir ts les nb entiers i inferieur ou égale à n\n",
    "for i in range(1, n + 1):\n",
    "    print(i)"
   ]
  },
  {
   "cell_type": "code",
   "execution_count": null,
   "id": "c815a26e",
   "metadata": {},
   "outputs": [],
   "source": [
    "# 1/ Demander à l'utilisateur de saisir un nombre entier n\n",
    "n = int(input('Veuillez saisir un nombre entier n: '))\n",
    "\n",
    "# 2/ Parcourir ts les nb entiers i inferieur ou égale à n\n",
    "for i in range(1, n + 1):\n",
    "        # Tester si (chaque) i est un diviseur de n => n modullo i est égale 0?\n",
    "    \n",
    "    if n % i == 0:\n",
    "        # Afficher tous les i diviseurs de n\n",
    "        \n",
    "        print(\"Le nombre \",i,\" est un diviseur de  \", n)    "
   ]
  },
  {
   "cell_type": "code",
   "execution_count": null,
   "id": "f3351d7e",
   "metadata": {},
   "outputs": [],
   "source": []
  },
  {
   "cell_type": "markdown",
   "id": "9a816d1a",
   "metadata": {},
   "source": [
    "### Exercice 12  ||  Solution\n",
    "1) - Ecrire un programme en Python qui demande à l’utilisateur de saisir un nombre entier n et de lui afficher la table de multiplication de ce nombre.\n",
    "\n",
    "2) - Améliorez le programme afin qu’il affiche les tables de multiplications de tous les nombres compris entre 1 et 9"
   ]
  },
  {
   "cell_type": "code",
   "execution_count": null,
   "id": "208c8610",
   "metadata": {},
   "outputs": [],
   "source": [
    "# 1/ Demander à l'utilisateur de saisir un nombre entier n\n",
    "n = int(input('Veuillez saisir un nombre entier n : '))\n",
    "\n",
    "    # Faire l'opération de multiplication à l'aide de la boucle for et range\n",
    "print('la table de multiplication de', n, 'est :')\n",
    "\n",
    "for i in range(1, 13):\n",
    "    table = n*i\n",
    "\n",
    "    print(n, 'x', i, '=', table)"
   ]
  },
  {
   "cell_type": "code",
   "execution_count": null,
   "id": "c10314fb",
   "metadata": {},
   "outputs": [],
   "source": [
    "# 2/ Pour afficher les tables de multiplication de tous les nombres compris entre 1 et 9\n",
    "    # => Il faut deux boucles imbriquées\n",
    "for n in range(1, 10):\n",
    "    print('---------------------------------')\n",
    "    print('la table de multiplication de', n, 'est :')\n",
    "   \n",
    "    for i in range(1, 13):\n",
    "        table = n*i\n",
    "        print(n, 'x', i, '=', table)"
   ]
  },
  {
   "cell_type": "code",
   "execution_count": null,
   "id": "bbf5582f",
   "metadata": {},
   "outputs": [],
   "source": []
  },
  {
   "cell_type": "markdown",
   "id": "3f5ffcd5",
   "metadata": {},
   "source": [
    "### Exercice 16  ||  Solution\n",
    "Ecrire un programme en langage Python qui permet de parcourir et afficher les caractères d’une variable du type chaine de caractères. Exemple pour s = « Python » , le programme affiche les caractères :\n",
    "> P\n",
    "> y\n",
    "> t\n",
    "> h\n",
    "> o\n",
    "> n"
   ]
  },
  {
   "cell_type": "code",
   "execution_count": null,
   "id": "acc5330d",
   "metadata": {},
   "outputs": [],
   "source": [
    "# 1/ => Demander à l'utilisateur de saisir une chaine de caractères\n",
    "s = input('veuillez saisir un mot ')\n",
    "\n",
    "# 2/ Définir la longueur du mot à saisir\n",
    "n = len(s)\n",
    "\n",
    "# 3/ Déterminer l'expression permettant de parcourir le mot\n",
    "for i in range(0, len(s)):\n",
    "    print(s[i])"
   ]
  },
  {
   "cell_type": "code",
   "execution_count": null,
   "id": "fc739887",
   "metadata": {},
   "outputs": [],
   "source": [
    "# 1/ => Demander à l'utilisateur de saisir une chaine de caractères\n",
    "s = input('veuillez saisir un mot ')\n",
    "\n",
    "# 2/ Parcourir ...\n",
    "for i in s:\n",
    "    print(i)"
   ]
  },
  {
   "cell_type": "code",
   "execution_count": null,
   "id": "e2b3c373",
   "metadata": {},
   "outputs": [],
   "source": []
  },
  {
   "cell_type": "markdown",
   "id": "cca7039c",
   "metadata": {},
   "source": [
    "### Exercice 18  ||  Solution\n",
    "Ecrire un programme en Python qui demande à l’utilisateur de saisir une chaine de caractère s et de lui renvoyer un message indiquant si la chaine contient la lettre 'a' tout en indiquant sa position sur la chaine. Exemple si l’utilisateur tape la chaine s = ‘langage’ le programme lui renvoie : La lettre 'a' se trouve à la position : 1 La lettre 'a' se trouve à la position : 4"
   ]
  },
  {
   "cell_type": "code",
   "execution_count": null,
   "id": "2bd48c74",
   "metadata": {},
   "outputs": [],
   "source": [
    "# 1/ Demander à l'utilisateur de saisir une chaine de caractères\n",
    "s = input('veuilez saisir un mot ')\n",
    "\n",
    "# 2/ Obtenir la longueur de la chaine s\n",
    "n = len(s)\n",
    "\n",
    "# 3/ Parcourir la chaine < s > tout en cherchant le caractère 'a'\n",
    "for i in range(0, n):\n",
    "    if s[i] == 'a':   # Tester si le caractère rencontré est égale à 'a'\n",
    "        print('la lettre a se trouve à la position', i, 'dans la chaine s')"
   ]
  },
  {
   "cell_type": "code",
   "execution_count": null,
   "id": "edc7b3ad",
   "metadata": {},
   "outputs": [],
   "source": []
  },
  {
   "cell_type": "markdown",
   "id": "5970b577",
   "metadata": {},
   "source": [
    "### Exercice 19  ||  Solution\n",
    "Ecrire un programme en Python qui permet de lister les chaines qui composent la liste l = [\"laptop\", \"iphone\", \"tablet\"] tout en indiquant la longueur de chaque chaine."
   ]
  },
  {
   "cell_type": "code",
   "execution_count": 1,
   "id": "010d7383",
   "metadata": {},
   "outputs": [
    {
     "name": "stdout",
     "output_type": "stream",
     "text": [
      "laptop est dans la liste l et il contient 6 caractères\n",
      "iphone est dans la liste l et il contient 6 caractères\n",
      "tablet est dans la liste l et il contient 6 caractères\n"
     ]
    }
   ],
   "source": [
    "# 1/ Soit l la liste de chaines de caractères\n",
    "l = [\"laptop\", \"iphone\", \"tablet\"]\n",
    "\n",
    "# 2/ Obtenir la longueur de la liste\n",
    "n = len(l)\n",
    "\n",
    "# 3/ Parcourir les éléments de la liste\n",
    "for i in range(0, n):\n",
    "    contenu = l[i]                # Identifier le contenu de la liste par leur index\n",
    "    print(contenu, 'est dans la liste l', 'et il contient', len(contenu), 'caractères')"
   ]
  },
  {
   "cell_type": "code",
   "execution_count": null,
   "id": "332b5195",
   "metadata": {},
   "outputs": [],
   "source": []
  },
  {
   "cell_type": "code",
   "execution_count": 2,
   "id": "bff7d311",
   "metadata": {},
   "outputs": [
    {
     "name": "stdout",
     "output_type": "stream",
     "text": [
      "laptop  is in list l, its length is:  6\n",
      "iphone  is in list l, its length is:  6\n",
      "tablet  is in list l, its length is:  6\n",
      "printer  is in list l, its length is:  7\n",
      "Ipad  is in list l, its length is:  4\n"
     ]
    }
   ],
   "source": [
    "# 1/ Soit l la liste de chaines de caractères\n",
    "l = [\"laptop\", \"iphone\", \"tablet\", \"printer\", \"Ipad\"]\n",
    "\n",
    "# 2/ Parcourir les éléments de la liste  l\n",
    "for x in l:\n",
    "    print(x, \" is in list l, its length is: \", len(x))"
   ]
  },
  {
   "cell_type": "code",
   "execution_count": null,
   "id": "93469aab",
   "metadata": {},
   "outputs": [],
   "source": []
  },
  {
   "cell_type": "code",
   "execution_count": null,
   "id": "4de9cc61",
   "metadata": {},
   "outputs": [],
   "source": []
  },
  {
   "cell_type": "code",
   "execution_count": null,
   "id": "4fa446ef",
   "metadata": {},
   "outputs": [],
   "source": [
    "# EN RESUME:\n",
    "\n",
    "    # Si début != 0 --> On utilise range(debut, fin)\n",
    "    # Si debut  = 0 --> On utilise range(fin)\n",
    "    \n",
    "    # Quel est le dernier nombre que je veux dans ma liste ou quel doit être la valeur \n",
    "       # de ma fin? => fin = dernier nombre que je veux + 1 \n",
    "    \n",
    "    # Quelle transformation je veux appliquer?\n",
    "        # nombre négatif ? => dans la boucle ecrire :\n",
    "for i in range():  # nombre croissant positif dans le range\n",
    "    i = -i      # revoir tuto\n",
    "    print(i)\n",
    "    \n",
    "        # nombre décroissant?\n",
    "# reversed\n",
    "\n",
    "        # Sauter un nombre?\n",
    "# range avec step range(debut, fin, step)"
   ]
  },
  {
   "cell_type": "markdown",
   "id": "66e05cfe",
   "metadata": {},
   "source": [
    "### 2.4. Boucle `for` avec `continue`"
   ]
  },
  {
   "cell_type": "code",
   "execution_count": null,
   "id": "edaf7ea3",
   "metadata": {},
   "outputs": [],
   "source": []
  },
  {
   "cell_type": "code",
   "execution_count": null,
   "id": "ed678d89",
   "metadata": {},
   "outputs": [],
   "source": []
  },
  {
   "cell_type": "markdown",
   "id": "070212c8",
   "metadata": {},
   "source": [
    "## 3. Exercices d'application"
   ]
  },
  {
   "cell_type": "markdown",
   "id": "e8cd55db",
   "metadata": {},
   "source": [
    "### Exercice 1 - Factoriser son code avec des boucles For\n",
    "> - Recopier le code puis exécuter le pour constater ce qu'il affiche. Puis remplacer le code par une boucle for qui obtient exactement le même résultat.\n",
    "> - Ensuite rajouter des éléments à notre liste pour bien vérifier que le bout de code s'adapte à la taille de la liste."
   ]
  },
  {
   "cell_type": "code",
   "execution_count": null,
   "id": "ba986f73",
   "metadata": {},
   "outputs": [],
   "source": [
    "collection = [\"A\", 'B', 'C']\n",
    "\n",
    "index = 0\n",
    "each = collection[index]\n",
    "print(each.lower())\n",
    "\n",
    "index = index + 1\n",
    "each = collection[index]\n",
    "print(each.lower())\n",
    "\n",
    "index = index + 1\n",
    "each = collection[index]\n",
    "print(each.lower())"
   ]
  },
  {
   "cell_type": "code",
   "execution_count": null,
   "id": "d28cd2e5",
   "metadata": {},
   "outputs": [],
   "source": []
  },
  {
   "cell_type": "code",
   "execution_count": 4,
   "id": "c068509e",
   "metadata": {},
   "outputs": [
    {
     "name": "stdout",
     "output_type": "stream",
     "text": [
      "a\n"
     ]
    }
   ],
   "source": [
    "collection = [\"A\", 'B', 'C']\n",
    "\n",
    "index = 0\n",
    "each = collection[index]\n",
    "print(each.lower())\n"
   ]
  },
  {
   "cell_type": "code",
   "execution_count": 18,
   "id": "fc3681b9",
   "metadata": {
    "scrolled": true
   },
   "outputs": [
    {
     "name": "stdout",
     "output_type": "stream",
     "text": [
      "a\n",
      "b\n",
      "c\n",
      "e\n",
      "z\n"
     ]
    }
   ],
   "source": [
    "collection = [\"A\", 'B', 'C', 'e', \"Z\"]\n",
    "\n",
    "for each in collection:\n",
    "    print(index.lower()) "
   ]
  },
  {
   "cell_type": "code",
   "execution_count": null,
   "id": "f4c9172a",
   "metadata": {},
   "outputs": [],
   "source": []
  },
  {
   "cell_type": "code",
   "execution_count": 20,
   "id": "8169e947",
   "metadata": {},
   "outputs": [
    {
     "ename": "TypeError",
     "evalue": "list indices must be integers or slices, not str",
     "output_type": "error",
     "traceback": [
      "\u001b[0;31m---------------------------------------------------------------------------\u001b[0m",
      "\u001b[0;31mTypeError\u001b[0m                                 Traceback (most recent call last)",
      "\u001b[0;32m<ipython-input-20-d7d4923c1671>\u001b[0m in \u001b[0;36m<module>\u001b[0;34m\u001b[0m\n\u001b[1;32m      2\u001b[0m \u001b[0;34m\u001b[0m\u001b[0m\n\u001b[1;32m      3\u001b[0m \u001b[0mindex\u001b[0m \u001b[0;34m=\u001b[0m \u001b[0mindex\u001b[0m \u001b[0;34m+\u001b[0m \u001b[0;34m'1'\u001b[0m\u001b[0;34m\u001b[0m\u001b[0;34m\u001b[0m\u001b[0m\n\u001b[0;32m----> 4\u001b[0;31m \u001b[0meach\u001b[0m \u001b[0;34m=\u001b[0m \u001b[0mcollection\u001b[0m\u001b[0;34m[\u001b[0m\u001b[0mindex\u001b[0m\u001b[0;34m]\u001b[0m\u001b[0;34m\u001b[0m\u001b[0;34m\u001b[0m\u001b[0m\n\u001b[0m\u001b[1;32m      5\u001b[0m \u001b[0mprint\u001b[0m\u001b[0;34m(\u001b[0m\u001b[0meach\u001b[0m\u001b[0;34m.\u001b[0m\u001b[0mlower\u001b[0m\u001b[0;34m(\u001b[0m\u001b[0;34m)\u001b[0m\u001b[0;34m)\u001b[0m\u001b[0;34m\u001b[0m\u001b[0;34m\u001b[0m\u001b[0m\n",
      "\u001b[0;31mTypeError\u001b[0m: list indices must be integers or slices, not str"
     ]
    }
   ],
   "source": [
    "collection = [\"A\", 'B', 'C']\n",
    "\n",
    "index = index + '1'        # D'où l'utilisation de la boucle for\n",
    "each = collection[index]\n",
    "print(each.lower())"
   ]
  },
  {
   "cell_type": "code",
   "execution_count": null,
   "id": "5f2822bc",
   "metadata": {},
   "outputs": [],
   "source": []
  },
  {
   "cell_type": "markdown",
   "id": "83d1b04d",
   "metadata": {},
   "source": [
    "### Exercice 2 - Bien choisir ses noms de variables\n",
    "> - Que va afficher le code ci-dessous? Décrivez en une phrase simple ce que fait ce bout de code.\n",
    "> - Ensuite recopiez-le puis exécutez-le pour vérifier votre réponse.\n",
    "> - Après, renommez les variables pour leur donner un nom explicite en suivant la nomenclature ci-dessous.\n",
    "\n",
    "    liste -> nombres_pairs\n",
    "    each -> nombre_pair\n",
    "    result -> carré\n",
    "    Est-il plus facile de décrire ce que fait le code en une phrase après avoir renommer les variables?"
   ]
  },
  {
   "cell_type": "code",
   "execution_count": null,
   "id": "bda83688",
   "metadata": {},
   "outputs": [],
   "source": [
    "liste = [0, 2, 4, 6, 8, 10, 12, 14, 16, 18, 20, 22, 24, 26, 28]\n",
    "\n",
    "for each in liste:\n",
    "    result = each ** 2\n",
    "    print(result)"
   ]
  },
  {
   "cell_type": "code",
   "execution_count": null,
   "id": "3ccb027e",
   "metadata": {},
   "outputs": [],
   "source": []
  },
  {
   "cell_type": "code",
   "execution_count": 23,
   "id": "86cd8e86",
   "metadata": {
    "scrolled": true
   },
   "outputs": [
    {
     "name": "stdout",
     "output_type": "stream",
     "text": [
      "0\n",
      "4\n",
      "16\n",
      "36\n",
      "64\n",
      "100\n",
      "144\n",
      "196\n",
      "256\n",
      "324\n",
      "400\n",
      "484\n",
      "576\n",
      "676\n",
      "784\n"
     ]
    }
   ],
   "source": [
    "liste = [0, 2, 4, 6, 8, 10, 12, 14, 16, 18, 20, 22, 24, 26, 28]\n",
    "\n",
    "for each in liste:\n",
    "    result = each ** 2\n",
    "    print(result)"
   ]
  },
  {
   "cell_type": "code",
   "execution_count": 28,
   "id": "5e3e3e93",
   "metadata": {},
   "outputs": [
    {
     "name": "stdout",
     "output_type": "stream",
     "text": [
      "784\n",
      "0\n",
      "4\n",
      "16\n",
      "36\n",
      "64\n",
      "100\n",
      "144\n",
      "196\n",
      "256\n",
      "324\n",
      "400\n",
      "484\n",
      "576\n",
      "676\n"
     ]
    }
   ],
   "source": [
    "nombres_pairs = [0, 2, 4, 6, 8, 10, 12, 14, 16, 18, 20, 22, 24, 26, 28]\n",
    "\n",
    "for nombre_pair in nombres_pairs:\n",
    "    carré = nombre_pair ** 2\n",
    "    print(carré)\n",
    "\n",
    "    "
   ]
  },
  {
   "cell_type": "markdown",
   "id": "0c76e3e9",
   "metadata": {},
   "source": [
    "### Exercice 3 - Utilisez enumerate() plutôt que de créer des compteurs\n",
    "> Que va afficher le code ci-dessous? Que fait-il?\n",
    "\n",
    "Recopiez ce code puis exécutez-le pour vérifier votre réponse.\n",
    "\n",
    "Puis raccourcissez ce bout de code en utilisant la fonction built-in enumerate()."
   ]
  },
  {
   "cell_type": "code",
   "execution_count": null,
   "id": "080e4513",
   "metadata": {},
   "outputs": [],
   "source": [
    "multiples_de_trois = list(range(0, 100, 3))\n",
    "i = 0\n",
    "for each in multiples_de_trois:\n",
    "    # Ci-dessous, {i + 1} car i commence à zéro et on veut compter à partir de 1\n",
    "    print(f'Le multiple de trois n°{i + 1} est {each}.' )  \n",
    "    i = i + 1"
   ]
  },
  {
   "cell_type": "code",
   "execution_count": null,
   "id": "19a4495a",
   "metadata": {},
   "outputs": [],
   "source": []
  },
  {
   "cell_type": "code",
   "execution_count": 29,
   "id": "ca6f6b59",
   "metadata": {},
   "outputs": [
    {
     "name": "stdout",
     "output_type": "stream",
     "text": [
      "Le multiple de trois n°1 est 0.\n",
      "Le multiple de trois n°2 est 3.\n",
      "Le multiple de trois n°3 est 6.\n",
      "Le multiple de trois n°4 est 9.\n",
      "Le multiple de trois n°5 est 12.\n",
      "Le multiple de trois n°6 est 15.\n",
      "Le multiple de trois n°7 est 18.\n",
      "Le multiple de trois n°8 est 21.\n",
      "Le multiple de trois n°9 est 24.\n",
      "Le multiple de trois n°10 est 27.\n",
      "Le multiple de trois n°11 est 30.\n",
      "Le multiple de trois n°12 est 33.\n",
      "Le multiple de trois n°13 est 36.\n",
      "Le multiple de trois n°14 est 39.\n",
      "Le multiple de trois n°15 est 42.\n",
      "Le multiple de trois n°16 est 45.\n",
      "Le multiple de trois n°17 est 48.\n",
      "Le multiple de trois n°18 est 51.\n",
      "Le multiple de trois n°19 est 54.\n",
      "Le multiple de trois n°20 est 57.\n",
      "Le multiple de trois n°21 est 60.\n",
      "Le multiple de trois n°22 est 63.\n",
      "Le multiple de trois n°23 est 66.\n",
      "Le multiple de trois n°24 est 69.\n",
      "Le multiple de trois n°25 est 72.\n",
      "Le multiple de trois n°26 est 75.\n",
      "Le multiple de trois n°27 est 78.\n",
      "Le multiple de trois n°28 est 81.\n",
      "Le multiple de trois n°29 est 84.\n",
      "Le multiple de trois n°30 est 87.\n",
      "Le multiple de trois n°31 est 90.\n",
      "Le multiple de trois n°32 est 93.\n",
      "Le multiple de trois n°33 est 96.\n",
      "Le multiple de trois n°34 est 99.\n"
     ]
    }
   ],
   "source": [
    "multiples_de_trois = list(range(0, 100, 3))\n",
    "i = 0\n",
    "for each in multiples_de_trois:\n",
    "    # Ci-dessous, {i + 1} car i commence à zéro et on veut compter à partir de 1\n",
    "    print(f'Le multiple de trois n°{i + 1} est {each}.' )  \n",
    "    i = i + 1"
   ]
  },
  {
   "cell_type": "code",
   "execution_count": 31,
   "id": "3098ee5c",
   "metadata": {},
   "outputs": [
    {
     "name": "stdout",
     "output_type": "stream",
     "text": [
      "Le multiple de trois n°1 est 0.\n",
      "Le multiple de trois n°2 est 3.\n",
      "Le multiple de trois n°3 est 6.\n",
      "Le multiple de trois n°4 est 9.\n",
      "Le multiple de trois n°5 est 12.\n",
      "Le multiple de trois n°6 est 15.\n",
      "Le multiple de trois n°7 est 18.\n",
      "Le multiple de trois n°8 est 21.\n",
      "Le multiple de trois n°9 est 24.\n",
      "Le multiple de trois n°10 est 27.\n",
      "Le multiple de trois n°11 est 30.\n",
      "Le multiple de trois n°12 est 33.\n",
      "Le multiple de trois n°13 est 36.\n",
      "Le multiple de trois n°14 est 39.\n",
      "Le multiple de trois n°15 est 42.\n",
      "Le multiple de trois n°16 est 45.\n",
      "Le multiple de trois n°17 est 48.\n",
      "Le multiple de trois n°18 est 51.\n",
      "Le multiple de trois n°19 est 54.\n",
      "Le multiple de trois n°20 est 57.\n",
      "Le multiple de trois n°21 est 60.\n",
      "Le multiple de trois n°22 est 63.\n",
      "Le multiple de trois n°23 est 66.\n",
      "Le multiple de trois n°24 est 69.\n",
      "Le multiple de trois n°25 est 72.\n",
      "Le multiple de trois n°26 est 75.\n",
      "Le multiple de trois n°27 est 78.\n",
      "Le multiple de trois n°28 est 81.\n",
      "Le multiple de trois n°29 est 84.\n",
      "Le multiple de trois n°30 est 87.\n",
      "Le multiple de trois n°31 est 90.\n",
      "Le multiple de trois n°32 est 93.\n",
      "Le multiple de trois n°33 est 96.\n",
      "Le multiple de trois n°34 est 99.\n"
     ]
    }
   ],
   "source": [
    "multiples_de_trois = list(range(0, 100, 3))\n",
    "\n",
    "for i, each in enumerate(multiples_de_trois):\n",
    "    # Ci-dessous, {i + 1} car i commence à zéro et on veut compter à partir de 1\n",
    "    print(f'Le multiple de trois n°{i + 1} est {each}.' )  \n",
    "   "
   ]
  },
  {
   "cell_type": "markdown",
   "id": "56421c0d",
   "metadata": {},
   "source": [
    "### Exercice 4 - Utilisez zip() pour itérer en parallèle sur deux listes distinctes.\n",
    "> Que va afficher le code ci-dessous? \n",
    "\n",
    "Que fait-il?\n",
    "\n",
    "Recopiez ce code puis exécutez-le pour vérifier votre réponse.\n",
    "\n",
    "Puis raccourcissez la deuxième boucle en utilisant la fonction built-in zip().\n",
    "\n",
    "Trouvez-vous le code plus facile à lire après avoir fait la modification?\n"
   ]
  },
  {
   "cell_type": "code",
   "execution_count": null,
   "id": "7a27b778",
   "metadata": {},
   "outputs": [],
   "source": [
    "nombres = list(range(1, 20))\n",
    "racines_carrées = []\n",
    "# Cette boucle nous permet de créer une liste des racines carrés des nombre de 1 à 19\n",
    "for nombre in nombres:\n",
    "    racine = nombre ** 0.5\n",
    "    racines_carrées.append(racine)\n",
    "    \n",
    "# Remplacez la deuxième boucle par une plus succinte en utilisant zip(...)\n",
    "for i in range(len(racines_carrées)):\n",
    "    nombre = nombres[i]\n",
    "    racine = racines_carrées[i]\n",
    "    print(f'La racine carrée du nombre {nombre} est {racine}.')"
   ]
  },
  {
   "cell_type": "code",
   "execution_count": null,
   "id": "a04e704c",
   "metadata": {},
   "outputs": [],
   "source": []
  },
  {
   "cell_type": "code",
   "execution_count": 36,
   "id": "68f6180f",
   "metadata": {},
   "outputs": [
    {
     "name": "stdout",
     "output_type": "stream",
     "text": [
      "La racine carrée du nombre 1 est 1.0.\n",
      "La racine carrée du nombre 2 est 1.4142135623730951.\n",
      "La racine carrée du nombre 3 est 1.7320508075688772.\n",
      "La racine carrée du nombre 4 est 2.0.\n",
      "La racine carrée du nombre 5 est 2.23606797749979.\n",
      "La racine carrée du nombre 6 est 2.449489742783178.\n",
      "La racine carrée du nombre 7 est 2.6457513110645907.\n",
      "La racine carrée du nombre 8 est 2.8284271247461903.\n",
      "La racine carrée du nombre 9 est 3.0.\n",
      "La racine carrée du nombre 10 est 3.1622776601683795.\n",
      "La racine carrée du nombre 11 est 3.3166247903554.\n",
      "La racine carrée du nombre 12 est 3.4641016151377544.\n",
      "La racine carrée du nombre 13 est 3.605551275463989.\n",
      "La racine carrée du nombre 14 est 3.7416573867739413.\n",
      "La racine carrée du nombre 15 est 3.872983346207417.\n",
      "La racine carrée du nombre 16 est 4.0.\n",
      "La racine carrée du nombre 17 est 4.123105625617661.\n",
      "La racine carrée du nombre 18 est 4.242640687119285.\n",
      "La racine carrée du nombre 19 est 4.358898943540674.\n"
     ]
    }
   ],
   "source": [
    "nombres = list(range(1, 20))\n",
    "racines_carrées = []\n",
    "\n",
    "for nombre in nombres:\n",
    "    racine = nombre ** 0.5\n",
    "    racines_carrées.append(racine)\n",
    "\n",
    "for i in range(len(racines_carrées)):\n",
    "    nombre = nombres[i]\n",
    "    racine = racines_carrées[i]\n",
    "    print(f'La racine carrée du nombre {nombre} est {racine}.')"
   ]
  },
  {
   "cell_type": "code",
   "execution_count": 43,
   "id": "e7a706cd",
   "metadata": {},
   "outputs": [
    {
     "name": "stdout",
     "output_type": "stream",
     "text": [
      "La racine carrée du nombre 1 est 1.0.\n",
      "La racine carrée du nombre 2 est 1.4142135623730951.\n",
      "La racine carrée du nombre 3 est 1.7320508075688772.\n",
      "La racine carrée du nombre 4 est 2.0.\n",
      "La racine carrée du nombre 5 est 2.23606797749979.\n",
      "La racine carrée du nombre 6 est 2.449489742783178.\n",
      "La racine carrée du nombre 7 est 2.6457513110645907.\n",
      "La racine carrée du nombre 8 est 2.8284271247461903.\n",
      "La racine carrée du nombre 9 est 3.0.\n",
      "La racine carrée du nombre 10 est 3.1622776601683795.\n",
      "La racine carrée du nombre 11 est 3.3166247903554.\n",
      "La racine carrée du nombre 12 est 3.4641016151377544.\n",
      "La racine carrée du nombre 13 est 3.605551275463989.\n",
      "La racine carrée du nombre 14 est 3.7416573867739413.\n",
      "La racine carrée du nombre 15 est 3.872983346207417.\n",
      "La racine carrée du nombre 16 est 4.0.\n",
      "La racine carrée du nombre 17 est 4.123105625617661.\n",
      "La racine carrée du nombre 18 est 4.242640687119285.\n",
      "La racine carrée du nombre 19 est 4.358898943540674.\n"
     ]
    }
   ],
   "source": [
    "nombres = list(range(1, 20))\n",
    "racines_carrées = []\n",
    "\n",
    "for nombre in nombres:\n",
    "    racine = nombre ** 0.5\n",
    "    racines_carrées.append(racine)\n",
    "\n",
    "for nombre, racine in zip(nombres, racines_carrées):\n",
    "    print(f'La racine carrée du nombre {nombre} est {racine}.')"
   ]
  },
  {
   "cell_type": "code",
   "execution_count": null,
   "id": "792e99a3",
   "metadata": {},
   "outputs": [],
   "source": []
  },
  {
   "cell_type": "markdown",
   "id": "77f6d0d8",
   "metadata": {},
   "source": [
    "### Exercice 5 - Utilisez reversed() pour inverser l'ordre de lecture d'une liste.\n",
    "> Que va afficher le code ci-dessous?\n",
    "\n",
    "Modifier la boucle pour obtenir le même résultat mais en utilisant le built-in reversed(..).\n",
    "\n",
    "Trouvez-vous que le code se lit plus facilement après modification?\n",
    "\n",
    "Pour votre culture générale: En programmation il est courant d'utiliser `i` comme nom de la variable d'index. Et si on a besoin d'un second index au même moment, on va lui donner le nom d'une lettre après `i`.. Donc `j` puis `k` et ainsi de suite."
   ]
  },
  {
   "cell_type": "code",
   "execution_count": null,
   "id": "591548e0",
   "metadata": {},
   "outputs": [],
   "source": [
    "# Afficher les nombres de 1 à 30 en ordre décroissant (commencer par 30)\n",
    "un_à_trente = list(range(0, 30+1))\n",
    "for i in range(len(un_à_trente)):\n",
    "    j = -(i + 1)  # Ici on transforme un index positif en index négatif pour commencer par la fin de la liste\n",
    "    print(un_à_trente[j])"
   ]
  },
  {
   "cell_type": "code",
   "execution_count": null,
   "id": "7da9cfdc",
   "metadata": {},
   "outputs": [],
   "source": []
  },
  {
   "cell_type": "code",
   "execution_count": 45,
   "id": "43f73b1d",
   "metadata": {},
   "outputs": [
    {
     "name": "stdout",
     "output_type": "stream",
     "text": [
      "30\n",
      "29\n",
      "28\n",
      "27\n",
      "26\n",
      "25\n",
      "24\n",
      "23\n",
      "22\n",
      "21\n",
      "20\n",
      "19\n",
      "18\n",
      "17\n",
      "16\n",
      "15\n",
      "14\n",
      "13\n",
      "12\n",
      "11\n",
      "10\n",
      "9\n",
      "8\n",
      "7\n",
      "6\n",
      "5\n",
      "4\n",
      "3\n",
      "2\n",
      "1\n",
      "0\n"
     ]
    }
   ],
   "source": [
    "# Afficher les nombres de 1 à 30 en ordre décroissant (commencer par 30)\n",
    "un_à_trente = list(range(0, 30+1))\n",
    "for i in range(len(un_à_trente)):\n",
    "    j = -(i + 1)  # Ici on transforme un index positif en index négatif pour commencer par la fin de la liste\n",
    "    print(un_à_trente[j])"
   ]
  },
  {
   "cell_type": "code",
   "execution_count": 51,
   "id": "24577ca3",
   "metadata": {},
   "outputs": [
    {
     "name": "stdout",
     "output_type": "stream",
     "text": [
      "30\n",
      "29\n",
      "28\n",
      "27\n",
      "26\n",
      "25\n",
      "24\n",
      "23\n",
      "22\n",
      "21\n",
      "20\n",
      "19\n",
      "18\n",
      "17\n",
      "16\n",
      "15\n",
      "14\n",
      "13\n",
      "12\n",
      "11\n",
      "10\n",
      "9\n",
      "8\n",
      "7\n",
      "6\n",
      "5\n",
      "4\n",
      "3\n",
      "2\n",
      "1\n",
      "0\n"
     ]
    }
   ],
   "source": [
    "# Afficher les nombres de 1 à 30 en ordre décroissant (commencer par 30)\n",
    "\n",
    "un_à_trente = list(range(0, 30+1))\n",
    "for nombre in reversed(un_à_trente):\n",
    "   \n",
    "    print(nombre)"
   ]
  },
  {
   "cell_type": "markdown",
   "id": "e4a5165c",
   "metadata": {},
   "source": [
    "### Exercice 6 - Utilisez .items() pour itérer sur les éléments d'un dict.\n",
    "> Que va afficher le code ci-dessous? \n",
    "\n",
    "Bien que cette manière d'itérer sur les clefs et les valeurs d'un dictionnaire soit tout à fait valable, modifiez la boucle pour utiliser la méthode de dictionnaires .items() et parvenir au même résultat."
   ]
  },
  {
   "cell_type": "code",
   "execution_count": null,
   "id": "201ea5b0",
   "metadata": {},
   "outputs": [],
   "source": [
    "menu = {'Poisson':100,\n",
    "        'Végé'   : 40,\n",
    "        'Pizza'  : 70,}\n",
    "\n",
    "for plat in menu:\n",
    "    prix = menu[plat]\n",
    "    print(f'Le cout du plat {plat} est {prix}€')"
   ]
  },
  {
   "cell_type": "code",
   "execution_count": null,
   "id": "c73de30f",
   "metadata": {},
   "outputs": [],
   "source": []
  },
  {
   "cell_type": "code",
   "execution_count": 52,
   "id": "5aba4e0a",
   "metadata": {},
   "outputs": [
    {
     "name": "stdout",
     "output_type": "stream",
     "text": [
      "Le cout du plat Poisson est 100€\n",
      "Le cout du plat Végé est 40€\n",
      "Le cout du plat Pizza est 70€\n"
     ]
    }
   ],
   "source": [
    "menu = {'Poisson':100,\n",
    "        'Végé'   : 40,\n",
    "        'Pizza'  : 70,}\n",
    "\n",
    "for plat in menu:\n",
    "    prix = menu[plat]\n",
    "    print(f'Le cout du plat {plat} est {prix}€')"
   ]
  },
  {
   "cell_type": "code",
   "execution_count": 53,
   "id": "99af012f",
   "metadata": {},
   "outputs": [
    {
     "name": "stdout",
     "output_type": "stream",
     "text": [
      "Le cout du plat Poisson est 100€\n",
      "Le cout du plat Végé est 40€\n",
      "Le cout du plat Pizza est 70€\n"
     ]
    }
   ],
   "source": [
    "menu = {'Poisson':100,\n",
    "        'Végé'   : 40,\n",
    "        'Pizza'  : 70,}\n",
    "\n",
    "for plat, prix in menu.items():\n",
    "    print(f'Le cout du plat {plat} est {prix}€')"
   ]
  },
  {
   "cell_type": "code",
   "execution_count": null,
   "id": "a0930896",
   "metadata": {},
   "outputs": [],
   "source": []
  },
  {
   "cell_type": "markdown",
   "id": "801f8493",
   "metadata": {},
   "source": [
    "### Exercice 7 - Utilisez `continue` pour ignorer des cas dans une boucle FOR\n",
    "> Je voulais écrire un script qui me permet d'afficher le nom de tous les fichiers .mp3 que j'ai dans mes_fichiers. Pouvez-vous m'aider et corriger le bout de code s'il vous plaît? (Si possible) "
   ]
  },
  {
   "cell_type": "code",
   "execution_count": null,
   "id": "0d772f0a",
   "metadata": {},
   "outputs": [],
   "source": [
    "# rechercher tous les fichiers .mp3\n",
    "mes_fichiers = ['musique_rock.mp3', 'fast_and_furious_18.MP4',\n",
    "                'twilight_4_le_retour.MP4', 'game_of_thrones_S1E1.mp4',\n",
    "                'musique_zumba.MP3', 'musique_techno.mp3',\n",
    "                'avengers_5.mp4', 'podcast_cool.MP3']\n",
    "\n",
    "for fichier in mes_fichiers:\n",
    "    ext = fichier.split('.')[-1]\n",
    "    if ext != '.MP3':\n",
    "        continue\n",
    "    print(fichier)"
   ]
  },
  {
   "cell_type": "code",
   "execution_count": null,
   "id": "fdeb3f9b",
   "metadata": {},
   "outputs": [],
   "source": [
    "NB: A refaire => voir correction sur page exo"
   ]
  },
  {
   "cell_type": "code",
   "execution_count": null,
   "id": "09ae5d15",
   "metadata": {},
   "outputs": [],
   "source": []
  },
  {
   "cell_type": "markdown",
   "id": "61232fba",
   "metadata": {},
   "source": [
    "### Exercice 8 - We need to go deeper, les boucles FOR imbriquées.\n",
    "Souvenez-vous de l'époque fastidieuses où l'on devait apprendre les tables de multiplications?\n",
    "\n",
    "Cette époque est révolue.\n",
    "\n",
    "Le bout de code ci-dessous permet d'afficher toutes les tables de multiplications que l'on souhaite.\n",
    "\n",
    "Prenez le temps de recopier ce bout de code et d'étudier son fonctionnement.\n",
    "\n",
    "Puis essayez d'apporter les modifications permettant de répondre aux requêtes suivantes.\n",
    "\n",
    "    1) Affichez les tables de multiplications de 11 à 20 plutôt que celles de 1 à 10.\n",
    "    2) Affichez des tables plus grandes qui vont de 0 à 19 plutôt que de 0 à 10.\n",
    "    3) Affichez le nombre dont c'est la table en deuxième plutôt qu'en premier. (Exemple: dans la table de 3, affichez \"10 x 3\" plutôt que \"3 x 10\")\n"
   ]
  },
  {
   "cell_type": "code",
   "execution_count": null,
   "id": "69b7cc22",
   "metadata": {},
   "outputs": [],
   "source": [
    "for i in range(1, 10+1):\n",
    "    print(f'Table de multiplication de {i}')\n",
    "    for j in range(10+1):\n",
    "        print(f'{i} x {j} = {i * j}')\n",
    "    print('\\n')"
   ]
  },
  {
   "cell_type": "code",
   "execution_count": null,
   "id": "447def3f",
   "metadata": {},
   "outputs": [],
   "source": []
  },
  {
   "cell_type": "markdown",
   "id": "8932606a",
   "metadata": {},
   "source": [
    "# Coding game"
   ]
  },
  {
   "cell_type": "code",
   "execution_count": null,
   "id": "f212b606",
   "metadata": {},
   "outputs": [],
   "source": []
  },
  {
   "cell_type": "code",
   "execution_count": null,
   "id": "02c2ea5d",
   "metadata": {},
   "outputs": [],
   "source": []
  },
  {
   "cell_type": "code",
   "execution_count": null,
   "id": "cb82d2eb",
   "metadata": {},
   "outputs": [],
   "source": []
  },
  {
   "cell_type": "code",
   "execution_count": null,
   "id": "d1b62753",
   "metadata": {},
   "outputs": [],
   "source": []
  }
 ],
 "metadata": {
  "kernelspec": {
   "display_name": "Python 3 (ipykernel)",
   "language": "python",
   "name": "python3"
  },
  "language_info": {
   "codemirror_mode": {
    "name": "ipython",
    "version": 3
   },
   "file_extension": ".py",
   "mimetype": "text/x-python",
   "name": "python",
   "nbconvert_exporter": "python",
   "pygments_lexer": "ipython3",
   "version": "3.8.11"
  }
 },
 "nbformat": 4,
 "nbformat_minor": 5
}
