{
 "cells": [
  {
   "cell_type": "markdown",
   "id": "519523c5",
   "metadata": {},
   "source": [
    "# Les fonctions en programmation"
   ]
  },
  {
   "cell_type": "markdown",
   "id": "e183ad4f",
   "metadata": {},
   "source": [
    "# 1. Les concepts de base\n",
    "## Introduction\n",
    "Les `fonctions` sont des bouts de codes qui ont une fonctionalité précise et sont déjà écrites pour nous et sauvegardées dans des fichiers python qu'on appelle `module`.\n",
    "> **Several good reasons for writing functions to do task :**\n",
    "> - => It’s time to prepare the data for your Machine Learning algorithms. Instead of just doing this manually, you should write functions to do that :\n",
    ">   - This will allow you to reproduce these transformations easily on any dataset (e.g.,the next time you get a fresh dataset).\n",
    ">   - You will gradually build a library of transformation functions that you can reuse in future projects.\n",
    ">   - You can use these functions in your live system to transform the new data before feeding it to your algorithms.\n",
    ">   - This will make it possible for you to easily try various transformations and see which combination of transformations works best.\n",
    "> - Voici quelques exemples de fonction prédéfinies bien connues:\n",
    ">   - input(), type(), int(), str(), print()"
   ]
  },
  {
   "cell_type": "markdown",
   "id": "fc2a6fd4",
   "metadata": {},
   "source": [
    "**`NB : poursuivre avec EXOs Fonctions`**"
   ]
  },
  {
   "cell_type": "markdown",
   "id": "5dcdf9c3",
   "metadata": {},
   "source": [
    "## 1.1. Principe et généralités"
   ]
  },
  {
   "cell_type": "code",
   "execution_count": 1,
   "id": "fff4ba57",
   "metadata": {},
   "outputs": [
    {
     "data": {
      "text/plain": [
       "3"
      ]
     },
     "execution_count": 1,
     "metadata": {},
     "output_type": "execute_result"
    }
   ],
   "source": [
    "len([0, 1, 3])"
   ]
  },
  {
   "cell_type": "markdown",
   "id": "9f9a2d97",
   "metadata": {},
   "source": [
    "> Voici ce qui se passe :\n",
    "> - 1. vous appelez len() en lui passant une liste en argument (ici la liste [0, 1, 2]) ;\n",
    "> - 2. la fonction calcule la longueur de cette liste ;\n",
    "> - 3. elle vous renvoie un entier égal à cette longueur."
   ]
  },
  {
   "cell_type": "code",
   "execution_count": 4,
   "id": "eae22393",
   "metadata": {},
   "outputs": [],
   "source": [
    "ma_liste = []\n",
    "ma_liste.append(5)"
   ]
  },
  {
   "cell_type": "markdown",
   "id": "bdef63d7",
   "metadata": {},
   "source": [
    "> Si vous appelez la méthode `.append()` (n'oubliez pas, une méthode est une fonction qui agit sur l'objet auquel elle est attachée par un point) :\n",
    "> - 1. Vous passez l'entier 5 en argument ;\n",
    "> - 2. la méthode append() ajoute l'entier 5 à l'objet ma_liste ;\n",
    "> - 3. et elle ne renvoie rien."
   ]
  },
  {
   "cell_type": "markdown",
   "id": "e8aa0f3e",
   "metadata": {},
   "source": [
    "## 1.2. Définition"
   ]
  },
  {
   "cell_type": "code",
   "execution_count": 7,
   "id": "156ae82f",
   "metadata": {},
   "outputs": [],
   "source": [
    "def carre(x):          # Fonction avec argument\n",
    "    return x**2"
   ]
  },
  {
   "cell_type": "code",
   "execution_count": 16,
   "id": "69dbc4aa",
   "metadata": {},
   "outputs": [
    {
     "data": {
      "text/plain": [
       "25"
      ]
     },
     "execution_count": 16,
     "metadata": {},
     "output_type": "execute_result"
    }
   ],
   "source": [
    "carre(5)"
   ]
  },
  {
   "cell_type": "code",
   "execution_count": 10,
   "id": "e3818c9a",
   "metadata": {},
   "outputs": [
    {
     "name": "stdout",
     "output_type": "stream",
     "text": [
      "25\n"
     ]
    }
   ],
   "source": [
    "print(carre(5))"
   ]
  },
  {
   "cell_type": "code",
   "execution_count": 14,
   "id": "b7a53e64",
   "metadata": {},
   "outputs": [],
   "source": [
    "resultat = carre(2)"
   ]
  },
  {
   "cell_type": "code",
   "execution_count": 15,
   "id": "f8039485",
   "metadata": {},
   "outputs": [
    {
     "name": "stdout",
     "output_type": "stream",
     "text": [
      "4\n"
     ]
    }
   ],
   "source": [
    "print(resultat)"
   ]
  },
  {
   "cell_type": "code",
   "execution_count": 17,
   "id": "0dcc71bc",
   "metadata": {},
   "outputs": [],
   "source": [
    "def hello():           # Fonction sans argument\n",
    "    print('bonjour')"
   ]
  },
  {
   "cell_type": "code",
   "execution_count": 19,
   "id": "3f50083b",
   "metadata": {},
   "outputs": [
    {
     "name": "stdout",
     "output_type": "stream",
     "text": [
      "bonjour\n"
     ]
    }
   ],
   "source": [
    "hello()"
   ]
  },
  {
   "cell_type": "markdown",
   "id": "34b5ff36",
   "metadata": {},
   "source": [
    "> Dans ce cas la fonction, hello() se contente d'afficher la chaîne de caractères \"bonjour\" à l'écran. \n",
    "> - Elle ne prend aucun argument et ne renvoie rien. \n",
    "> - Par conséquent, cela n'a pas de sens de vouloir récupérer dans une variable le résultat renvoyé par une telle fonction. \n",
    "> - => Si on essaie tout de même, Python affecte la valeur None qui signifie rien en anglais:"
   ]
  },
  {
   "cell_type": "code",
   "execution_count": 20,
   "id": "75411b03",
   "metadata": {},
   "outputs": [
    {
     "name": "stdout",
     "output_type": "stream",
     "text": [
      "bonjour\n"
     ]
    }
   ],
   "source": [
    "var = hello()"
   ]
  },
  {
   "cell_type": "code",
   "execution_count": 21,
   "id": "c6cda5de",
   "metadata": {},
   "outputs": [
    {
     "name": "stdout",
     "output_type": "stream",
     "text": [
      "None\n"
     ]
    }
   ],
   "source": [
    "print(var)"
   ]
  },
  {
   "cell_type": "markdown",
   "id": "374d829c",
   "metadata": {},
   "source": [
    "## 1.3. Passage d'arguments & Renvoi de résultats"
   ]
  },
  {
   "cell_type": "code",
   "execution_count": 24,
   "id": "2c8403dc",
   "metadata": {},
   "outputs": [],
   "source": [
    "def carre_cube(x):\n",
    "    return x**2, x**3"
   ]
  },
  {
   "cell_type": "code",
   "execution_count": 25,
   "id": "70d43fc5",
   "metadata": {},
   "outputs": [
    {
     "data": {
      "text/plain": [
       "(25, 125)"
      ]
     },
     "execution_count": 25,
     "metadata": {},
     "output_type": "execute_result"
    }
   ],
   "source": [
    "carre_cube(5)   # Les fonct° en python sont capables de renvoyer plusieurs objets à la fois\n",
    "\n",
    "# Renvoie un tuple de 2 éléments "
   ]
  },
  {
   "cell_type": "markdown",
   "id": "4f0c00f8",
   "metadata": {},
   "source": [
    "=> Pour qu'elle renvoie une liste > Voir ci-dessous :"
   ]
  },
  {
   "cell_type": "code",
   "execution_count": 26,
   "id": "502ecbdb",
   "metadata": {},
   "outputs": [],
   "source": [
    "def carre_cube(x):\n",
    "    return [x**2, x**3]   # -> obtenir le result ds une liste \n",
    "                               # => instruction à rétourner sera s/f de liste"
   ]
  },
  {
   "cell_type": "code",
   "execution_count": 27,
   "id": "e218d613",
   "metadata": {},
   "outputs": [
    {
     "data": {
      "text/plain": [
       "[16, 64]"
      ]
     },
     "execution_count": 27,
     "metadata": {},
     "output_type": "execute_result"
    }
   ],
   "source": [
    "carre_cube(4)"
   ]
  },
  {
   "cell_type": "markdown",
   "id": "66ee94bb",
   "metadata": {},
   "source": [
    "* Ce renvoi de plusieurs éléments à la fois est très pratique en conjonction avec l'affectation multiple:\n",
    "* Voir par exemple ci-dessous :\n",
    "  * => Cela permet de récupérer plusieurs valeurs renvoyées par une fonction et de les affecter à la volée à des variables différentes."
   ]
  },
  {
   "cell_type": "code",
   "execution_count": 30,
   "id": "3bfc5d54",
   "metadata": {},
   "outputs": [],
   "source": [
    "z1, z2 = carre_cube(3)"
   ]
  },
  {
   "cell_type": "code",
   "execution_count": 31,
   "id": "6ce127e5",
   "metadata": {},
   "outputs": [
    {
     "data": {
      "text/plain": [
       "9"
      ]
     },
     "execution_count": 31,
     "metadata": {},
     "output_type": "execute_result"
    }
   ],
   "source": [
    "z1"
   ]
  },
  {
   "cell_type": "code",
   "execution_count": 33,
   "id": "67856912",
   "metadata": {},
   "outputs": [
    {
     "data": {
      "text/plain": [
       "27"
      ]
     },
     "execution_count": 33,
     "metadata": {},
     "output_type": "execute_result"
    }
   ],
   "source": [
    "z2"
   ]
  },
  {
   "cell_type": "markdown",
   "id": "134647fb",
   "metadata": {},
   "source": [
    "## 1.4. Arguments positionnels et Arguments par mot-clé\n",
    "### 1. Fonction avec un nombre précis d'arguments attendus => Arguments positionnels"
   ]
  },
  {
   "cell_type": "code",
   "execution_count": 34,
   "id": "99b8e3aa",
   "metadata": {},
   "outputs": [],
   "source": [
    "def fois(x, y):      # => les argument x et y sont appelés arguments positionnels\n",
    "    return x*y"
   ]
  },
  {
   "cell_type": "code",
   "execution_count": 37,
   "id": "cd794f4d",
   "metadata": {},
   "outputs": [
    {
     "ename": "TypeError",
     "evalue": "fois() missing 1 required positional argument: 'y'",
     "output_type": "error",
     "traceback": [
      "\u001b[0;31m---------------------------------------------------------------------------\u001b[0m",
      "\u001b[0;31mTypeError\u001b[0m                                 Traceback (most recent call last)",
      "\u001b[0;32m/tmp/ipykernel_161401/2426918042.py\u001b[0m in \u001b[0;36m<module>\u001b[0;34m\u001b[0m\n\u001b[0;32m----> 1\u001b[0;31m \u001b[0mfois\u001b[0m\u001b[0;34m(\u001b[0m\u001b[0;36m3\u001b[0m\u001b[0;34m)\u001b[0m\u001b[0;34m\u001b[0m\u001b[0;34m\u001b[0m\u001b[0m\n\u001b[0m",
      "\u001b[0;31mTypeError\u001b[0m: fois() missing 1 required positional argument: 'y'"
     ]
    }
   ],
   "source": [
    "fois(3)  # Si on indique un seul argument => erreur"
   ]
  },
  {
   "cell_type": "code",
   "execution_count": 38,
   "id": "e3ff4749",
   "metadata": {},
   "outputs": [
    {
     "data": {
      "text/plain": [
       "15"
      ]
     },
     "execution_count": 38,
     "metadata": {},
     "output_type": "execute_result"
    }
   ],
   "source": [
    "fois(3, 5)"
   ]
  },
  {
   "cell_type": "markdown",
   "id": "da86c358",
   "metadata": {},
   "source": [
    "### 2. Fonction avec arguments facultatifs => Argument par mot-clé"
   ]
  },
  {
   "cell_type": "code",
   "execution_count": 39,
   "id": "72aeca38",
   "metadata": {},
   "outputs": [],
   "source": [
    "def fonct(x = 1):      # => l'argument défini ds la syntaxe est appelé argument par mot clé\n",
    "    return x"
   ]
  },
  {
   "cell_type": "code",
   "execution_count": 41,
   "id": "3b281f37",
   "metadata": {},
   "outputs": [
    {
     "data": {
      "text/plain": [
       "1"
      ]
     },
     "execution_count": 41,
     "metadata": {},
     "output_type": "execute_result"
    }
   ],
   "source": [
    "fonct()   # => cet appel va retourner la valeur (1) spécifiée pour l'argument x"
   ]
  },
  {
   "cell_type": "code",
   "execution_count": 40,
   "id": "9417b229",
   "metadata": {},
   "outputs": [
    {
     "data": {
      "text/plain": [
       "2"
      ]
     },
     "execution_count": 40,
     "metadata": {},
     "output_type": "execute_result"
    }
   ],
   "source": [
    "fonct(2)"
   ]
  },
  {
   "cell_type": "markdown",
   "id": "fdccb998",
   "metadata": {},
   "source": [
    "* ### Syntaxe à plusieurs arguments par mot-clé"
   ]
  },
  {
   "cell_type": "code",
   "execution_count": 12,
   "id": "37fb8c64",
   "metadata": {},
   "outputs": [],
   "source": [
    "def fonct(x=0, y=0, z=0):\n",
    "    return x, y, z"
   ]
  },
  {
   "cell_type": "code",
   "execution_count": 13,
   "id": "a77ee7db",
   "metadata": {},
   "outputs": [
    {
     "data": {
      "text/plain": [
       "(0, 0, 0)"
      ]
     },
     "execution_count": 13,
     "metadata": {},
     "output_type": "execute_result"
    }
   ],
   "source": [
    "fonct()"
   ]
  },
  {
   "cell_type": "code",
   "execution_count": 14,
   "id": "475d713a",
   "metadata": {},
   "outputs": [
    {
     "data": {
      "text/plain": [
       "(10, 0, 0)"
      ]
     },
     "execution_count": 14,
     "metadata": {},
     "output_type": "execute_result"
    }
   ],
   "source": [
    "fonct(10)"
   ]
  },
  {
   "cell_type": "code",
   "execution_count": 15,
   "id": "776af7aa",
   "metadata": {},
   "outputs": [
    {
     "data": {
      "text/plain": [
       "(15, 50, 0)"
      ]
     },
     "execution_count": 15,
     "metadata": {},
     "output_type": "execute_result"
    }
   ],
   "source": [
    "fonct(15, 50)"
   ]
  },
  {
   "cell_type": "markdown",
   "id": "123c6441",
   "metadata": {},
   "source": [
    "* On observe que pour l'instant, les arguments par mot-clé sont pris dans l'ordre dans lesquels on les passe lors de l'appel. \n",
    "* Comment pourrions-nous faire si on souhaitait préciser l'argument par mot-clé z et garder les valeurs de x et y par défaut ? \n",
    "    * => Simplement en précisant le nom de l'argument lors de l'appel :"
   ]
  },
  {
   "cell_type": "code",
   "execution_count": 16,
   "id": "a5b3a0e0",
   "metadata": {},
   "outputs": [
    {
     "data": {
      "text/plain": [
       "(0, 0, 15)"
      ]
     },
     "execution_count": 16,
     "metadata": {},
     "output_type": "execute_result"
    }
   ],
   "source": [
    "fonct(z=15)"
   ]
  },
  {
   "cell_type": "code",
   "execution_count": 17,
   "id": "c0267e7a",
   "metadata": {},
   "outputs": [
    {
     "data": {
      "text/plain": [
       "(16, 0, 3)"
      ]
     },
     "execution_count": 17,
     "metadata": {},
     "output_type": "execute_result"
    }
   ],
   "source": [
    "fonct(x=16, z=3)"
   ]
  },
  {
   "cell_type": "code",
   "execution_count": 18,
   "id": "113dbf28",
   "metadata": {},
   "outputs": [
    {
     "data": {
      "text/plain": [
       "(10, 0, 6)"
      ]
     },
     "execution_count": 18,
     "metadata": {},
     "output_type": "execute_result"
    }
   ],
   "source": [
    "fonct(10, z=6)"
   ]
  },
  {
   "cell_type": "code",
   "execution_count": 19,
   "id": "1711c52f",
   "metadata": {},
   "outputs": [
    {
     "ename": "SyntaxError",
     "evalue": "positional argument follows keyword argument (3439141272.py, line 1)",
     "output_type": "error",
     "traceback": [
      "\u001b[0;36m  File \u001b[0;32m\"/tmp/ipykernel_183981/3439141272.py\"\u001b[0;36m, line \u001b[0;32m1\u001b[0m\n\u001b[0;31m    fonct(x=10, 6)  # => Même dans les arguments par mot clé, l'argument par mot précisé doit\u001b[0m\n\u001b[0m                ^\u001b[0m\n\u001b[0;31mSyntaxError\u001b[0m\u001b[0;31m:\u001b[0m positional argument follows keyword argument\n"
     ]
    }
   ],
   "source": [
    "fonct(x=10, 6)  # => Même dans les arguments par mot clé, l'argument pour lequel le nom est précisé doit\n",
    "                   # se placer après ceux par défaut (ceux dont le nom n'est pas précisé)"
   ]
  },
  {
   "cell_type": "code",
   "execution_count": 49,
   "id": "26ecb2d7",
   "metadata": {},
   "outputs": [
    {
     "data": {
      "text/plain": [
       "(5, 10, 15)"
      ]
     },
     "execution_count": 49,
     "metadata": {},
     "output_type": "execute_result"
    }
   ],
   "source": [
    "fonct(z=15, y=10, x=5) # Python permet même de rentrer les arguments par mot-clé dans un ordre arbitraire :\n",
    "                          # Mais le résultat lui, est rendu ordonné à l'image des arg positionnels \n",
    "                            # par mot-clé de la fonction !!"
   ]
  },
  {
   "cell_type": "markdown",
   "id": "b594d796",
   "metadata": {},
   "source": [
    "### 3. Mélange d'arguments positionnels et d'arguments par mot-clé\n",
    "> Que se passe-t-il lorsque nous avons un mélange d'arguments positionnels et par mot-clé ? \n",
    "> * Et bien les arguments positionnels doivent toujours être placés avant les arguments par mot-clé :"
   ]
  },
  {
   "cell_type": "code",
   "execution_count": 50,
   "id": "8f1d2199",
   "metadata": {},
   "outputs": [],
   "source": [
    "def fonct(a,  b, x=0, y=0, z=0):\n",
    "    return a, b, x, y, z"
   ]
  },
  {
   "cell_type": "code",
   "execution_count": 51,
   "id": "c5ba22fc",
   "metadata": {},
   "outputs": [
    {
     "data": {
      "text/plain": [
       "(1, 1, 0, 0, 0)"
      ]
     },
     "execution_count": 51,
     "metadata": {},
     "output_type": "execute_result"
    }
   ],
   "source": [
    "fonct(1, 1)"
   ]
  },
  {
   "cell_type": "code",
   "execution_count": 52,
   "id": "3b18beeb",
   "metadata": {},
   "outputs": [
    {
     "data": {
      "text/plain": [
       "(2, 4, 0, 8, 0)"
      ]
     },
     "execution_count": 52,
     "metadata": {},
     "output_type": "execute_result"
    }
   ],
   "source": [
    "fonct(2, 4, y=8)"
   ]
  },
  {
   "cell_type": "code",
   "execution_count": 53,
   "id": "52c4348a",
   "metadata": {},
   "outputs": [
    {
     "ename": "SyntaxError",
     "evalue": "positional argument follows keyword argument (11955617.py, line 1)",
     "output_type": "error",
     "traceback": [
      "\u001b[0;36m  File \u001b[0;32m\"/tmp/ipykernel_161401/11955617.py\"\u001b[0;36m, line \u001b[0;32m1\u001b[0m\n\u001b[0;31m    fonct(x=3, z=2, 1, 5)\u001b[0m\n\u001b[0m                    ^\u001b[0m\n\u001b[0;31mSyntaxError\u001b[0m\u001b[0;31m:\u001b[0m positional argument follows keyword argument\n"
     ]
    }
   ],
   "source": [
    "fonct(x=3, z=2, 1, 5)  # --> Error => Arguments positionnels doivent être placés avant les arguments par mot-clé"
   ]
  },
  {
   "cell_type": "code",
   "execution_count": 54,
   "id": "e55721e7",
   "metadata": {
    "scrolled": true
   },
   "outputs": [
    {
     "ename": "TypeError",
     "evalue": "fonct() missing 2 required positional arguments: 'a' and 'b'",
     "output_type": "error",
     "traceback": [
      "\u001b[0;31m---------------------------------------------------------------------------\u001b[0m",
      "\u001b[0;31mTypeError\u001b[0m                                 Traceback (most recent call last)",
      "\u001b[0;32m/tmp/ipykernel_161401/46607810.py\u001b[0m in \u001b[0;36m<module>\u001b[0;34m\u001b[0m\n\u001b[0;32m----> 1\u001b[0;31m \u001b[0mfonct\u001b[0m\u001b[0;34m(\u001b[0m\u001b[0my\u001b[0m\u001b[0;34m=\u001b[0m\u001b[0;36m12\u001b[0m\u001b[0;34m)\u001b[0m\u001b[0;34m\u001b[0m\u001b[0;34m\u001b[0m\u001b[0m\n\u001b[0m",
      "\u001b[0;31mTypeError\u001b[0m: fonct() missing 2 required positional arguments: 'a' and 'b'"
     ]
    }
   ],
   "source": [
    "fonct(y=12)"
   ]
  },
  {
   "cell_type": "markdown",
   "id": "3cfa0963",
   "metadata": {},
   "source": [
    "=> On peut toujours passer les arguments par mot-clé dans un ordre arbitraire à partir du moment où on précise leur nom. \n",
    "* Par contre, si les deux arguments positionnels a et b ne sont pas passés à la fonction, Python renvoie une erreur"
   ]
  },
  {
   "cell_type": "markdown",
   "id": "4f3116df",
   "metadata": {},
   "source": [
    "**Conseils :**\n",
    "> - Préciser le nom des arguments par mot-clé lors de l'appel d'une fonction est une pratique que nous vous recommandons. Cela les distingue clairement des arguments positionnels.\n",
    "> - L'utilisation d'arguments par mot-clé est habituelle en Python. Elle permet de modifier le comportement par défaut de nombreuses fonctions. Par exemple, si on souhaite que la fonction print() n'affiche pas un retour à la ligne, on peut utiliser l'argument end :"
   ]
  },
  {
   "cell_type": "code",
   "execution_count": 56,
   "id": "d21d66bf",
   "metadata": {},
   "outputs": [
    {
     "name": "stdout",
     "output_type": "stream",
     "text": [
      "message\n"
     ]
    }
   ],
   "source": [
    "print('message')"
   ]
  },
  {
   "cell_type": "code",
   "execution_count": 55,
   "id": "c68af98a",
   "metadata": {},
   "outputs": [
    {
     "name": "stdout",
     "output_type": "stream",
     "text": [
      "message"
     ]
    }
   ],
   "source": [
    "print('message', end = '')"
   ]
  },
  {
   "cell_type": "markdown",
   "id": "dc13a389",
   "metadata": {},
   "source": [
    "## 1.5. Variables locales et variables globales"
   ]
  },
  {
   "cell_type": "markdown",
   "id": "0e06eb92",
   "metadata": {},
   "source": [
    "> - Une variable est dite `locale` lorsqu'elle est **créée dans une fonction**. Elle n'existera et ne sera visible que lors de l'exécution de ladite fonction.\n",
    "> - Une variable est dite `globale` lorsqu'elle est **créée dans le programme** principal. Elle sera visible partout dans le programme.\n",
    "> - Voir le site python Tutor pour visualisation de l'execution d'une fonction : https://pythontutor.com/visualize.html#mode=edit"
   ]
  },
  {
   "cell_type": "markdown",
   "id": "8071f721",
   "metadata": {},
   "source": [
    "## 1.6. Principe DRY\n",
    "> - L'acronyme DRY signifie Don't Repeat Yourself. \n",
    "> - Les fonctions permettent de satisfaire ce principe en évitant la duplication de code. \n",
    "> - En effet, plus un code est dupliqué plusieurs fois dans un programme, plus il sera source d'erreurs, notamment lorsqu'il faudra le faire évoluer."
   ]
  },
  {
   "cell_type": "code",
   "execution_count": 15,
   "id": "47a0e99d",
   "metadata": {},
   "outputs": [],
   "source": [
    "# Soit les codes convertissant plusieurs températures en dégré celsius\n",
    "\n",
    "temp_in_fahrenheit = 60"
   ]
  },
  {
   "cell_type": "code",
   "execution_count": 16,
   "id": "f642851b",
   "metadata": {},
   "outputs": [
    {
     "data": {
      "text/plain": [
       "15.555555555555557"
      ]
     },
     "execution_count": 16,
     "metadata": {},
     "output_type": "execute_result"
    }
   ],
   "source": [
    "temp_celcius1 = (temp_in_fahrenheit - 32) * (5/9)\n",
    "temp_celcius1"
   ]
  },
  {
   "cell_type": "code",
   "execution_count": 18,
   "id": "040a2b86",
   "metadata": {},
   "outputs": [
    {
     "data": {
      "text/plain": [
       "26.666666666666668"
      ]
     },
     "execution_count": 18,
     "metadata": {},
     "output_type": "execute_result"
    }
   ],
   "source": [
    "temp_in_fahrenheit = 80\n",
    "temp_celcius2 = (temp_in_fahrenheit - 32) * (5/9)\n",
    "temp_celcius2"
   ]
  },
  {
   "cell_type": "code",
   "execution_count": 20,
   "id": "e493c0f0",
   "metadata": {},
   "outputs": [
    {
     "data": {
      "text/plain": [
       "37.77777777777778"
      ]
     },
     "execution_count": 20,
     "metadata": {},
     "output_type": "execute_result"
    }
   ],
   "source": [
    "temp_in_fahrenheit = 100\n",
    "temp_celcius3 = (temp_in_fahrenheit - 32) * (5/9)\n",
    "temp_celcius3"
   ]
  },
  {
   "cell_type": "markdown",
   "id": "7d8b4de7",
   "metadata": {},
   "source": [
    "> La formule de conversion est : **temp_celsius = (temp_fahrenheit - 32) x (5/9)**\n",
    "> - En écrivant qu'une seule fois la formule de conversion dans une fonction, on applique le principe DRY car :\n",
    ">   - s'il y a une erreur dans la formule de conversion\n",
    ">   - Il faut alors reprendre les lignes de code de la formule et les corriger. \n",
    ">      - => Cela n'est pas efficace, surtout si le même code est utilisé à différents endroits dans le programme"
   ]
  },
  {
   "cell_type": "code",
   "execution_count": 30,
   "id": "112f737d",
   "metadata": {},
   "outputs": [],
   "source": [
    "def fahren_celsius(temp_fahren):\n",
    "    temp_celcius = (temp_fahren - 32)*(5/9)\n",
    "    return temp_celcius"
   ]
  },
  {
   "cell_type": "code",
   "execution_count": 31,
   "id": "e83fa264",
   "metadata": {},
   "outputs": [
    {
     "data": {
      "text/plain": [
       "15.555555555555557"
      ]
     },
     "execution_count": 31,
     "metadata": {},
     "output_type": "execute_result"
    }
   ],
   "source": [
    "temp_fahren = 60\n",
    "fahren_celsius(temp_fahren)"
   ]
  },
  {
   "cell_type": "code",
   "execution_count": 32,
   "id": "088059e0",
   "metadata": {},
   "outputs": [
    {
     "data": {
      "text/plain": [
       "26.666666666666668"
      ]
     },
     "execution_count": 32,
     "metadata": {},
     "output_type": "execute_result"
    }
   ],
   "source": [
    "temp_fahren = 80\n",
    "fahren_celsius(temp_fahren)"
   ]
  },
  {
   "cell_type": "code",
   "execution_count": 34,
   "id": "2e8a41f3",
   "metadata": {},
   "outputs": [
    {
     "data": {
      "text/plain": [
       "37.77777777777778"
      ]
     },
     "execution_count": 34,
     "metadata": {},
     "output_type": "execute_result"
    }
   ],
   "source": [
    "temp_fahren = 100\n",
    "fahren_celsius(temp_fahren)"
   ]
  },
  {
   "cell_type": "code",
   "execution_count": null,
   "id": "31fa0165",
   "metadata": {},
   "outputs": [],
   "source": []
  },
  {
   "cell_type": "code",
   "execution_count": 69,
   "id": "433d60b5",
   "metadata": {},
   "outputs": [
    {
     "name": "stdout",
     "output_type": "stream",
     "text": [
      "4\n"
     ]
    }
   ],
   "source": [
    "def calc_puissance(x, y):\n",
    "    puissance = x**y\n",
    "    return puissance\n",
    "print(calc_puissance(2,2))"
   ]
  },
  {
   "cell_type": "code",
   "execution_count": null,
   "id": "6600d4be",
   "metadata": {},
   "outputs": [],
   "source": []
  },
  {
   "cell_type": "markdown",
   "id": "f145d271",
   "metadata": {},
   "source": [
    "# 2. Appel d'une fonction dans une fonction"
   ]
  },
  {
   "cell_type": "code",
   "execution_count": null,
   "id": "805be6b6",
   "metadata": {},
   "outputs": [],
   "source": []
  },
  {
   "cell_type": "code",
   "execution_count": null,
   "id": "b322da4f",
   "metadata": {},
   "outputs": [],
   "source": []
  },
  {
   "cell_type": "code",
   "execution_count": null,
   "id": "e8deba9d",
   "metadata": {},
   "outputs": [],
   "source": []
  },
  {
   "cell_type": "code",
   "execution_count": null,
   "id": "1bc3e8b2",
   "metadata": {},
   "outputs": [],
   "source": []
  }
 ],
 "metadata": {
  "kernelspec": {
   "display_name": "Python 3 (ipykernel)",
   "language": "python",
   "name": "python3"
  },
  "language_info": {
   "codemirror_mode": {
    "name": "ipython",
    "version": 3
   },
   "file_extension": ".py",
   "mimetype": "text/x-python",
   "name": "python",
   "nbconvert_exporter": "python",
   "pygments_lexer": "ipython3",
   "version": "3.8.11"
  }
 },
 "nbformat": 4,
 "nbformat_minor": 5
}
