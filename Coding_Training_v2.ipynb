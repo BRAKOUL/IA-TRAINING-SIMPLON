{
 "cells": [
  {
   "cell_type": "markdown",
   "id": "97508631",
   "metadata": {},
   "source": [
    "# EXOS ALGORYTHMIQUE TRAINING"
   ]
  },
  {
   "cell_type": "code",
   "execution_count": 283,
   "id": "d9820854",
   "metadata": {},
   "outputs": [],
   "source": [
    "import numpy as np\n",
    "from numpy import random"
   ]
  },
  {
   "cell_type": "markdown",
   "id": "200be536",
   "metadata": {},
   "source": [
    "### Leçon 1 : \n",
    "> **Identifier le maximum, le minimum des chiffres en parcourant la liste**"
   ]
  },
  {
   "cell_type": "code",
   "execution_count": 377,
   "id": "93d9284d",
   "metadata": {},
   "outputs": [
    {
     "name": "stdout",
     "output_type": "stream",
     "text": [
      "9\n"
     ]
    }
   ],
   "source": [
    "# 1 / Identification du maximum\n",
    "\n",
    "# Exemple 1:\n",
    "\n",
    "listx = [1,2,3,4,9,6,5]\n",
    "\n",
    "le_max = -np.inf   # Si on initialise le_max = -l'infini (-np.inf) => Tt chiffre lui sera >\n",
    "for x in listx: \n",
    "    if(x>le_max):\n",
    "        le_max = x\n",
    "\n",
    "print(le_max)"
   ]
  },
  {
   "cell_type": "markdown",
   "id": "49baebda",
   "metadata": {},
   "source": [
    "**Résumé :**\n",
    "* l'initialisation fixe la varaible le_max à -l'infini\n",
    "* la 1ière entrée x=1 est comparée à -l'infini --> x=1 > -l'infini => le_max = x=1 \n",
    "* la 2ième entrée x=2 est comparée à le_max = 1 --> x=2 > 1 => le_max = x=2\n",
    "* la 3ième entrée x=3 .............. le_max = 2 --> x=3 > 2 => le_max = x=3\n",
    "* la 4ième entrée x=4 .............. le_max = 3 --> x=4 > 3 => le_max = x=4\n",
    "* la 5ième entrée x=9 .............. le_max = 4 --> x=9 > 4 => le_max = x=9\n",
    "* la 6ième entrée x=6 .............. le_max = 9 --> x=6 < 9 => le_max = x=9 RAS\n",
    "* la 7ième entrée x=5 .............. le_max = 9 --> x=5 < 9 => le_max = x=9 RAS => Output final"
   ]
  },
  {
   "cell_type": "code",
   "execution_count": 375,
   "id": "84d6ae94",
   "metadata": {
    "scrolled": true
   },
   "outputs": [
    {
     "name": "stdout",
     "output_type": "stream",
     "text": [
      "Pour x = 2 dans la liste, après comaraison avec le maximum précédent, le_max reste = 2\n",
      "Pour x = 3 dans la liste, après comaraison avec le maximum précédent, le_max reste = 3\n",
      "Pour x = 4 dans la liste, après comaraison avec le maximum précédent, le_max reste = 4\n",
      "Pour x = 9 dans la liste, après comaraison avec le maximum précédent, le_max reste = 9\n",
      "Pour x = 6 dans la liste, après comaraison avec le maximum précédent, le_max reste = 9\n",
      "Pour x = 5 dans la liste, après comaraison avec le maximum précédent, le_max reste = 9\n"
     ]
    }
   ],
   "source": [
    "# Exemple 2 : \n",
    "\n",
    "listx = [1,2,3,4,9,6,5]\n",
    "\n",
    "le_max = listx[0]        # Ici, le_max est initialisé à listx[0] càd à 1\n",
    "for x in listx[1:]:      # La boucle commence donc par le 2ième chiffre de la liste = 2\n",
    "    if(x>le_max):\n",
    "        le_max = x\n",
    "    print('Pour x =',x,'dans la liste, après comaraison avec le maximum précédent, le_max reste =',le_max) "
   ]
  },
  {
   "cell_type": "code",
   "execution_count": null,
   "id": "72f01a1d",
   "metadata": {},
   "outputs": [],
   "source": []
  },
  {
   "cell_type": "code",
   "execution_count": 387,
   "id": "46a556b2",
   "metadata": {},
   "outputs": [
    {
     "name": "stdout",
     "output_type": "stream",
     "text": [
      "2\n"
     ]
    }
   ],
   "source": [
    "# 2 / Identification du minimum\n",
    "\n",
    "# Exemple 1:\n",
    "\n",
    "listx = [8,2,11,7,4,9,6,5]\n",
    "\n",
    "le_min = +np.inf      # Si on initialise le_min = -np.inf => Impossible car aucun x \n",
    "for x in listx:          # ne peut lui inférieur => initialiser à (+)np.inf\n",
    "    if(x<le_min):     # On décide sur la comparaison <\n",
    "        le_min = x\n",
    "\n",
    "print(le_min)"
   ]
  },
  {
   "cell_type": "code",
   "execution_count": 396,
   "id": "dbb39c5a",
   "metadata": {},
   "outputs": [
    {
     "name": "stdout",
     "output_type": "stream",
     "text": [
      "Pour x = 5 dans la liste, après comaraison avec le minimum précédent, le_min reste = 1\n"
     ]
    }
   ],
   "source": [
    "# Exemple 2 : \n",
    "\n",
    "listx = [1,2,3,4,9,6,5]\n",
    "\n",
    "le_min = listx[0]        # Ici, le_min est initialisé à listx[0] càd à 1\n",
    "for x in listx[1:]:      # La boucle commence donc par le 2ième chiffre de la liste = 2\n",
    "    if(x<le_min):        # On décide sur la comparaison <\n",
    "        le_min = x\n",
    "print('Pour x =',x,'dans la liste, après comaraison avec le minimum précédent, le_min reste =',le_min) "
   ]
  },
  {
   "cell_type": "markdown",
   "id": "f1b3d56c",
   "metadata": {},
   "source": [
    "## Exercice 1\n",
    "> - **A l'aide de numpy.random.rand(N) créer N nombres aléatoires d'une distribution uniforme**\n",
    "> - **Faire une fonction (à la main) qui trouve le max et/ou le min de la séquence de valeur (idée parcourir la table et comparer les valeurs 1 à 1 et mettre dans une variable temporaire le maximum**"
   ]
  },
  {
   "cell_type": "code",
   "execution_count": 286,
   "id": "5df19ee9",
   "metadata": {},
   "outputs": [
    {
     "data": {
      "text/plain": [
       "array([0.18594115, 0.81657535, 0.36392274, 0.99421992, 0.72765129,\n",
       "       0.84370184, 0.76963377, 0.14299959, 0.62352579, 0.052022  ,\n",
       "       0.48355881, 0.34387978, 0.56473641, 0.82718114, 0.25218572])"
      ]
     },
     "execution_count": 286,
     "metadata": {},
     "output_type": "execute_result"
    }
   ],
   "source": [
    "# 1/Création de N nombres aléatoires d'une distribution uniforme\n",
    "\n",
    "N = 15\n",
    "x = random.rand(N)\n",
    "x"
   ]
  },
  {
   "cell_type": "code",
   "execution_count": 287,
   "id": "6693545c",
   "metadata": {},
   "outputs": [
    {
     "data": {
      "text/plain": [
       "0.8165753450743581"
      ]
     },
     "execution_count": 287,
     "metadata": {},
     "output_type": "execute_result"
    }
   ],
   "source": [
    "x[0+1]"
   ]
  },
  {
   "cell_type": "code",
   "execution_count": 289,
   "id": "1ecefed9",
   "metadata": {},
   "outputs": [
    {
     "data": {
      "text/plain": [
       "0.9942199208949689"
      ]
     },
     "execution_count": 289,
     "metadata": {},
     "output_type": "execute_result"
    }
   ],
   "source": [
    "# 2/Création à la main de la fonction qui trouve le maximum\n",
    "\n",
    "maximum = x.max()\n",
    "maximum"
   ]
  },
  {
   "cell_type": "code",
   "execution_count": 290,
   "id": "8c4ce8f8",
   "metadata": {},
   "outputs": [
    {
     "data": {
      "text/plain": [
       "15"
      ]
     },
     "execution_count": 290,
     "metadata": {},
     "output_type": "execute_result"
    }
   ],
   "source": [
    "len(x)"
   ]
  },
  {
   "cell_type": "code",
   "execution_count": 291,
   "id": "5a72b9bc",
   "metadata": {},
   "outputs": [
    {
     "data": {
      "text/plain": [
       "range(0, 15)"
      ]
     },
     "execution_count": 291,
     "metadata": {},
     "output_type": "execute_result"
    }
   ],
   "source": [
    "range(len(x))"
   ]
  },
  {
   "cell_type": "code",
   "execution_count": 292,
   "id": "15addbe7",
   "metadata": {},
   "outputs": [
    {
     "data": {
      "text/plain": [
       "array([0.18594115, 0.81657535, 0.36392274, 0.99421992, 0.72765129,\n",
       "       0.84370184, 0.76963377, 0.14299959, 0.62352579, 0.052022  ,\n",
       "       0.48355881, 0.34387978, 0.56473641, 0.82718114, 0.25218572])"
      ]
     },
     "execution_count": 292,
     "metadata": {},
     "output_type": "execute_result"
    }
   ],
   "source": [
    "# Création de la fonction\n",
    "\n",
    "listx = x\n",
    "listx"
   ]
  },
  {
   "cell_type": "code",
   "execution_count": 295,
   "id": "25168ca8",
   "metadata": {},
   "outputs": [
    {
     "name": "stdout",
     "output_type": "stream",
     "text": [
      "0.9942199208949689\n"
     ]
    }
   ],
   "source": [
    "le_max = -np.inf\n",
    "for x in listx:\n",
    "    if x>le_max:\n",
    "        le_max = x\n",
    "print(le_max)"
   ]
  },
  {
   "cell_type": "code",
   "execution_count": 300,
   "id": "937a8f18",
   "metadata": {},
   "outputs": [
    {
     "data": {
      "text/plain": [
       "0.0520220032309886"
      ]
     },
     "execution_count": 300,
     "metadata": {},
     "output_type": "execute_result"
    }
   ],
   "source": [
    "listx.min()"
   ]
  },
  {
   "cell_type": "code",
   "execution_count": null,
   "id": "19c7c3ae",
   "metadata": {},
   "outputs": [],
   "source": [
    "# 3/Création à la main de la fonction qui trouve le minimum"
   ]
  },
  {
   "cell_type": "code",
   "execution_count": 299,
   "id": "af696fcd",
   "metadata": {},
   "outputs": [
    {
     "name": "stdout",
     "output_type": "stream",
     "text": [
      "0.0520220032309886\n"
     ]
    }
   ],
   "source": [
    "le_max = np.inf\n",
    "for x in listx:\n",
    "    if x<le_max:\n",
    "        le_max = x\n",
    "print(le_max)"
   ]
  },
  {
   "cell_type": "code",
   "execution_count": null,
   "id": "39a45720",
   "metadata": {},
   "outputs": [],
   "source": []
  },
  {
   "cell_type": "code",
   "execution_count": 154,
   "id": "6800aaf0",
   "metadata": {},
   "outputs": [],
   "source": [
    "# 4 / Créer la fonction automatique correspondante (A revoir !)\n",
    "\n",
    "def fonct_max():\n",
    "    for i in num_list:\n",
    "        maximum = max(num_list)\n",
    "        return maximum"
   ]
  },
  {
   "cell_type": "markdown",
   "id": "f4754a58",
   "metadata": {},
   "source": [
    "## Exercice 2\n",
    "> **Refaire le même exercice avec des échantillons Gaussiens**"
   ]
  },
  {
   "cell_type": "code",
   "execution_count": 405,
   "id": "4a5ac4eb",
   "metadata": {},
   "outputs": [
    {
     "data": {
      "text/plain": [
       "array([-0.28888912,  0.15182056,  1.03771425,  1.09183213,  0.47590942,\n",
       "        1.4446756 ,  1.07628393,  1.12504325, -0.18836423, -1.22439149,\n",
       "        0.6846631 ,  0.66256948, -0.55139452, -0.10362017, -1.32214391,\n",
       "       -0.45864127, -1.33513046, -0.00347976, -0.12703654, -1.51994195])"
      ]
     },
     "execution_count": 405,
     "metadata": {},
     "output_type": "execute_result"
    }
   ],
   "source": [
    "# 1/Création de N nombres aléatoires d'une distribution normale (échantillons Gaussiens)\n",
    "\n",
    "N = 20\n",
    "x = random.randn(20)\n",
    "x"
   ]
  },
  {
   "cell_type": "code",
   "execution_count": 406,
   "id": "cf5103c5",
   "metadata": {},
   "outputs": [
    {
     "data": {
      "text/plain": [
       "1.4446756014944773"
      ]
     },
     "execution_count": 406,
     "metadata": {},
     "output_type": "execute_result"
    }
   ],
   "source": [
    "x.max()"
   ]
  },
  {
   "cell_type": "code",
   "execution_count": 407,
   "id": "8cdc65f6",
   "metadata": {},
   "outputs": [
    {
     "data": {
      "text/plain": [
       "-1.5199419460170627"
      ]
     },
     "execution_count": 407,
     "metadata": {},
     "output_type": "execute_result"
    }
   ],
   "source": [
    "x.min()"
   ]
  },
  {
   "cell_type": "code",
   "execution_count": 408,
   "id": "fccd5e49",
   "metadata": {},
   "outputs": [
    {
     "data": {
      "text/plain": [
       "array([-0.28888912,  0.15182056,  1.03771425,  1.09183213,  0.47590942,\n",
       "        1.4446756 ,  1.07628393,  1.12504325, -0.18836423, -1.22439149,\n",
       "        0.6846631 ,  0.66256948, -0.55139452, -0.10362017, -1.32214391,\n",
       "       -0.45864127, -1.33513046, -0.00347976, -0.12703654, -1.51994195])"
      ]
     },
     "execution_count": 408,
     "metadata": {},
     "output_type": "execute_result"
    }
   ],
   "source": [
    "# 2/Création à la main de la fonction qui trouve le maximum\n",
    "\n",
    "list_gaus = x\n",
    "list_gaus"
   ]
  },
  {
   "cell_type": "code",
   "execution_count": 409,
   "id": "e2957e45",
   "metadata": {},
   "outputs": [
    {
     "name": "stdout",
     "output_type": "stream",
     "text": [
      "1.4446756014944773\n"
     ]
    }
   ],
   "source": [
    "le_max = -np.inf\n",
    "for x in list_gaus: \n",
    "    if(x>le_max):\n",
    "        le_max = x\n",
    "\n",
    "print(le_max)"
   ]
  },
  {
   "cell_type": "code",
   "execution_count": null,
   "id": "0ade7b3d",
   "metadata": {},
   "outputs": [],
   "source": []
  },
  {
   "cell_type": "code",
   "execution_count": 411,
   "id": "abb35254",
   "metadata": {},
   "outputs": [
    {
     "name": "stdout",
     "output_type": "stream",
     "text": [
      "-1.5199419460170627\n"
     ]
    }
   ],
   "source": [
    "# 3/Création à la main de la fonction qui trouve le minimum\n",
    "\n",
    "le_min = list_gaus[0]\n",
    "for x in list_gaus[1:]:\n",
    "    if x<le_min:\n",
    "        le_min = x\n",
    "print(le_min)"
   ]
  },
  {
   "cell_type": "code",
   "execution_count": null,
   "id": "bdb9b61e",
   "metadata": {},
   "outputs": [],
   "source": []
  },
  {
   "cell_type": "code",
   "execution_count": 58,
   "id": "54e89fde",
   "metadata": {},
   "outputs": [],
   "source": [
    "# Créer la fonction automatique correspondant (A revoir)\n",
    "\n",
    "def fonct_min():\n",
    "    for i in num_list:\n",
    "        minimum = min(num_list)\n",
    "        return minimum"
   ]
  },
  {
   "cell_type": "markdown",
   "id": "fbdcecab",
   "metadata": {},
   "source": [
    "## Exercice 3\n",
    "> **Réussir à classer une séquence en ordre croissant puis décroissant**"
   ]
  },
  {
   "cell_type": "code",
   "execution_count": 41,
   "id": "bff3ef42",
   "metadata": {
    "collapsed": true
   },
   "outputs": [
    {
     "data": {
      "text/html": [
       "<div>\n",
       "<style scoped>\n",
       "    .dataframe tbody tr th:only-of-type {\n",
       "        vertical-align: middle;\n",
       "    }\n",
       "\n",
       "    .dataframe tbody tr th {\n",
       "        vertical-align: top;\n",
       "    }\n",
       "\n",
       "    .dataframe thead th {\n",
       "        text-align: right;\n",
       "    }\n",
       "</style>\n",
       "<table border=\"1\" class=\"dataframe\">\n",
       "  <thead>\n",
       "    <tr style=\"text-align: right;\">\n",
       "      <th></th>\n",
       "      <th>0</th>\n",
       "    </tr>\n",
       "  </thead>\n",
       "  <tbody>\n",
       "    <tr>\n",
       "      <th>0</th>\n",
       "      <td>-2.078626</td>\n",
       "    </tr>\n",
       "    <tr>\n",
       "      <th>1</th>\n",
       "      <td>-1.887167</td>\n",
       "    </tr>\n",
       "    <tr>\n",
       "      <th>2</th>\n",
       "      <td>-0.968863</td>\n",
       "    </tr>\n",
       "    <tr>\n",
       "      <th>3</th>\n",
       "      <td>-0.778103</td>\n",
       "    </tr>\n",
       "    <tr>\n",
       "      <th>4</th>\n",
       "      <td>-0.766557</td>\n",
       "    </tr>\n",
       "    <tr>\n",
       "      <th>5</th>\n",
       "      <td>-0.687142</td>\n",
       "    </tr>\n",
       "    <tr>\n",
       "      <th>6</th>\n",
       "      <td>-0.630369</td>\n",
       "    </tr>\n",
       "    <tr>\n",
       "      <th>7</th>\n",
       "      <td>-0.295480</td>\n",
       "    </tr>\n",
       "    <tr>\n",
       "      <th>8</th>\n",
       "      <td>-0.143564</td>\n",
       "    </tr>\n",
       "    <tr>\n",
       "      <th>9</th>\n",
       "      <td>-0.020449</td>\n",
       "    </tr>\n",
       "    <tr>\n",
       "      <th>10</th>\n",
       "      <td>0.028052</td>\n",
       "    </tr>\n",
       "    <tr>\n",
       "      <th>11</th>\n",
       "      <td>0.082172</td>\n",
       "    </tr>\n",
       "    <tr>\n",
       "      <th>12</th>\n",
       "      <td>0.124827</td>\n",
       "    </tr>\n",
       "    <tr>\n",
       "      <th>13</th>\n",
       "      <td>0.187131</td>\n",
       "    </tr>\n",
       "    <tr>\n",
       "      <th>14</th>\n",
       "      <td>0.269651</td>\n",
       "    </tr>\n",
       "    <tr>\n",
       "      <th>15</th>\n",
       "      <td>0.302945</td>\n",
       "    </tr>\n",
       "    <tr>\n",
       "      <th>16</th>\n",
       "      <td>0.764593</td>\n",
       "    </tr>\n",
       "    <tr>\n",
       "      <th>17</th>\n",
       "      <td>0.907851</td>\n",
       "    </tr>\n",
       "    <tr>\n",
       "      <th>18</th>\n",
       "      <td>1.276809</td>\n",
       "    </tr>\n",
       "    <tr>\n",
       "      <th>19</th>\n",
       "      <td>1.671880</td>\n",
       "    </tr>\n",
       "  </tbody>\n",
       "</table>\n",
       "</div>"
      ],
      "text/plain": [
       "           0\n",
       "0  -2.078626\n",
       "1  -1.887167\n",
       "2  -0.968863\n",
       "3  -0.778103\n",
       "4  -0.766557\n",
       "5  -0.687142\n",
       "6  -0.630369\n",
       "7  -0.295480\n",
       "8  -0.143564\n",
       "9  -0.020449\n",
       "10  0.028052\n",
       "11  0.082172\n",
       "12  0.124827\n",
       "13  0.187131\n",
       "14  0.269651\n",
       "15  0.302945\n",
       "16  0.764593\n",
       "17  0.907851\n",
       "18  1.276809\n",
       "19  1.671880"
      ]
     },
     "execution_count": 41,
     "metadata": {},
     "output_type": "execute_result"
    }
   ],
   "source": [
    "# 1/Convertir num_list en Dataframe\n",
    "\n",
    "import pandas as pd\n",
    "\n",
    "num_list_df = pd.DataFrame(num_list)\n",
    "num_list_df"
   ]
  },
  {
   "cell_type": "code",
   "execution_count": 50,
   "id": "9334fa7e",
   "metadata": {
    "collapsed": true
   },
   "outputs": [
    {
     "data": {
      "text/html": [
       "<div>\n",
       "<style scoped>\n",
       "    .dataframe tbody tr th:only-of-type {\n",
       "        vertical-align: middle;\n",
       "    }\n",
       "\n",
       "    .dataframe tbody tr th {\n",
       "        vertical-align: top;\n",
       "    }\n",
       "\n",
       "    .dataframe thead th {\n",
       "        text-align: right;\n",
       "    }\n",
       "</style>\n",
       "<table border=\"1\" class=\"dataframe\">\n",
       "  <thead>\n",
       "    <tr style=\"text-align: right;\">\n",
       "      <th></th>\n",
       "      <th>0</th>\n",
       "    </tr>\n",
       "  </thead>\n",
       "  <tbody>\n",
       "    <tr>\n",
       "      <th>0</th>\n",
       "      <td>-2.078626</td>\n",
       "    </tr>\n",
       "    <tr>\n",
       "      <th>1</th>\n",
       "      <td>-1.887167</td>\n",
       "    </tr>\n",
       "    <tr>\n",
       "      <th>2</th>\n",
       "      <td>-0.968863</td>\n",
       "    </tr>\n",
       "    <tr>\n",
       "      <th>3</th>\n",
       "      <td>-0.778103</td>\n",
       "    </tr>\n",
       "    <tr>\n",
       "      <th>4</th>\n",
       "      <td>-0.766557</td>\n",
       "    </tr>\n",
       "    <tr>\n",
       "      <th>5</th>\n",
       "      <td>-0.687142</td>\n",
       "    </tr>\n",
       "    <tr>\n",
       "      <th>6</th>\n",
       "      <td>-0.630369</td>\n",
       "    </tr>\n",
       "    <tr>\n",
       "      <th>7</th>\n",
       "      <td>-0.295480</td>\n",
       "    </tr>\n",
       "    <tr>\n",
       "      <th>8</th>\n",
       "      <td>-0.143564</td>\n",
       "    </tr>\n",
       "    <tr>\n",
       "      <th>9</th>\n",
       "      <td>-0.020449</td>\n",
       "    </tr>\n",
       "    <tr>\n",
       "      <th>10</th>\n",
       "      <td>0.028052</td>\n",
       "    </tr>\n",
       "    <tr>\n",
       "      <th>11</th>\n",
       "      <td>0.082172</td>\n",
       "    </tr>\n",
       "    <tr>\n",
       "      <th>12</th>\n",
       "      <td>0.124827</td>\n",
       "    </tr>\n",
       "    <tr>\n",
       "      <th>13</th>\n",
       "      <td>0.187131</td>\n",
       "    </tr>\n",
       "    <tr>\n",
       "      <th>14</th>\n",
       "      <td>0.269651</td>\n",
       "    </tr>\n",
       "    <tr>\n",
       "      <th>15</th>\n",
       "      <td>0.302945</td>\n",
       "    </tr>\n",
       "    <tr>\n",
       "      <th>16</th>\n",
       "      <td>0.764593</td>\n",
       "    </tr>\n",
       "    <tr>\n",
       "      <th>17</th>\n",
       "      <td>0.907851</td>\n",
       "    </tr>\n",
       "    <tr>\n",
       "      <th>18</th>\n",
       "      <td>1.276809</td>\n",
       "    </tr>\n",
       "    <tr>\n",
       "      <th>19</th>\n",
       "      <td>1.671880</td>\n",
       "    </tr>\n",
       "  </tbody>\n",
       "</table>\n",
       "</div>"
      ],
      "text/plain": [
       "           0\n",
       "0  -2.078626\n",
       "1  -1.887167\n",
       "2  -0.968863\n",
       "3  -0.778103\n",
       "4  -0.766557\n",
       "5  -0.687142\n",
       "6  -0.630369\n",
       "7  -0.295480\n",
       "8  -0.143564\n",
       "9  -0.020449\n",
       "10  0.028052\n",
       "11  0.082172\n",
       "12  0.124827\n",
       "13  0.187131\n",
       "14  0.269651\n",
       "15  0.302945\n",
       "16  0.764593\n",
       "17  0.907851\n",
       "18  1.276809\n",
       "19  1.671880"
      ]
     },
     "execution_count": 50,
     "metadata": {},
     "output_type": "execute_result"
    }
   ],
   "source": [
    "# Classement par ordre croissant \n",
    "\n",
    "num_list_df.sort_values([0], ascending = True)"
   ]
  },
  {
   "cell_type": "code",
   "execution_count": 51,
   "id": "19627c02",
   "metadata": {
    "collapsed": true
   },
   "outputs": [
    {
     "data": {
      "text/html": [
       "<div>\n",
       "<style scoped>\n",
       "    .dataframe tbody tr th:only-of-type {\n",
       "        vertical-align: middle;\n",
       "    }\n",
       "\n",
       "    .dataframe tbody tr th {\n",
       "        vertical-align: top;\n",
       "    }\n",
       "\n",
       "    .dataframe thead th {\n",
       "        text-align: right;\n",
       "    }\n",
       "</style>\n",
       "<table border=\"1\" class=\"dataframe\">\n",
       "  <thead>\n",
       "    <tr style=\"text-align: right;\">\n",
       "      <th></th>\n",
       "      <th>0</th>\n",
       "    </tr>\n",
       "  </thead>\n",
       "  <tbody>\n",
       "    <tr>\n",
       "      <th>19</th>\n",
       "      <td>1.671880</td>\n",
       "    </tr>\n",
       "    <tr>\n",
       "      <th>18</th>\n",
       "      <td>1.276809</td>\n",
       "    </tr>\n",
       "    <tr>\n",
       "      <th>17</th>\n",
       "      <td>0.907851</td>\n",
       "    </tr>\n",
       "    <tr>\n",
       "      <th>16</th>\n",
       "      <td>0.764593</td>\n",
       "    </tr>\n",
       "    <tr>\n",
       "      <th>15</th>\n",
       "      <td>0.302945</td>\n",
       "    </tr>\n",
       "    <tr>\n",
       "      <th>14</th>\n",
       "      <td>0.269651</td>\n",
       "    </tr>\n",
       "    <tr>\n",
       "      <th>13</th>\n",
       "      <td>0.187131</td>\n",
       "    </tr>\n",
       "    <tr>\n",
       "      <th>12</th>\n",
       "      <td>0.124827</td>\n",
       "    </tr>\n",
       "    <tr>\n",
       "      <th>11</th>\n",
       "      <td>0.082172</td>\n",
       "    </tr>\n",
       "    <tr>\n",
       "      <th>10</th>\n",
       "      <td>0.028052</td>\n",
       "    </tr>\n",
       "    <tr>\n",
       "      <th>9</th>\n",
       "      <td>-0.020449</td>\n",
       "    </tr>\n",
       "    <tr>\n",
       "      <th>8</th>\n",
       "      <td>-0.143564</td>\n",
       "    </tr>\n",
       "    <tr>\n",
       "      <th>7</th>\n",
       "      <td>-0.295480</td>\n",
       "    </tr>\n",
       "    <tr>\n",
       "      <th>6</th>\n",
       "      <td>-0.630369</td>\n",
       "    </tr>\n",
       "    <tr>\n",
       "      <th>5</th>\n",
       "      <td>-0.687142</td>\n",
       "    </tr>\n",
       "    <tr>\n",
       "      <th>4</th>\n",
       "      <td>-0.766557</td>\n",
       "    </tr>\n",
       "    <tr>\n",
       "      <th>3</th>\n",
       "      <td>-0.778103</td>\n",
       "    </tr>\n",
       "    <tr>\n",
       "      <th>2</th>\n",
       "      <td>-0.968863</td>\n",
       "    </tr>\n",
       "    <tr>\n",
       "      <th>1</th>\n",
       "      <td>-1.887167</td>\n",
       "    </tr>\n",
       "    <tr>\n",
       "      <th>0</th>\n",
       "      <td>-2.078626</td>\n",
       "    </tr>\n",
       "  </tbody>\n",
       "</table>\n",
       "</div>"
      ],
      "text/plain": [
       "           0\n",
       "19  1.671880\n",
       "18  1.276809\n",
       "17  0.907851\n",
       "16  0.764593\n",
       "15  0.302945\n",
       "14  0.269651\n",
       "13  0.187131\n",
       "12  0.124827\n",
       "11  0.082172\n",
       "10  0.028052\n",
       "9  -0.020449\n",
       "8  -0.143564\n",
       "7  -0.295480\n",
       "6  -0.630369\n",
       "5  -0.687142\n",
       "4  -0.766557\n",
       "3  -0.778103\n",
       "2  -0.968863\n",
       "1  -1.887167\n",
       "0  -2.078626"
      ]
     },
     "execution_count": 51,
     "metadata": {},
     "output_type": "execute_result"
    }
   ],
   "source": [
    "# Classement par orde décroissant\n",
    "\n",
    "num_list_df.sort_values([0], ascending = False)"
   ]
  },
  {
   "cell_type": "markdown",
   "id": "f9268817",
   "metadata": {},
   "source": [
    "## Exercice 4\n",
    "> **A l'aide de boucle for, calculer quelques série mathématiques connu et comparer le résultat à la théorie Sum 1/n^2 , Sum n etc...**"
   ]
  },
  {
   "cell_type": "code",
   "execution_count": 182,
   "id": "e849bb89",
   "metadata": {},
   "outputs": [
    {
     "data": {
      "text/plain": [
       "[44, 40, 22, 10, 13, 9, 31, 12, 47, 19, 11, 36, 48, 44, 29]"
      ]
     },
     "execution_count": 182,
     "metadata": {},
     "output_type": "execute_result"
    }
   ],
   "source": [
    "# 1/Génération aléatoire d'une suite de chiffres\n",
    "\n",
    "L = list(random.randint(2, 50, 15))\n",
    "L"
   ]
  },
  {
   "cell_type": "code",
   "execution_count": null,
   "id": "1918dbeb",
   "metadata": {},
   "outputs": [],
   "source": []
  },
  {
   "cell_type": "code",
   "execution_count": 412,
   "id": "97a844b9",
   "metadata": {},
   "outputs": [
    {
     "name": "stdout",
     "output_type": "stream",
     "text": [
      "9\n"
     ]
    }
   ],
   "source": [
    "# Algorithme qui trouve le minimum de L\n",
    "\n",
    "L = [44, 40, 22, 10, 13, 9, 31, 12, 47, 19, 11, 36, 48, 44, 29]\n",
    "\n",
    "le_min = np.inf\n",
    "for x in L:\n",
    "    if x<le_min:\n",
    "        le_min = x\n",
    "\n",
    "print(le_min)"
   ]
  },
  {
   "cell_type": "code",
   "execution_count": null,
   "id": "7bd6c46b",
   "metadata": {},
   "outputs": [],
   "source": []
  },
  {
   "cell_type": "markdown",
   "id": "d9e17a04",
   "metadata": {},
   "source": [
    "**Enoncé**\n",
    "> - Il faut que tu partes encore une fois d'une liste de valeur et \n",
    "> - que dans une boucle tu remplisses une nouvelle liste avec les valeurs de la liste données en entré et que \n",
    "> - tu supprimes de la liste d'entrée la valeur que tu viens de copier."
   ]
  },
  {
   "cell_type": "code",
   "execution_count": null,
   "id": "fdf9eeb8",
   "metadata": {},
   "outputs": [],
   "source": [
    "Exemples: \n",
    "    \n",
    "liste entrée : [1 , 2 , 3 , 4] \n",
    "liste sortie : [] \n",
    "\n",
    "iteration 1 : \n",
    "liste entrée : [2 , 3 , 4] \n",
    "liste sortie : [1]\n",
    "\n",
    "iteration 2\n",
    "liste entrée : [ 3 , 4] \n",
    "liste sortie : [1,2]\n",
    "\n",
    "iteration 3\n",
    "liste entrée : [4] \n",
    "liste sortie : [1,2,3] \n",
    "\n",
    "iteration 4 \n",
    "liste entrée : [] \n",
    "liste sortie : [1,2,3,4]"
   ]
  },
  {
   "cell_type": "code",
   "execution_count": null,
   "id": "9b7f6e6d",
   "metadata": {},
   "outputs": [],
   "source": []
  },
  {
   "cell_type": "code",
   "execution_count": 427,
   "id": "5b158fad",
   "metadata": {},
   "outputs": [
    {
     "name": "stdout",
     "output_type": "stream",
     "text": [
      "---------------\n",
      "[2, 3, 4]\n",
      "[1]\n",
      "---------------\n",
      "[3, 4]\n",
      "[1, 2]\n",
      "---------------\n",
      "[4]\n",
      "[1, 2, 3]\n",
      "---------------\n",
      "[]\n",
      "[1, 2, 3, 4]\n"
     ]
    }
   ],
   "source": [
    "liste_entree = [1,2,3,4]\n",
    "liste_sortie = []\n",
    "\n",
    "for x in liste_entree[:]:\n",
    "    liste_entree.remove(x)\n",
    "    print('---------------')\n",
    "    print(liste_entree)\n",
    "    liste_sortie.append(x)\n",
    "    print(liste_sortie)"
   ]
  },
  {
   "cell_type": "code",
   "execution_count": null,
   "id": "8dbac683",
   "metadata": {},
   "outputs": [],
   "source": []
  },
  {
   "cell_type": "code",
   "execution_count": 430,
   "id": "e5ae7b15",
   "metadata": {},
   "outputs": [
    {
     "name": "stdout",
     "output_type": "stream",
     "text": [
      "-------------------------------\n",
      "[2, 3, 4, 9, 6, 5, 8, 10]\n",
      "[1]\n",
      "-------------------------------\n",
      "[3, 4, 9, 6, 5, 8, 10]\n",
      "[1, 2]\n",
      "-------------------------------\n",
      "[4, 9, 6, 5, 8, 10]\n",
      "[1, 2, 3]\n",
      "-------------------------------\n",
      "[9, 6, 5, 8, 10]\n",
      "[1, 2, 3, 4]\n",
      "-------------------------------\n",
      "[6, 5, 8, 10]\n",
      "[1, 2, 3, 4, 9]\n",
      "-------------------------------\n",
      "[5, 8, 10]\n",
      "[1, 2, 3, 4, 9, 6]\n",
      "-------------------------------\n",
      "[8, 10]\n",
      "[1, 2, 3, 4, 9, 6, 5]\n",
      "-------------------------------\n",
      "[10]\n",
      "[1, 2, 3, 4, 9, 6, 5, 8]\n",
      "-------------------------------\n",
      "[]\n",
      "[1, 2, 3, 4, 9, 6, 5, 8, 10]\n"
     ]
    }
   ],
   "source": [
    "liste_entree = [1,2,3,4,9,6,5,8,10]\n",
    "liste_sortie = []\n",
    "\n",
    "for x in liste_entree[:]:\n",
    "    liste_entree.remove(x)\n",
    "    print('-------------------------------')\n",
    "    print(liste_entree)\n",
    "    liste_sortie.append(x)\n",
    "    print(liste_sortie)"
   ]
  },
  {
   "cell_type": "code",
   "execution_count": null,
   "id": "ce0a9dce",
   "metadata": {},
   "outputs": [],
   "source": []
  },
  {
   "cell_type": "code",
   "execution_count": null,
   "id": "7ce2abd6",
   "metadata": {},
   "outputs": [],
   "source": []
  }
 ],
 "metadata": {
  "kernelspec": {
   "display_name": "Python 3 (ipykernel)",
   "language": "python",
   "name": "python3"
  },
  "language_info": {
   "codemirror_mode": {
    "name": "ipython",
    "version": 3
   },
   "file_extension": ".py",
   "mimetype": "text/x-python",
   "name": "python",
   "nbconvert_exporter": "python",
   "pygments_lexer": "ipython3",
   "version": "3.8.11"
  }
 },
 "nbformat": 4,
 "nbformat_minor": 5
}
