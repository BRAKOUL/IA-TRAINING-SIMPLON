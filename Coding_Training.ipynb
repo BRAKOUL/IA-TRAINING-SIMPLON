{
 "cells": [
  {
   "cell_type": "markdown",
   "id": "97508631",
   "metadata": {},
   "source": [
    "# EXOS ALGORYTHMIQUE TRAINING"
   ]
  },
  {
   "cell_type": "markdown",
   "id": "f1b3d56c",
   "metadata": {},
   "source": [
    "## Exercice 1\n",
    "> - **A l'aide de numpy.random.rand(N) créer N nombres aléatoires d'une distribution uniforme**\n",
    "> - **Faire une fonction (à la main) qui trouve le max et/ou le min de la séquence de valeur (idée parcourir la table et comparer les valeurs 1 à 1 et mettre dans une variable temporaire le maximum**"
   ]
  },
  {
   "cell_type": "code",
   "execution_count": 2,
   "id": "d9820854",
   "metadata": {},
   "outputs": [],
   "source": [
    "from numpy import random"
   ]
  },
  {
   "cell_type": "code",
   "execution_count": 12,
   "id": "5df19ee9",
   "metadata": {},
   "outputs": [
    {
     "data": {
      "text/plain": [
       "array([0.03288154, 0.72724988, 0.59721987, 0.42262571, 0.16406783,\n",
       "       0.44007418, 0.24633167, 0.29441093, 0.93550344, 0.49913763,\n",
       "       0.76655953, 0.07561397, 0.6289017 , 0.25994584, 0.62734874])"
      ]
     },
     "execution_count": 12,
     "metadata": {},
     "output_type": "execute_result"
    }
   ],
   "source": [
    "# 1/Création de N nombres aléatoires d'une distribution uniforme\n",
    "\n",
    "N = random.rand(15)\n",
    "N"
   ]
  },
  {
   "cell_type": "code",
   "execution_count": null,
   "id": "beadc430",
   "metadata": {},
   "outputs": [],
   "source": []
  },
  {
   "cell_type": "code",
   "execution_count": 13,
   "id": "1ecefed9",
   "metadata": {},
   "outputs": [
    {
     "data": {
      "text/plain": [
       "[0.03288153718618758,\n",
       " 0.7272498798199334,\n",
       " 0.5972198749836679,\n",
       " 0.42262571470182697,\n",
       " 0.16406783060605323,\n",
       " 0.44007417597765985,\n",
       " 0.24633166624088731,\n",
       " 0.2944109251214395,\n",
       " 0.9355034401710077,\n",
       " 0.4991376317915144,\n",
       " 0.7665595263605185,\n",
       " 0.07561396543982568,\n",
       " 0.628901698176072,\n",
       " 0.2599458386232364,\n",
       " 0.6273487402600447]"
      ]
     },
     "execution_count": 13,
     "metadata": {},
     "output_type": "execute_result"
    }
   ],
   "source": [
    "# 2/Création de la fonction :\n",
    "# 2.1/Convertir N en une liste\n",
    "\n",
    "num_list = N.tolist()\n",
    "num_list"
   ]
  },
  {
   "cell_type": "code",
   "execution_count": 18,
   "id": "6800aaf0",
   "metadata": {},
   "outputs": [],
   "source": [
    "# 2.2/Créer la fonction\n",
    "\n",
    "def fonct_max():\n",
    "    for i in num_list:\n",
    "        maximum = max(num_list)\n",
    "        return maximum"
   ]
  },
  {
   "cell_type": "code",
   "execution_count": 20,
   "id": "ffbcea16",
   "metadata": {},
   "outputs": [
    {
     "data": {
      "text/plain": [
       "0.9355034401710077"
      ]
     },
     "execution_count": 20,
     "metadata": {},
     "output_type": "execute_result"
    }
   ],
   "source": [
    "# Application\n",
    "\n",
    "fonct_max()"
   ]
  },
  {
   "cell_type": "markdown",
   "id": "f4754a58",
   "metadata": {},
   "source": [
    "## Exercice 2\n",
    "> **Refaire le même exercice avec des échantillons Gaussiens**"
   ]
  },
  {
   "cell_type": "code",
   "execution_count": 22,
   "id": "4a5ac4eb",
   "metadata": {},
   "outputs": [
    {
     "data": {
      "text/plain": [
       "array([ 1.27680878,  0.08217247, -0.76655666, -0.02044947, -0.77810279,\n",
       "       -0.68714198, -2.07862595, -0.14356361, -0.29548026, -0.96886251,\n",
       "        0.18713086,  1.67188038, -0.63036865,  0.02805204,  0.90785109,\n",
       "        0.7645932 ,  0.2696514 ,  0.12482744,  0.30294469, -1.88716704])"
      ]
     },
     "execution_count": 22,
     "metadata": {},
     "output_type": "execute_result"
    }
   ],
   "source": [
    "# 1/Création de N nombres aléatoires d'une distribution normale (échantillons Gaussiens)\n",
    "\n",
    "N = random.randn(20)\n",
    "N"
   ]
  },
  {
   "cell_type": "code",
   "execution_count": 24,
   "id": "fccd5e49",
   "metadata": {},
   "outputs": [
    {
     "data": {
      "text/plain": [
       "[1.2768087827247132,\n",
       " 0.08217247473859886,\n",
       " -0.7665566586228759,\n",
       " -0.020449473323847025,\n",
       " -0.778102790867106,\n",
       " -0.6871419790097355,\n",
       " -2.07862594662833,\n",
       " -0.14356361285782082,\n",
       " -0.29548026471739147,\n",
       " -0.9688625104706151,\n",
       " 0.1871308566638226,\n",
       " 1.6718803790966796,\n",
       " -0.6303686473395052,\n",
       " 0.028052038685453667,\n",
       " 0.9078510935857655,\n",
       " 0.7645932036423913,\n",
       " 0.26965140365279233,\n",
       " 0.1248274397090326,\n",
       " 0.30294468675733754,\n",
       " -1.887167043617759]"
      ]
     },
     "execution_count": 24,
     "metadata": {},
     "output_type": "execute_result"
    }
   ],
   "source": [
    "# 2/Création de la fonction :\n",
    "# 2.1/Convertir N en une liste\n",
    "\n",
    "num_list = N.tolist()\n",
    "num_list"
   ]
  },
  {
   "cell_type": "code",
   "execution_count": 26,
   "id": "54e89fde",
   "metadata": {},
   "outputs": [],
   "source": [
    "# 2.2/Créer la fonction\n",
    "\n",
    "def fonct_min():\n",
    "    for i in num_list:\n",
    "        minimum = min(num_list)\n",
    "        return minimum"
   ]
  },
  {
   "cell_type": "code",
   "execution_count": 27,
   "id": "935f4b5f",
   "metadata": {},
   "outputs": [
    {
     "data": {
      "text/plain": [
       "-2.07862594662833"
      ]
     },
     "execution_count": 27,
     "metadata": {},
     "output_type": "execute_result"
    }
   ],
   "source": [
    "fonct_min()"
   ]
  },
  {
   "cell_type": "markdown",
   "id": "fbdcecab",
   "metadata": {},
   "source": [
    "## Exercice 3\n",
    "> **Réussir à classer une séquence en ordre croissant puis décroissant**"
   ]
  },
  {
   "cell_type": "code",
   "execution_count": 41,
   "id": "bff3ef42",
   "metadata": {
    "collapsed": true
   },
   "outputs": [
    {
     "data": {
      "text/html": [
       "<div>\n",
       "<style scoped>\n",
       "    .dataframe tbody tr th:only-of-type {\n",
       "        vertical-align: middle;\n",
       "    }\n",
       "\n",
       "    .dataframe tbody tr th {\n",
       "        vertical-align: top;\n",
       "    }\n",
       "\n",
       "    .dataframe thead th {\n",
       "        text-align: right;\n",
       "    }\n",
       "</style>\n",
       "<table border=\"1\" class=\"dataframe\">\n",
       "  <thead>\n",
       "    <tr style=\"text-align: right;\">\n",
       "      <th></th>\n",
       "      <th>0</th>\n",
       "    </tr>\n",
       "  </thead>\n",
       "  <tbody>\n",
       "    <tr>\n",
       "      <th>0</th>\n",
       "      <td>-2.078626</td>\n",
       "    </tr>\n",
       "    <tr>\n",
       "      <th>1</th>\n",
       "      <td>-1.887167</td>\n",
       "    </tr>\n",
       "    <tr>\n",
       "      <th>2</th>\n",
       "      <td>-0.968863</td>\n",
       "    </tr>\n",
       "    <tr>\n",
       "      <th>3</th>\n",
       "      <td>-0.778103</td>\n",
       "    </tr>\n",
       "    <tr>\n",
       "      <th>4</th>\n",
       "      <td>-0.766557</td>\n",
       "    </tr>\n",
       "    <tr>\n",
       "      <th>5</th>\n",
       "      <td>-0.687142</td>\n",
       "    </tr>\n",
       "    <tr>\n",
       "      <th>6</th>\n",
       "      <td>-0.630369</td>\n",
       "    </tr>\n",
       "    <tr>\n",
       "      <th>7</th>\n",
       "      <td>-0.295480</td>\n",
       "    </tr>\n",
       "    <tr>\n",
       "      <th>8</th>\n",
       "      <td>-0.143564</td>\n",
       "    </tr>\n",
       "    <tr>\n",
       "      <th>9</th>\n",
       "      <td>-0.020449</td>\n",
       "    </tr>\n",
       "    <tr>\n",
       "      <th>10</th>\n",
       "      <td>0.028052</td>\n",
       "    </tr>\n",
       "    <tr>\n",
       "      <th>11</th>\n",
       "      <td>0.082172</td>\n",
       "    </tr>\n",
       "    <tr>\n",
       "      <th>12</th>\n",
       "      <td>0.124827</td>\n",
       "    </tr>\n",
       "    <tr>\n",
       "      <th>13</th>\n",
       "      <td>0.187131</td>\n",
       "    </tr>\n",
       "    <tr>\n",
       "      <th>14</th>\n",
       "      <td>0.269651</td>\n",
       "    </tr>\n",
       "    <tr>\n",
       "      <th>15</th>\n",
       "      <td>0.302945</td>\n",
       "    </tr>\n",
       "    <tr>\n",
       "      <th>16</th>\n",
       "      <td>0.764593</td>\n",
       "    </tr>\n",
       "    <tr>\n",
       "      <th>17</th>\n",
       "      <td>0.907851</td>\n",
       "    </tr>\n",
       "    <tr>\n",
       "      <th>18</th>\n",
       "      <td>1.276809</td>\n",
       "    </tr>\n",
       "    <tr>\n",
       "      <th>19</th>\n",
       "      <td>1.671880</td>\n",
       "    </tr>\n",
       "  </tbody>\n",
       "</table>\n",
       "</div>"
      ],
      "text/plain": [
       "           0\n",
       "0  -2.078626\n",
       "1  -1.887167\n",
       "2  -0.968863\n",
       "3  -0.778103\n",
       "4  -0.766557\n",
       "5  -0.687142\n",
       "6  -0.630369\n",
       "7  -0.295480\n",
       "8  -0.143564\n",
       "9  -0.020449\n",
       "10  0.028052\n",
       "11  0.082172\n",
       "12  0.124827\n",
       "13  0.187131\n",
       "14  0.269651\n",
       "15  0.302945\n",
       "16  0.764593\n",
       "17  0.907851\n",
       "18  1.276809\n",
       "19  1.671880"
      ]
     },
     "execution_count": 41,
     "metadata": {},
     "output_type": "execute_result"
    }
   ],
   "source": [
    "# 1/Convertir num_list en Dataframe\n",
    "\n",
    "import pandas as pd\n",
    "\n",
    "num_list_df = pd.DataFrame(num_list)\n",
    "num_list_df"
   ]
  },
  {
   "cell_type": "code",
   "execution_count": 50,
   "id": "9334fa7e",
   "metadata": {},
   "outputs": [
    {
     "data": {
      "text/html": [
       "<div>\n",
       "<style scoped>\n",
       "    .dataframe tbody tr th:only-of-type {\n",
       "        vertical-align: middle;\n",
       "    }\n",
       "\n",
       "    .dataframe tbody tr th {\n",
       "        vertical-align: top;\n",
       "    }\n",
       "\n",
       "    .dataframe thead th {\n",
       "        text-align: right;\n",
       "    }\n",
       "</style>\n",
       "<table border=\"1\" class=\"dataframe\">\n",
       "  <thead>\n",
       "    <tr style=\"text-align: right;\">\n",
       "      <th></th>\n",
       "      <th>0</th>\n",
       "    </tr>\n",
       "  </thead>\n",
       "  <tbody>\n",
       "    <tr>\n",
       "      <th>0</th>\n",
       "      <td>-2.078626</td>\n",
       "    </tr>\n",
       "    <tr>\n",
       "      <th>1</th>\n",
       "      <td>-1.887167</td>\n",
       "    </tr>\n",
       "    <tr>\n",
       "      <th>2</th>\n",
       "      <td>-0.968863</td>\n",
       "    </tr>\n",
       "    <tr>\n",
       "      <th>3</th>\n",
       "      <td>-0.778103</td>\n",
       "    </tr>\n",
       "    <tr>\n",
       "      <th>4</th>\n",
       "      <td>-0.766557</td>\n",
       "    </tr>\n",
       "    <tr>\n",
       "      <th>5</th>\n",
       "      <td>-0.687142</td>\n",
       "    </tr>\n",
       "    <tr>\n",
       "      <th>6</th>\n",
       "      <td>-0.630369</td>\n",
       "    </tr>\n",
       "    <tr>\n",
       "      <th>7</th>\n",
       "      <td>-0.295480</td>\n",
       "    </tr>\n",
       "    <tr>\n",
       "      <th>8</th>\n",
       "      <td>-0.143564</td>\n",
       "    </tr>\n",
       "    <tr>\n",
       "      <th>9</th>\n",
       "      <td>-0.020449</td>\n",
       "    </tr>\n",
       "    <tr>\n",
       "      <th>10</th>\n",
       "      <td>0.028052</td>\n",
       "    </tr>\n",
       "    <tr>\n",
       "      <th>11</th>\n",
       "      <td>0.082172</td>\n",
       "    </tr>\n",
       "    <tr>\n",
       "      <th>12</th>\n",
       "      <td>0.124827</td>\n",
       "    </tr>\n",
       "    <tr>\n",
       "      <th>13</th>\n",
       "      <td>0.187131</td>\n",
       "    </tr>\n",
       "    <tr>\n",
       "      <th>14</th>\n",
       "      <td>0.269651</td>\n",
       "    </tr>\n",
       "    <tr>\n",
       "      <th>15</th>\n",
       "      <td>0.302945</td>\n",
       "    </tr>\n",
       "    <tr>\n",
       "      <th>16</th>\n",
       "      <td>0.764593</td>\n",
       "    </tr>\n",
       "    <tr>\n",
       "      <th>17</th>\n",
       "      <td>0.907851</td>\n",
       "    </tr>\n",
       "    <tr>\n",
       "      <th>18</th>\n",
       "      <td>1.276809</td>\n",
       "    </tr>\n",
       "    <tr>\n",
       "      <th>19</th>\n",
       "      <td>1.671880</td>\n",
       "    </tr>\n",
       "  </tbody>\n",
       "</table>\n",
       "</div>"
      ],
      "text/plain": [
       "           0\n",
       "0  -2.078626\n",
       "1  -1.887167\n",
       "2  -0.968863\n",
       "3  -0.778103\n",
       "4  -0.766557\n",
       "5  -0.687142\n",
       "6  -0.630369\n",
       "7  -0.295480\n",
       "8  -0.143564\n",
       "9  -0.020449\n",
       "10  0.028052\n",
       "11  0.082172\n",
       "12  0.124827\n",
       "13  0.187131\n",
       "14  0.269651\n",
       "15  0.302945\n",
       "16  0.764593\n",
       "17  0.907851\n",
       "18  1.276809\n",
       "19  1.671880"
      ]
     },
     "execution_count": 50,
     "metadata": {},
     "output_type": "execute_result"
    }
   ],
   "source": [
    "# Classement par ordre croissant \n",
    "\n",
    "num_list_df.sort_values([0], ascending = True)"
   ]
  },
  {
   "cell_type": "code",
   "execution_count": 51,
   "id": "19627c02",
   "metadata": {},
   "outputs": [
    {
     "data": {
      "text/html": [
       "<div>\n",
       "<style scoped>\n",
       "    .dataframe tbody tr th:only-of-type {\n",
       "        vertical-align: middle;\n",
       "    }\n",
       "\n",
       "    .dataframe tbody tr th {\n",
       "        vertical-align: top;\n",
       "    }\n",
       "\n",
       "    .dataframe thead th {\n",
       "        text-align: right;\n",
       "    }\n",
       "</style>\n",
       "<table border=\"1\" class=\"dataframe\">\n",
       "  <thead>\n",
       "    <tr style=\"text-align: right;\">\n",
       "      <th></th>\n",
       "      <th>0</th>\n",
       "    </tr>\n",
       "  </thead>\n",
       "  <tbody>\n",
       "    <tr>\n",
       "      <th>19</th>\n",
       "      <td>1.671880</td>\n",
       "    </tr>\n",
       "    <tr>\n",
       "      <th>18</th>\n",
       "      <td>1.276809</td>\n",
       "    </tr>\n",
       "    <tr>\n",
       "      <th>17</th>\n",
       "      <td>0.907851</td>\n",
       "    </tr>\n",
       "    <tr>\n",
       "      <th>16</th>\n",
       "      <td>0.764593</td>\n",
       "    </tr>\n",
       "    <tr>\n",
       "      <th>15</th>\n",
       "      <td>0.302945</td>\n",
       "    </tr>\n",
       "    <tr>\n",
       "      <th>14</th>\n",
       "      <td>0.269651</td>\n",
       "    </tr>\n",
       "    <tr>\n",
       "      <th>13</th>\n",
       "      <td>0.187131</td>\n",
       "    </tr>\n",
       "    <tr>\n",
       "      <th>12</th>\n",
       "      <td>0.124827</td>\n",
       "    </tr>\n",
       "    <tr>\n",
       "      <th>11</th>\n",
       "      <td>0.082172</td>\n",
       "    </tr>\n",
       "    <tr>\n",
       "      <th>10</th>\n",
       "      <td>0.028052</td>\n",
       "    </tr>\n",
       "    <tr>\n",
       "      <th>9</th>\n",
       "      <td>-0.020449</td>\n",
       "    </tr>\n",
       "    <tr>\n",
       "      <th>8</th>\n",
       "      <td>-0.143564</td>\n",
       "    </tr>\n",
       "    <tr>\n",
       "      <th>7</th>\n",
       "      <td>-0.295480</td>\n",
       "    </tr>\n",
       "    <tr>\n",
       "      <th>6</th>\n",
       "      <td>-0.630369</td>\n",
       "    </tr>\n",
       "    <tr>\n",
       "      <th>5</th>\n",
       "      <td>-0.687142</td>\n",
       "    </tr>\n",
       "    <tr>\n",
       "      <th>4</th>\n",
       "      <td>-0.766557</td>\n",
       "    </tr>\n",
       "    <tr>\n",
       "      <th>3</th>\n",
       "      <td>-0.778103</td>\n",
       "    </tr>\n",
       "    <tr>\n",
       "      <th>2</th>\n",
       "      <td>-0.968863</td>\n",
       "    </tr>\n",
       "    <tr>\n",
       "      <th>1</th>\n",
       "      <td>-1.887167</td>\n",
       "    </tr>\n",
       "    <tr>\n",
       "      <th>0</th>\n",
       "      <td>-2.078626</td>\n",
       "    </tr>\n",
       "  </tbody>\n",
       "</table>\n",
       "</div>"
      ],
      "text/plain": [
       "           0\n",
       "19  1.671880\n",
       "18  1.276809\n",
       "17  0.907851\n",
       "16  0.764593\n",
       "15  0.302945\n",
       "14  0.269651\n",
       "13  0.187131\n",
       "12  0.124827\n",
       "11  0.082172\n",
       "10  0.028052\n",
       "9  -0.020449\n",
       "8  -0.143564\n",
       "7  -0.295480\n",
       "6  -0.630369\n",
       "5  -0.687142\n",
       "4  -0.766557\n",
       "3  -0.778103\n",
       "2  -0.968863\n",
       "1  -1.887167\n",
       "0  -2.078626"
      ]
     },
     "execution_count": 51,
     "metadata": {},
     "output_type": "execute_result"
    }
   ],
   "source": [
    "# Classement par orde décroissant\n",
    "\n",
    "num_list_df.sort_values([0], ascending = False)"
   ]
  },
  {
   "cell_type": "markdown",
   "id": "f9268817",
   "metadata": {},
   "source": [
    "## Exercice 4\n",
    "> **A l'aide de boucle for, calculer quelques série mathématiques connu et comparer le résultat à la théorie Sum 1/n^2 , Sum n etc...**"
   ]
  },
  {
   "cell_type": "code",
   "execution_count": null,
   "id": "e849bb89",
   "metadata": {},
   "outputs": [],
   "source": []
  }
 ],
 "metadata": {
  "kernelspec": {
   "display_name": "Python 3 (ipykernel)",
   "language": "python",
   "name": "python3"
  },
  "language_info": {
   "codemirror_mode": {
    "name": "ipython",
    "version": 3
   },
   "file_extension": ".py",
   "mimetype": "text/x-python",
   "name": "python",
   "nbconvert_exporter": "python",
   "pygments_lexer": "ipython3",
   "version": "3.8.11"
  }
 },
 "nbformat": 4,
 "nbformat_minor": 5
}
