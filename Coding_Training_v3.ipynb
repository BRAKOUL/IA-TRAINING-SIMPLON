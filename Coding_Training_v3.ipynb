{
 "cells": [
  {
   "cell_type": "markdown",
   "id": "97508631",
   "metadata": {},
   "source": [
    "# EXOS ALGORYTHMIQUE TRAINING"
   ]
  },
  {
   "cell_type": "code",
   "execution_count": 22,
   "id": "d9820854",
   "metadata": {},
   "outputs": [],
   "source": [
    "import numpy as np\n",
    "from numpy import random"
   ]
  },
  {
   "cell_type": "markdown",
   "id": "200be536",
   "metadata": {},
   "source": [
    "# 1. Leçons\n",
    "## 1.1. Leçon 1 : \n",
    "> **Identifier le maximum, le minimum des chiffres en parcourant la liste**\n",
    "### 1. Identification du maximum"
   ]
  },
  {
   "cell_type": "code",
   "execution_count": 377,
   "id": "93d9284d",
   "metadata": {},
   "outputs": [
    {
     "name": "stdout",
     "output_type": "stream",
     "text": [
      "9\n"
     ]
    }
   ],
   "source": [
    "# 1 / Identification du maximum\n",
    "\n",
    "# Exemple 1:\n",
    "\n",
    "listx = [1,2,3,4,9,6,5]\n",
    "\n",
    "le_max = -np.inf   # Si on initialise le_max = -l'infini (-np.inf) => Tt chiffre lui sera >\n",
    "for x in listx: \n",
    "    if(x>le_max):\n",
    "        le_max = x\n",
    "\n",
    "print(le_max)"
   ]
  },
  {
   "cell_type": "markdown",
   "id": "49baebda",
   "metadata": {},
   "source": [
    "**Résumé :**\n",
    "* l'initialisation fixe la varaible le_max à -l'infini\n",
    "* la 1ière entrée x=1 est comparée à -l'infini --> x=1 > -l'infini => le_max = x=1 \n",
    "* la 2ième entrée x=2 est comparée à le_max = 1 --> x=2 > 1 => le_max = x=2\n",
    "* la 3ième entrée x=3 .............. le_max = 2 --> x=3 > 2 => le_max = x=3\n",
    "* la 4ième entrée x=4 .............. le_max = 3 --> x=4 > 3 => le_max = x=4\n",
    "* la 5ième entrée x=9 .............. le_max = 4 --> x=9 > 4 => le_max = x=9\n",
    "* la 6ième entrée x=6 .............. le_max = 9 --> x=6 < 9 => le_max = x=9 RAS\n",
    "* la 7ième entrée x=5 .............. le_max = 9 --> x=5 < 9 => le_max = x=9 RAS => Output final"
   ]
  },
  {
   "cell_type": "code",
   "execution_count": 375,
   "id": "84d6ae94",
   "metadata": {
    "scrolled": true
   },
   "outputs": [
    {
     "name": "stdout",
     "output_type": "stream",
     "text": [
      "Pour x = 2 dans la liste, après comaraison avec le maximum précédent, le_max reste = 2\n",
      "Pour x = 3 dans la liste, après comaraison avec le maximum précédent, le_max reste = 3\n",
      "Pour x = 4 dans la liste, après comaraison avec le maximum précédent, le_max reste = 4\n",
      "Pour x = 9 dans la liste, après comaraison avec le maximum précédent, le_max reste = 9\n",
      "Pour x = 6 dans la liste, après comaraison avec le maximum précédent, le_max reste = 9\n",
      "Pour x = 5 dans la liste, après comaraison avec le maximum précédent, le_max reste = 9\n"
     ]
    }
   ],
   "source": [
    "# Exemple 2 : \n",
    "\n",
    "listx = [1,2,3,4,9,6,5]\n",
    "\n",
    "le_max = listx[0]        # Ici, le_max est initialisé à listx[0] càd à 1\n",
    "for x in listx[1:]:      # La boucle commence donc par le 2ième chiffre de la liste = 2\n",
    "    if(x>le_max):\n",
    "        le_max = x\n",
    "    print('Pour x =',x,'dans la liste, après comaraison avec le maximum précédent, le_max reste =',le_max) "
   ]
  },
  {
   "cell_type": "markdown",
   "id": "d06c461f",
   "metadata": {},
   "source": [
    "### 2. Identification du minimum"
   ]
  },
  {
   "cell_type": "code",
   "execution_count": 387,
   "id": "46a556b2",
   "metadata": {},
   "outputs": [
    {
     "name": "stdout",
     "output_type": "stream",
     "text": [
      "2\n"
     ]
    }
   ],
   "source": [
    "# 2 / Identification du minimum\n",
    "\n",
    "# Exemple 1:\n",
    "\n",
    "listx = [8,2,11,7,4,9,6,5]\n",
    "\n",
    "le_min = +np.inf      # Si on initialise le_min = -np.inf => Impossible car aucun x \n",
    "for x in listx:          # ne peut lui inférieur => initialiser à (+)np.inf\n",
    "    if(x<le_min):     # On décide sur la comparaison <\n",
    "        le_min = x\n",
    "\n",
    "print(le_min)"
   ]
  },
  {
   "cell_type": "code",
   "execution_count": 396,
   "id": "dbb39c5a",
   "metadata": {},
   "outputs": [
    {
     "name": "stdout",
     "output_type": "stream",
     "text": [
      "Pour x = 5 dans la liste, après comaraison avec le minimum précédent, le_min reste = 1\n"
     ]
    }
   ],
   "source": [
    "# Exemple 2 : \n",
    "\n",
    "listx = [1,2,3,4,9,6,5]\n",
    "\n",
    "le_min = listx[0]        # Ici, le_min est initialisé à listx[0] càd à 1\n",
    "for x in listx[1:]:      # La boucle commence donc par le 2ième chiffre de la liste = 2\n",
    "    if(x<le_min):        # On décide sur la comparaison <\n",
    "        le_min = x\n",
    "print('Pour x =',x,'dans la liste, après comaraison avec le minimum précédent, le_min reste =',le_min) "
   ]
  },
  {
   "cell_type": "markdown",
   "id": "05b67823",
   "metadata": {},
   "source": [
    "## 1.2. Leçon 2 : \n",
    "> Différence entre les boucles for & while le principe est le même à une différence, **l'arrêt de la boucle :**\n",
    "> - La boucle `for` en algorithmique se dit:\n",
    ">    - **pour l'indice** `allant de début à fin`, **faire** :\n",
    "> - La boucle `while` se dit:\n",
    ">    - **tant que** `\"condition\"` **faire** :"
   ]
  },
  {
   "cell_type": "code",
   "execution_count": 542,
   "id": "2e2d9938",
   "metadata": {
    "collapsed": true
   },
   "outputs": [
    {
     "name": "stdout",
     "output_type": "stream",
     "text": [
      "0\n",
      "1\n",
      "2\n",
      "3\n",
      "4\n",
      "5\n",
      "6\n",
      "7\n",
      "8\n",
      "9\n"
     ]
    }
   ],
   "source": [
    "for indice in range(10):\n",
    "    print(indice)"
   ]
  },
  {
   "cell_type": "code",
   "execution_count": 543,
   "id": "e90949f0",
   "metadata": {
    "collapsed": true
   },
   "outputs": [
    {
     "name": "stdout",
     "output_type": "stream",
     "text": [
      "0\n",
      "1\n",
      "2\n",
      "3\n",
      "4\n",
      "5\n",
      "6\n",
      "7\n",
      "8\n",
      "9\n"
     ]
    }
   ],
   "source": [
    "indice = 0 \n",
    "while indice < 10:\n",
    "    print(indice)\n",
    "    indice = indice + 1"
   ]
  },
  {
   "cell_type": "code",
   "execution_count": null,
   "id": "9bd801d7",
   "metadata": {},
   "outputs": [],
   "source": []
  },
  {
   "cell_type": "markdown",
   "id": "b6aa5f5d",
   "metadata": {},
   "source": [
    "> **Une autre manière d'utiliser le while est quand tu ne sais pas quand tu dois t'arreter\n",
    "et d'utiliser un break**"
   ]
  },
  {
   "cell_type": "code",
   "execution_count": 13,
   "id": "a9221a9a",
   "metadata": {
    "collapsed": true
   },
   "outputs": [
    {
     "name": "stdout",
     "output_type": "stream",
     "text": [
      "0\n",
      "1\n",
      "2\n",
      "3\n",
      "4\n",
      "5\n",
      "6\n",
      "7\n",
      "8\n",
      "9\n"
     ]
    }
   ],
   "source": [
    "indice = 0 \n",
    "while True:\n",
    "    print(indice)\n",
    "    if indice > 8:\n",
    "        break\n",
    "    else:\n",
    "        indice = indice + 1"
   ]
  },
  {
   "cell_type": "markdown",
   "id": "f1b3d56c",
   "metadata": {},
   "source": [
    "### Exercice 1\n",
    "> - **A l'aide de numpy.random.rand(N) créer N nombres aléatoires d'une distribution uniforme**\n",
    "> - **Faire une fonction (à la main) qui trouve le max et/ou le min de la séquence de valeur (idée parcourir la table et comparer les valeurs 1 à 1 et mettre dans une variable temporaire le maximum**"
   ]
  },
  {
   "cell_type": "code",
   "execution_count": 286,
   "id": "5df19ee9",
   "metadata": {},
   "outputs": [
    {
     "data": {
      "text/plain": [
       "array([0.18594115, 0.81657535, 0.36392274, 0.99421992, 0.72765129,\n",
       "       0.84370184, 0.76963377, 0.14299959, 0.62352579, 0.052022  ,\n",
       "       0.48355881, 0.34387978, 0.56473641, 0.82718114, 0.25218572])"
      ]
     },
     "execution_count": 286,
     "metadata": {},
     "output_type": "execute_result"
    }
   ],
   "source": [
    "# 1/Création de N nombres aléatoires d'une distribution uniforme\n",
    "\n",
    "N = 15\n",
    "x = random.rand(N)\n",
    "x"
   ]
  },
  {
   "cell_type": "code",
   "execution_count": 287,
   "id": "6693545c",
   "metadata": {},
   "outputs": [
    {
     "data": {
      "text/plain": [
       "0.8165753450743581"
      ]
     },
     "execution_count": 287,
     "metadata": {},
     "output_type": "execute_result"
    }
   ],
   "source": [
    "x[0+1]"
   ]
  },
  {
   "cell_type": "code",
   "execution_count": null,
   "id": "4f248b2d",
   "metadata": {},
   "outputs": [],
   "source": []
  },
  {
   "cell_type": "code",
   "execution_count": 289,
   "id": "1ecefed9",
   "metadata": {},
   "outputs": [
    {
     "data": {
      "text/plain": [
       "0.9942199208949689"
      ]
     },
     "execution_count": 289,
     "metadata": {},
     "output_type": "execute_result"
    }
   ],
   "source": [
    "# 2/Création à la main de la fonction qui trouve le maximum\n",
    "\n",
    "maximum = x.max()\n",
    "maximum"
   ]
  },
  {
   "cell_type": "code",
   "execution_count": 290,
   "id": "8c4ce8f8",
   "metadata": {},
   "outputs": [
    {
     "data": {
      "text/plain": [
       "15"
      ]
     },
     "execution_count": 290,
     "metadata": {},
     "output_type": "execute_result"
    }
   ],
   "source": [
    "len(x)"
   ]
  },
  {
   "cell_type": "code",
   "execution_count": 291,
   "id": "5a72b9bc",
   "metadata": {},
   "outputs": [
    {
     "data": {
      "text/plain": [
       "range(0, 15)"
      ]
     },
     "execution_count": 291,
     "metadata": {},
     "output_type": "execute_result"
    }
   ],
   "source": [
    "range(len(x))"
   ]
  },
  {
   "cell_type": "code",
   "execution_count": 292,
   "id": "15addbe7",
   "metadata": {},
   "outputs": [
    {
     "data": {
      "text/plain": [
       "array([0.18594115, 0.81657535, 0.36392274, 0.99421992, 0.72765129,\n",
       "       0.84370184, 0.76963377, 0.14299959, 0.62352579, 0.052022  ,\n",
       "       0.48355881, 0.34387978, 0.56473641, 0.82718114, 0.25218572])"
      ]
     },
     "execution_count": 292,
     "metadata": {},
     "output_type": "execute_result"
    }
   ],
   "source": [
    "# Création de la fonction\n",
    "\n",
    "listx = x\n",
    "listx"
   ]
  },
  {
   "cell_type": "code",
   "execution_count": 295,
   "id": "25168ca8",
   "metadata": {},
   "outputs": [
    {
     "name": "stdout",
     "output_type": "stream",
     "text": [
      "0.9942199208949689\n"
     ]
    }
   ],
   "source": [
    "le_max = -np.inf\n",
    "for x in listx:\n",
    "    if x>le_max:\n",
    "        le_max = x\n",
    "print(le_max)"
   ]
  },
  {
   "cell_type": "code",
   "execution_count": 300,
   "id": "937a8f18",
   "metadata": {},
   "outputs": [
    {
     "data": {
      "text/plain": [
       "0.0520220032309886"
      ]
     },
     "execution_count": 300,
     "metadata": {},
     "output_type": "execute_result"
    }
   ],
   "source": [
    "listx.min()"
   ]
  },
  {
   "cell_type": "code",
   "execution_count": null,
   "id": "d0014849",
   "metadata": {},
   "outputs": [],
   "source": []
  },
  {
   "cell_type": "code",
   "execution_count": null,
   "id": "19c7c3ae",
   "metadata": {},
   "outputs": [],
   "source": [
    "# 3/Création à la main de la fonction qui trouve le minimum"
   ]
  },
  {
   "cell_type": "code",
   "execution_count": 299,
   "id": "af696fcd",
   "metadata": {},
   "outputs": [
    {
     "name": "stdout",
     "output_type": "stream",
     "text": [
      "0.0520220032309886\n"
     ]
    }
   ],
   "source": [
    "le_max = np.inf\n",
    "for x in listx:\n",
    "    if x<le_max:\n",
    "        le_max = x\n",
    "print(le_max)"
   ]
  },
  {
   "cell_type": "code",
   "execution_count": null,
   "id": "15c5eef9",
   "metadata": {},
   "outputs": [],
   "source": []
  },
  {
   "cell_type": "code",
   "execution_count": 182,
   "id": "e849bb89",
   "metadata": {},
   "outputs": [
    {
     "data": {
      "text/plain": [
       "[44, 40, 22, 10, 13, 9, 31, 12, 47, 19, 11, 36, 48, 44, 29]"
      ]
     },
     "execution_count": 182,
     "metadata": {},
     "output_type": "execute_result"
    }
   ],
   "source": [
    "# 4 / Autre exemple d'algorithme qui trouve le minimum de L\n",
    "    # Génération aléatoire d'une suite de chiffres\n",
    "\n",
    "L = list(random.randint(2, 50, 15))\n",
    "L"
   ]
  },
  {
   "cell_type": "code",
   "execution_count": 412,
   "id": "97a844b9",
   "metadata": {},
   "outputs": [
    {
     "name": "stdout",
     "output_type": "stream",
     "text": [
      "9\n"
     ]
    }
   ],
   "source": [
    "    # Algorithme qui trouve le minimum de L\n",
    "\n",
    "L = [44, 40, 22, 10, 13, 9, 31, 12, 47, 19, 11, 36, 48, 44, 29]\n",
    "\n",
    "le_min = np.inf\n",
    "for x in L:\n",
    "    if x<le_min:\n",
    "        le_min = x\n",
    "\n",
    "print(le_min)"
   ]
  },
  {
   "cell_type": "markdown",
   "id": "070d380a",
   "metadata": {},
   "source": [
    "**# Instruction complémentaire :**\n",
    "> Mettre l'opération qui calcule le minimum d'une liste dans une fonction"
   ]
  },
  {
   "cell_type": "code",
   "execution_count": 447,
   "id": "6800aaf0",
   "metadata": {},
   "outputs": [],
   "source": [
    "# 4 / Créer la fonction automatique correspondante\n",
    "\n",
    "def func_min(L):\n",
    "    le_min = L[0]\n",
    "    for x in L[1:]:\n",
    "        if(x<le_min):\n",
    "            le_min = x\n",
    "    return le_min"
   ]
  },
  {
   "cell_type": "code",
   "execution_count": 443,
   "id": "07951b18",
   "metadata": {},
   "outputs": [
    {
     "data": {
      "text/plain": [
       "1"
      ]
     },
     "execution_count": 443,
     "metadata": {},
     "output_type": "execute_result"
    }
   ],
   "source": [
    "L = [1,2,3,4,9,6,5]\n",
    "func_min(L)"
   ]
  },
  {
   "cell_type": "code",
   "execution_count": 446,
   "id": "c5de1cd1",
   "metadata": {},
   "outputs": [
    {
     "data": {
      "text/plain": [
       "-6"
      ]
     },
     "execution_count": 446,
     "metadata": {},
     "output_type": "execute_result"
    }
   ],
   "source": [
    "func_min([15,4,-6,2,6,-3,10,15])"
   ]
  },
  {
   "cell_type": "code",
   "execution_count": null,
   "id": "e4fec60e",
   "metadata": {},
   "outputs": [],
   "source": []
  },
  {
   "cell_type": "markdown",
   "id": "f4754a58",
   "metadata": {},
   "source": [
    "### Exercice 2\n",
    "> **Refaire le même exercice avec des échantillons Gaussiens**"
   ]
  },
  {
   "cell_type": "code",
   "execution_count": 25,
   "id": "4a5ac4eb",
   "metadata": {},
   "outputs": [
    {
     "data": {
      "text/plain": [
       "array([-1.05516447, -0.15298716, -0.24393665,  0.17974754,  0.2707816 ,\n",
       "        0.25810667, -0.90775182,  0.01443471, -0.55909242,  0.29378373,\n",
       "       -0.33649675,  1.45624235,  0.86157077, -1.02762493,  0.4348087 ,\n",
       "       -0.56401039, -1.81391141,  0.10313723,  0.55998014, -0.08661099])"
      ]
     },
     "execution_count": 25,
     "metadata": {},
     "output_type": "execute_result"
    }
   ],
   "source": [
    "# 1/Création de N nombres aléatoires d'une distribution normale (échantillons Gaussiens)\n",
    "\n",
    "N = 20\n",
    "x = random.randn(20)\n",
    "x"
   ]
  },
  {
   "cell_type": "code",
   "execution_count": 26,
   "id": "cf5103c5",
   "metadata": {},
   "outputs": [
    {
     "data": {
      "text/plain": [
       "1.4562423502471924"
      ]
     },
     "execution_count": 26,
     "metadata": {},
     "output_type": "execute_result"
    }
   ],
   "source": [
    "x.max()"
   ]
  },
  {
   "cell_type": "code",
   "execution_count": 27,
   "id": "8cdc65f6",
   "metadata": {},
   "outputs": [
    {
     "data": {
      "text/plain": [
       "-1.8139114138534496"
      ]
     },
     "execution_count": 27,
     "metadata": {},
     "output_type": "execute_result"
    }
   ],
   "source": [
    "x.min()"
   ]
  },
  {
   "cell_type": "code",
   "execution_count": 28,
   "id": "fccd5e49",
   "metadata": {},
   "outputs": [
    {
     "data": {
      "text/plain": [
       "array([-1.05516447, -0.15298716, -0.24393665,  0.17974754,  0.2707816 ,\n",
       "        0.25810667, -0.90775182,  0.01443471, -0.55909242,  0.29378373,\n",
       "       -0.33649675,  1.45624235,  0.86157077, -1.02762493,  0.4348087 ,\n",
       "       -0.56401039, -1.81391141,  0.10313723,  0.55998014, -0.08661099])"
      ]
     },
     "execution_count": 28,
     "metadata": {},
     "output_type": "execute_result"
    }
   ],
   "source": [
    "# 2/Création à la main de la fonction qui trouve le maximum\n",
    "\n",
    "list_gaus = x\n",
    "list_gaus"
   ]
  },
  {
   "cell_type": "code",
   "execution_count": 29,
   "id": "e2957e45",
   "metadata": {},
   "outputs": [
    {
     "name": "stdout",
     "output_type": "stream",
     "text": [
      "1.4562423502471924\n"
     ]
    }
   ],
   "source": [
    "le_max = -np.inf\n",
    "for x in list_gaus: \n",
    "    if(x>le_max):\n",
    "        le_max = x\n",
    "\n",
    "print(le_max)"
   ]
  },
  {
   "cell_type": "code",
   "execution_count": null,
   "id": "0ade7b3d",
   "metadata": {},
   "outputs": [],
   "source": []
  },
  {
   "cell_type": "code",
   "execution_count": 30,
   "id": "abb35254",
   "metadata": {},
   "outputs": [
    {
     "name": "stdout",
     "output_type": "stream",
     "text": [
      "-1.8139114138534496\n"
     ]
    }
   ],
   "source": [
    "# 3/Création à la main de la fonction qui trouve le minimum\n",
    "\n",
    "le_min = list_gaus[0]\n",
    "for x in list_gaus[1:]:\n",
    "    if x<le_min:\n",
    "        le_min = x\n",
    "print(le_min)"
   ]
  },
  {
   "cell_type": "code",
   "execution_count": null,
   "id": "bdb9b61e",
   "metadata": {},
   "outputs": [],
   "source": []
  },
  {
   "cell_type": "code",
   "execution_count": 31,
   "id": "54e89fde",
   "metadata": {},
   "outputs": [],
   "source": [
    "# Créer la fonction automatique correspondant\n",
    "\n",
    "def fonct_max(L):\n",
    "    le_max = -np.inf\n",
    "    for x in L: \n",
    "        if(x>le_max):\n",
    "            le_max = x\n",
    "    return le_max"
   ]
  },
  {
   "cell_type": "code",
   "execution_count": 33,
   "id": "e37e3b7a",
   "metadata": {},
   "outputs": [
    {
     "data": {
      "text/plain": [
       "1.4562423502471924"
      ]
     },
     "execution_count": 33,
     "metadata": {},
     "output_type": "execute_result"
    }
   ],
   "source": [
    "L = list_gaus\n",
    "fonct_max(L)"
   ]
  },
  {
   "cell_type": "markdown",
   "id": "e1b2b6d0",
   "metadata": {},
   "source": [
    "### Exercice 3\n",
    "> **Dans une boucle for, écrire un algorithme permettant de vider une liste pour en remplir une autre**\n",
    "\n",
    "=> Partir d'une liste de valeur et dans une boucle remplir une nouvelle liste avec les valeurs de la liste données en entrée et supprimer de la liste d'entrée la valeur qui vient d'y être être copiée"
   ]
  },
  {
   "cell_type": "code",
   "execution_count": null,
   "id": "fdf9eeb8",
   "metadata": {},
   "outputs": [],
   "source": [
    "Exemples: \n",
    "    \n",
    "liste entrée : [1 , 2 , 3 , 4] \n",
    "liste sortie : [] \n",
    "\n",
    "iteration 1 : \n",
    "liste entrée : [2 , 3 , 4] \n",
    "liste sortie : [1]\n",
    "\n",
    "iteration 2\n",
    "liste entrée : [ 3 , 4] \n",
    "liste sortie : [1,2]\n",
    "\n",
    "iteration 3\n",
    "liste entrée : [4] \n",
    "liste sortie : [1,2,3] \n",
    "\n",
    "iteration 4 \n",
    "liste entrée : [] \n",
    "liste sortie : [1,2,3,4]"
   ]
  },
  {
   "cell_type": "code",
   "execution_count": null,
   "id": "9b7f6e6d",
   "metadata": {},
   "outputs": [],
   "source": []
  },
  {
   "cell_type": "code",
   "execution_count": 427,
   "id": "5b158fad",
   "metadata": {},
   "outputs": [
    {
     "name": "stdout",
     "output_type": "stream",
     "text": [
      "---------------\n",
      "[2, 3, 4]\n",
      "[1]\n",
      "---------------\n",
      "[3, 4]\n",
      "[1, 2]\n",
      "---------------\n",
      "[4]\n",
      "[1, 2, 3]\n",
      "---------------\n",
      "[]\n",
      "[1, 2, 3, 4]\n"
     ]
    }
   ],
   "source": [
    "# EXEMPLE 1 :\n",
    "\n",
    "liste_entree = [1,2,3,4]\n",
    "liste_sortie = []\n",
    "\n",
    "for x in liste_entree[:]:\n",
    "    liste_entree.remove(x)\n",
    "    print('---------------')\n",
    "    print(liste_entree)\n",
    "    liste_sortie.append(x)\n",
    "    print(liste_sortie)"
   ]
  },
  {
   "cell_type": "code",
   "execution_count": null,
   "id": "8dbac683",
   "metadata": {},
   "outputs": [],
   "source": []
  },
  {
   "cell_type": "code",
   "execution_count": 430,
   "id": "e5ae7b15",
   "metadata": {},
   "outputs": [
    {
     "name": "stdout",
     "output_type": "stream",
     "text": [
      "-------------------------------\n",
      "[2, 3, 4, 9, 6, 5, 8, 10]\n",
      "[1]\n",
      "-------------------------------\n",
      "[3, 4, 9, 6, 5, 8, 10]\n",
      "[1, 2]\n",
      "-------------------------------\n",
      "[4, 9, 6, 5, 8, 10]\n",
      "[1, 2, 3]\n",
      "-------------------------------\n",
      "[9, 6, 5, 8, 10]\n",
      "[1, 2, 3, 4]\n",
      "-------------------------------\n",
      "[6, 5, 8, 10]\n",
      "[1, 2, 3, 4, 9]\n",
      "-------------------------------\n",
      "[5, 8, 10]\n",
      "[1, 2, 3, 4, 9, 6]\n",
      "-------------------------------\n",
      "[8, 10]\n",
      "[1, 2, 3, 4, 9, 6, 5]\n",
      "-------------------------------\n",
      "[10]\n",
      "[1, 2, 3, 4, 9, 6, 5, 8]\n",
      "-------------------------------\n",
      "[]\n",
      "[1, 2, 3, 4, 9, 6, 5, 8, 10]\n"
     ]
    }
   ],
   "source": [
    "# EXEMPLE 2 :\n",
    "\n",
    "liste_entree = [1,2,3,4,9,6,5,8,10]\n",
    "liste_sortie = []\n",
    "\n",
    "for x in liste_entree[:]:\n",
    "    liste_entree.remove(x)\n",
    "    print('-------------------------------')\n",
    "    print(liste_entree)\n",
    "    liste_sortie.append(x)\n",
    "    print(liste_sortie)"
   ]
  },
  {
   "cell_type": "markdown",
   "id": "a0dbffc5",
   "metadata": {},
   "source": [
    "### Exercice 4\n",
    "> **Créer une opération qui permet de trier une liste du plus petit au plus grand** (en se basant sur le principe de remplissage/réduction de liste de l'exo précédent)"
   ]
  },
  {
   "cell_type": "code",
   "execution_count": 1,
   "id": "762fa921",
   "metadata": {
    "collapsed": true
   },
   "outputs": [
    {
     "name": "stdout",
     "output_type": "stream",
     "text": [
      "-------------------------------\n",
      "[2, 3, 4, 9, 6, 5, 8, 10]\n",
      "[1]\n",
      "-------------------------------\n",
      "[3, 4, 9, 6, 5, 8, 10]\n",
      "[1, 2]\n",
      "-------------------------------\n",
      "[4, 9, 6, 5, 8, 10]\n",
      "[1, 2, 3]\n",
      "-------------------------------\n",
      "[9, 6, 5, 8, 10]\n",
      "[1, 2, 3, 4]\n",
      "-------------------------------\n",
      "[6, 5, 8, 10]\n",
      "[1, 2, 3, 4, 9]\n",
      "-------------------------------\n",
      "[5, 8, 10]\n",
      "[1, 2, 3, 4, 9, 6]\n",
      "-------------------------------\n",
      "[8, 10]\n",
      "[1, 2, 3, 4, 9, 6, 5]\n",
      "-------------------------------\n",
      "[10]\n",
      "[1, 2, 3, 4, 9, 6, 5, 8]\n",
      "-------------------------------\n",
      "[]\n",
      "[1, 2, 3, 4, 9, 6, 5, 8, 10]\n"
     ]
    }
   ],
   "source": [
    "liste_test = [1,2,3,4,9,6,5,8,10]\n",
    "liste_sortie = []\n",
    "\n",
    "for x in liste_test[:]:\n",
    "    liste_test.remove(x)\n",
    "    print('-------------------------------')\n",
    "    print(liste_test)\n",
    "    liste_sortie.append(x)\n",
    "    print(liste_sortie)"
   ]
  },
  {
   "cell_type": "markdown",
   "id": "71fcf638",
   "metadata": {},
   "source": [
    "### Exercice 5\n",
    "> **Maintenant, combiner l'opération de recherche de min et la reduction de liste pour créer une fonction de trie (=> Création de sa propre fonction 'sort')**"
   ]
  },
  {
   "cell_type": "code",
   "execution_count": 92,
   "id": "d65ae5cb",
   "metadata": {},
   "outputs": [],
   "source": [
    "def func_min(L):\n",
    "    le_min = L[0]\n",
    "    for x in L[1:]:\n",
    "        if(x<le_min):\n",
    "            le_min = x\n",
    "    return le_min\n",
    "\n",
    "def func_trier(L):\n",
    "    liste_ordonnee = []\n",
    "    while L:\n",
    "        le_min = func_min(L)\n",
    "        if le_min == func_min(L):\n",
    "            L.remove(le_min)\n",
    "            liste_ordonnee.append(le_min)\n",
    "    return liste_ordonnee"
   ]
  },
  {
   "cell_type": "code",
   "execution_count": 95,
   "id": "b434d1a9",
   "metadata": {},
   "outputs": [
    {
     "data": {
      "text/plain": [
       "[0, 1, 2, 3, 4, 5, 6, 7, 8, 9, 10]"
      ]
     },
     "execution_count": 95,
     "metadata": {},
     "output_type": "execute_result"
    }
   ],
   "source": [
    "L = [7,1,2,3,0,4,9,6,5,8,10]\n",
    "\n",
    "func_trier(L)"
   ]
  },
  {
   "cell_type": "code",
   "execution_count": null,
   "id": "fc588cbc",
   "metadata": {},
   "outputs": [],
   "source": []
  },
  {
   "cell_type": "code",
   "execution_count": 36,
   "id": "a14241fc",
   "metadata": {},
   "outputs": [],
   "source": [
    "# Alternative, Non conseillée\n",
    "\n",
    "liste_test = []\n",
    "liste_sortie = []\n",
    "\n",
    "def func_trier(liste_test):\n",
    "    liste_sortie = []\n",
    "    while liste_test:\n",
    "        le_min = liste_test[0]\n",
    "        for x in liste_test:\n",
    "            if x<le_min:\n",
    "                le_min = x\n",
    "        liste_test.remove(le_min )\n",
    "        liste_sortie.append(le_min )\n",
    "\n",
    "    return liste_sortie"
   ]
  },
  {
   "cell_type": "code",
   "execution_count": 37,
   "id": "2dcfc178",
   "metadata": {},
   "outputs": [
    {
     "data": {
      "text/plain": [
       "[-4, 0, 1, 2, 3, 4, 5, 6, 8, 9, 10]"
      ]
     },
     "execution_count": 37,
     "metadata": {},
     "output_type": "execute_result"
    }
   ],
   "source": [
    "liste_test = [1,2,3,4,0,9,6,-4,5,8,10]\n",
    "func_trier(liste_test)"
   ]
  },
  {
   "cell_type": "markdown",
   "id": "f9268817",
   "metadata": {},
   "source": [
    "### Exercice 6\n",
    "> **A l'aide de boucle for, calculer quelques série mathématiques connu et comparer le résultat à la théorie Sum 1/n^2 , Sum n etc...**"
   ]
  },
  {
   "cell_type": "code",
   "execution_count": null,
   "id": "7bd6c46b",
   "metadata": {},
   "outputs": [],
   "source": []
  },
  {
   "cell_type": "code",
   "execution_count": null,
   "id": "149501e3",
   "metadata": {},
   "outputs": [],
   "source": []
  },
  {
   "cell_type": "code",
   "execution_count": null,
   "id": "89a12164",
   "metadata": {},
   "outputs": [],
   "source": []
  },
  {
   "cell_type": "code",
   "execution_count": null,
   "id": "8f3a3c5f",
   "metadata": {},
   "outputs": [],
   "source": []
  },
  {
   "cell_type": "code",
   "execution_count": null,
   "id": "60889fa0",
   "metadata": {},
   "outputs": [],
   "source": []
  },
  {
   "cell_type": "code",
   "execution_count": null,
   "id": "1f75e365",
   "metadata": {},
   "outputs": [],
   "source": []
  },
  {
   "cell_type": "code",
   "execution_count": null,
   "id": "d5669cc1",
   "metadata": {},
   "outputs": [],
   "source": []
  }
 ],
 "metadata": {
  "kernelspec": {
   "display_name": "Python 3 (ipykernel)",
   "language": "python",
   "name": "python3"
  },
  "language_info": {
   "codemirror_mode": {
    "name": "ipython",
    "version": 3
   },
   "file_extension": ".py",
   "mimetype": "text/x-python",
   "name": "python",
   "nbconvert_exporter": "python",
   "pygments_lexer": "ipython3",
   "version": "3.8.11"
  }
 },
 "nbformat": 4,
 "nbformat_minor": 5
}
