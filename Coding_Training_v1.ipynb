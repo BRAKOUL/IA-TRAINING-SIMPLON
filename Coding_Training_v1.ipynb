{
 "cells": [
  {
   "cell_type": "markdown",
   "id": "97508631",
   "metadata": {},
   "source": [
    "# EXOS ALGORYTHMIQUE TRAINING"
   ]
  },
  {
   "cell_type": "markdown",
   "id": "f1b3d56c",
   "metadata": {},
   "source": [
    "## Exercice 1\n",
    "> - **A l'aide de numpy.random.rand(N) créer N nombres aléatoires d'une distribution uniforme**\n",
    "> - **Faire une fonction (à la main) qui trouve le max et/ou le min de la séquence de valeur (idée parcourir la table et comparer les valeurs 1 à 1 et mettre dans une variable temporaire le maximum**"
   ]
  },
  {
   "cell_type": "code",
   "execution_count": 177,
   "id": "d9820854",
   "metadata": {},
   "outputs": [],
   "source": [
    "import numpy as np\n",
    "from numpy import random"
   ]
  },
  {
   "cell_type": "code",
   "execution_count": 143,
   "id": "5df19ee9",
   "metadata": {},
   "outputs": [
    {
     "data": {
      "text/plain": [
       "array([0.51318155, 0.82408456, 0.54950946, 0.755878  , 0.1754822 ,\n",
       "       0.2013702 , 0.19938686, 0.9323083 , 0.02716207, 0.52548766,\n",
       "       0.67829365, 0.39921442, 0.79003026, 0.28459122, 0.19516889])"
      ]
     },
     "execution_count": 143,
     "metadata": {},
     "output_type": "execute_result"
    }
   ],
   "source": [
    "# 1/Création de N nombres aléatoires d'une distribution uniforme\n",
    "\n",
    "N = 15\n",
    "x = random.rand(N)\n",
    "x"
   ]
  },
  {
   "cell_type": "code",
   "execution_count": 144,
   "id": "6693545c",
   "metadata": {},
   "outputs": [
    {
     "data": {
      "text/plain": [
       "0.8240845648741437"
      ]
     },
     "execution_count": 144,
     "metadata": {},
     "output_type": "execute_result"
    }
   ],
   "source": [
    "x[0+1]"
   ]
  },
  {
   "cell_type": "code",
   "execution_count": 145,
   "id": "1ecefed9",
   "metadata": {},
   "outputs": [
    {
     "data": {
      "text/plain": [
       "0.9323082976728178"
      ]
     },
     "execution_count": 145,
     "metadata": {},
     "output_type": "execute_result"
    }
   ],
   "source": [
    "# 2/Création à la main de la fonction qui trouve le maximum\n",
    "\n",
    "maximum = x.max()\n",
    "maximum"
   ]
  },
  {
   "cell_type": "code",
   "execution_count": 146,
   "id": "8c4ce8f8",
   "metadata": {},
   "outputs": [
    {
     "data": {
      "text/plain": [
       "15"
      ]
     },
     "execution_count": 146,
     "metadata": {},
     "output_type": "execute_result"
    }
   ],
   "source": [
    "len(x)"
   ]
  },
  {
   "cell_type": "code",
   "execution_count": 147,
   "id": "5a72b9bc",
   "metadata": {},
   "outputs": [
    {
     "data": {
      "text/plain": [
       "range(0, 15)"
      ]
     },
     "execution_count": 147,
     "metadata": {},
     "output_type": "execute_result"
    }
   ],
   "source": [
    "range(len(x))"
   ]
  },
  {
   "cell_type": "code",
   "execution_count": 148,
   "id": "d35a3944",
   "metadata": {},
   "outputs": [
    {
     "name": "stdout",
     "output_type": "stream",
     "text": [
      "0.284591223890558\n"
     ]
    }
   ],
   "source": [
    "# Création de la fonction\n",
    "\n",
    "for i in range(len(x)-1):\n",
    "    if x[i] > x[i+1]:\n",
    "        maximum = x[i]  \n",
    "    else:\n",
    "        maximum = x[i+1]\n",
    "print(maximum)"
   ]
  },
  {
   "cell_type": "code",
   "execution_count": 149,
   "id": "15addbe7",
   "metadata": {},
   "outputs": [
    {
     "data": {
      "text/plain": [
       "array([0.51318155, 0.82408456, 0.54950946, 0.755878  , 0.1754822 ,\n",
       "       0.2013702 , 0.19938686, 0.9323083 , 0.02716207, 0.52548766,\n",
       "       0.67829365, 0.39921442, 0.79003026, 0.28459122, 0.19516889])"
      ]
     },
     "execution_count": 149,
     "metadata": {},
     "output_type": "execute_result"
    }
   ],
   "source": [
    "listx = x\n",
    "listx"
   ]
  },
  {
   "cell_type": "code",
   "execution_count": 150,
   "id": "f8dfcfc1",
   "metadata": {},
   "outputs": [
    {
     "data": {
      "text/plain": [
       "-inf"
      ]
     },
     "execution_count": 150,
     "metadata": {},
     "output_type": "execute_result"
    }
   ],
   "source": [
    "le_max = -np.inf\n",
    "le_max"
   ]
  },
  {
   "cell_type": "code",
   "execution_count": 151,
   "id": "25168ca8",
   "metadata": {},
   "outputs": [
    {
     "name": "stdout",
     "output_type": "stream",
     "text": [
      "0.9323082976728178\n"
     ]
    }
   ],
   "source": [
    "for x in listx:\n",
    "    if x>le_max:\n",
    "        le_max = x\n",
    "print(le_max)"
   ]
  },
  {
   "cell_type": "code",
   "execution_count": null,
   "id": "0c11504e",
   "metadata": {},
   "outputs": [],
   "source": []
  },
  {
   "cell_type": "code",
   "execution_count": 222,
   "id": "93d9284d",
   "metadata": {},
   "outputs": [
    {
     "name": "stdout",
     "output_type": "stream",
     "text": [
      "9\n"
     ]
    }
   ],
   "source": [
    "listx = [1,2,3,4,9,6,5]\n",
    "\n",
    "le_max = -np.inf \n",
    "for x in listx: \n",
    "    if(x>le_max):\n",
    "        le_max = x\n",
    "\n",
    "print(le_max)"
   ]
  },
  {
   "cell_type": "code",
   "execution_count": null,
   "id": "19c7c3ae",
   "metadata": {},
   "outputs": [],
   "source": []
  },
  {
   "cell_type": "code",
   "execution_count": 154,
   "id": "6800aaf0",
   "metadata": {},
   "outputs": [],
   "source": [
    "# Créer la fonction automatique correspondante (A revoir !)\n",
    "\n",
    "def fonct_max():\n",
    "    for i in num_list:\n",
    "        maximum = max(num_list)\n",
    "        return maximum"
   ]
  },
  {
   "cell_type": "markdown",
   "id": "f4754a58",
   "metadata": {},
   "source": [
    "## Exercice 2\n",
    "> **Refaire le même exercice avec des échantillons Gaussiens**"
   ]
  },
  {
   "cell_type": "code",
   "execution_count": 53,
   "id": "4a5ac4eb",
   "metadata": {},
   "outputs": [
    {
     "data": {
      "text/plain": [
       "array([-0.19474103,  1.53110801, -0.94810106,  0.16249851, -0.34143489,\n",
       "        0.65390907,  1.02657916,  0.45989092, -0.82289171,  1.07521008,\n",
       "        0.48231005, -1.10129002, -1.77291341,  1.71349266, -0.49437202,\n",
       "       -2.41727262, -1.36073399, -0.67692209, -0.11441419,  0.61309932])"
      ]
     },
     "execution_count": 53,
     "metadata": {},
     "output_type": "execute_result"
    }
   ],
   "source": [
    "# 1/Création de N nombres aléatoires d'une distribution normale (échantillons Gaussiens)\n",
    "\n",
    "N = 20\n",
    "x = random.randn(20)\n",
    "x"
   ]
  },
  {
   "cell_type": "code",
   "execution_count": 66,
   "id": "cf5103c5",
   "metadata": {},
   "outputs": [
    {
     "data": {
      "text/plain": [
       "-2.417272624003228"
      ]
     },
     "execution_count": 66,
     "metadata": {},
     "output_type": "execute_result"
    }
   ],
   "source": [
    "x.min()"
   ]
  },
  {
   "cell_type": "code",
   "execution_count": 86,
   "id": "5823fe59",
   "metadata": {},
   "outputs": [
    {
     "data": {
      "text/plain": [
       "range(0, 20)"
      ]
     },
     "execution_count": 86,
     "metadata": {},
     "output_type": "execute_result"
    }
   ],
   "source": [
    "range(len(x))"
   ]
  },
  {
   "cell_type": "code",
   "execution_count": 84,
   "id": "fccd5e49",
   "metadata": {},
   "outputs": [
    {
     "name": "stdout",
     "output_type": "stream",
     "text": [
      "-0.11441419363408285\n"
     ]
    }
   ],
   "source": [
    "# 2/Création à la main de la fonction qui trouve le maximum\n",
    "\n",
    "for i in range(len(x)-1):\n",
    "    if x[i] > x[i+1]:\n",
    "        minimum = x[i+1]\n",
    "    else:\n",
    "        minimum = x[i]\n",
    "print(minimum)"
   ]
  },
  {
   "cell_type": "code",
   "execution_count": 58,
   "id": "54e89fde",
   "metadata": {},
   "outputs": [],
   "source": [
    "# Créer la fonction automatique correspondant (A revoir)\n",
    "\n",
    "def fonct_min():\n",
    "    for i in num_list:\n",
    "        minimum = min(num_list)\n",
    "        return minimum"
   ]
  },
  {
   "cell_type": "markdown",
   "id": "fbdcecab",
   "metadata": {},
   "source": [
    "## Exercice 3\n",
    "> **Réussir à classer une séquence en ordre croissant puis décroissant**"
   ]
  },
  {
   "cell_type": "code",
   "execution_count": 41,
   "id": "bff3ef42",
   "metadata": {
    "collapsed": true
   },
   "outputs": [
    {
     "data": {
      "text/html": [
       "<div>\n",
       "<style scoped>\n",
       "    .dataframe tbody tr th:only-of-type {\n",
       "        vertical-align: middle;\n",
       "    }\n",
       "\n",
       "    .dataframe tbody tr th {\n",
       "        vertical-align: top;\n",
       "    }\n",
       "\n",
       "    .dataframe thead th {\n",
       "        text-align: right;\n",
       "    }\n",
       "</style>\n",
       "<table border=\"1\" class=\"dataframe\">\n",
       "  <thead>\n",
       "    <tr style=\"text-align: right;\">\n",
       "      <th></th>\n",
       "      <th>0</th>\n",
       "    </tr>\n",
       "  </thead>\n",
       "  <tbody>\n",
       "    <tr>\n",
       "      <th>0</th>\n",
       "      <td>-2.078626</td>\n",
       "    </tr>\n",
       "    <tr>\n",
       "      <th>1</th>\n",
       "      <td>-1.887167</td>\n",
       "    </tr>\n",
       "    <tr>\n",
       "      <th>2</th>\n",
       "      <td>-0.968863</td>\n",
       "    </tr>\n",
       "    <tr>\n",
       "      <th>3</th>\n",
       "      <td>-0.778103</td>\n",
       "    </tr>\n",
       "    <tr>\n",
       "      <th>4</th>\n",
       "      <td>-0.766557</td>\n",
       "    </tr>\n",
       "    <tr>\n",
       "      <th>5</th>\n",
       "      <td>-0.687142</td>\n",
       "    </tr>\n",
       "    <tr>\n",
       "      <th>6</th>\n",
       "      <td>-0.630369</td>\n",
       "    </tr>\n",
       "    <tr>\n",
       "      <th>7</th>\n",
       "      <td>-0.295480</td>\n",
       "    </tr>\n",
       "    <tr>\n",
       "      <th>8</th>\n",
       "      <td>-0.143564</td>\n",
       "    </tr>\n",
       "    <tr>\n",
       "      <th>9</th>\n",
       "      <td>-0.020449</td>\n",
       "    </tr>\n",
       "    <tr>\n",
       "      <th>10</th>\n",
       "      <td>0.028052</td>\n",
       "    </tr>\n",
       "    <tr>\n",
       "      <th>11</th>\n",
       "      <td>0.082172</td>\n",
       "    </tr>\n",
       "    <tr>\n",
       "      <th>12</th>\n",
       "      <td>0.124827</td>\n",
       "    </tr>\n",
       "    <tr>\n",
       "      <th>13</th>\n",
       "      <td>0.187131</td>\n",
       "    </tr>\n",
       "    <tr>\n",
       "      <th>14</th>\n",
       "      <td>0.269651</td>\n",
       "    </tr>\n",
       "    <tr>\n",
       "      <th>15</th>\n",
       "      <td>0.302945</td>\n",
       "    </tr>\n",
       "    <tr>\n",
       "      <th>16</th>\n",
       "      <td>0.764593</td>\n",
       "    </tr>\n",
       "    <tr>\n",
       "      <th>17</th>\n",
       "      <td>0.907851</td>\n",
       "    </tr>\n",
       "    <tr>\n",
       "      <th>18</th>\n",
       "      <td>1.276809</td>\n",
       "    </tr>\n",
       "    <tr>\n",
       "      <th>19</th>\n",
       "      <td>1.671880</td>\n",
       "    </tr>\n",
       "  </tbody>\n",
       "</table>\n",
       "</div>"
      ],
      "text/plain": [
       "           0\n",
       "0  -2.078626\n",
       "1  -1.887167\n",
       "2  -0.968863\n",
       "3  -0.778103\n",
       "4  -0.766557\n",
       "5  -0.687142\n",
       "6  -0.630369\n",
       "7  -0.295480\n",
       "8  -0.143564\n",
       "9  -0.020449\n",
       "10  0.028052\n",
       "11  0.082172\n",
       "12  0.124827\n",
       "13  0.187131\n",
       "14  0.269651\n",
       "15  0.302945\n",
       "16  0.764593\n",
       "17  0.907851\n",
       "18  1.276809\n",
       "19  1.671880"
      ]
     },
     "execution_count": 41,
     "metadata": {},
     "output_type": "execute_result"
    }
   ],
   "source": [
    "# 1/Convertir num_list en Dataframe\n",
    "\n",
    "import pandas as pd\n",
    "\n",
    "num_list_df = pd.DataFrame(num_list)\n",
    "num_list_df"
   ]
  },
  {
   "cell_type": "code",
   "execution_count": 50,
   "id": "9334fa7e",
   "metadata": {},
   "outputs": [
    {
     "data": {
      "text/html": [
       "<div>\n",
       "<style scoped>\n",
       "    .dataframe tbody tr th:only-of-type {\n",
       "        vertical-align: middle;\n",
       "    }\n",
       "\n",
       "    .dataframe tbody tr th {\n",
       "        vertical-align: top;\n",
       "    }\n",
       "\n",
       "    .dataframe thead th {\n",
       "        text-align: right;\n",
       "    }\n",
       "</style>\n",
       "<table border=\"1\" class=\"dataframe\">\n",
       "  <thead>\n",
       "    <tr style=\"text-align: right;\">\n",
       "      <th></th>\n",
       "      <th>0</th>\n",
       "    </tr>\n",
       "  </thead>\n",
       "  <tbody>\n",
       "    <tr>\n",
       "      <th>0</th>\n",
       "      <td>-2.078626</td>\n",
       "    </tr>\n",
       "    <tr>\n",
       "      <th>1</th>\n",
       "      <td>-1.887167</td>\n",
       "    </tr>\n",
       "    <tr>\n",
       "      <th>2</th>\n",
       "      <td>-0.968863</td>\n",
       "    </tr>\n",
       "    <tr>\n",
       "      <th>3</th>\n",
       "      <td>-0.778103</td>\n",
       "    </tr>\n",
       "    <tr>\n",
       "      <th>4</th>\n",
       "      <td>-0.766557</td>\n",
       "    </tr>\n",
       "    <tr>\n",
       "      <th>5</th>\n",
       "      <td>-0.687142</td>\n",
       "    </tr>\n",
       "    <tr>\n",
       "      <th>6</th>\n",
       "      <td>-0.630369</td>\n",
       "    </tr>\n",
       "    <tr>\n",
       "      <th>7</th>\n",
       "      <td>-0.295480</td>\n",
       "    </tr>\n",
       "    <tr>\n",
       "      <th>8</th>\n",
       "      <td>-0.143564</td>\n",
       "    </tr>\n",
       "    <tr>\n",
       "      <th>9</th>\n",
       "      <td>-0.020449</td>\n",
       "    </tr>\n",
       "    <tr>\n",
       "      <th>10</th>\n",
       "      <td>0.028052</td>\n",
       "    </tr>\n",
       "    <tr>\n",
       "      <th>11</th>\n",
       "      <td>0.082172</td>\n",
       "    </tr>\n",
       "    <tr>\n",
       "      <th>12</th>\n",
       "      <td>0.124827</td>\n",
       "    </tr>\n",
       "    <tr>\n",
       "      <th>13</th>\n",
       "      <td>0.187131</td>\n",
       "    </tr>\n",
       "    <tr>\n",
       "      <th>14</th>\n",
       "      <td>0.269651</td>\n",
       "    </tr>\n",
       "    <tr>\n",
       "      <th>15</th>\n",
       "      <td>0.302945</td>\n",
       "    </tr>\n",
       "    <tr>\n",
       "      <th>16</th>\n",
       "      <td>0.764593</td>\n",
       "    </tr>\n",
       "    <tr>\n",
       "      <th>17</th>\n",
       "      <td>0.907851</td>\n",
       "    </tr>\n",
       "    <tr>\n",
       "      <th>18</th>\n",
       "      <td>1.276809</td>\n",
       "    </tr>\n",
       "    <tr>\n",
       "      <th>19</th>\n",
       "      <td>1.671880</td>\n",
       "    </tr>\n",
       "  </tbody>\n",
       "</table>\n",
       "</div>"
      ],
      "text/plain": [
       "           0\n",
       "0  -2.078626\n",
       "1  -1.887167\n",
       "2  -0.968863\n",
       "3  -0.778103\n",
       "4  -0.766557\n",
       "5  -0.687142\n",
       "6  -0.630369\n",
       "7  -0.295480\n",
       "8  -0.143564\n",
       "9  -0.020449\n",
       "10  0.028052\n",
       "11  0.082172\n",
       "12  0.124827\n",
       "13  0.187131\n",
       "14  0.269651\n",
       "15  0.302945\n",
       "16  0.764593\n",
       "17  0.907851\n",
       "18  1.276809\n",
       "19  1.671880"
      ]
     },
     "execution_count": 50,
     "metadata": {},
     "output_type": "execute_result"
    }
   ],
   "source": [
    "# Classement par ordre croissant \n",
    "\n",
    "num_list_df.sort_values([0], ascending = True)"
   ]
  },
  {
   "cell_type": "code",
   "execution_count": 51,
   "id": "19627c02",
   "metadata": {},
   "outputs": [
    {
     "data": {
      "text/html": [
       "<div>\n",
       "<style scoped>\n",
       "    .dataframe tbody tr th:only-of-type {\n",
       "        vertical-align: middle;\n",
       "    }\n",
       "\n",
       "    .dataframe tbody tr th {\n",
       "        vertical-align: top;\n",
       "    }\n",
       "\n",
       "    .dataframe thead th {\n",
       "        text-align: right;\n",
       "    }\n",
       "</style>\n",
       "<table border=\"1\" class=\"dataframe\">\n",
       "  <thead>\n",
       "    <tr style=\"text-align: right;\">\n",
       "      <th></th>\n",
       "      <th>0</th>\n",
       "    </tr>\n",
       "  </thead>\n",
       "  <tbody>\n",
       "    <tr>\n",
       "      <th>19</th>\n",
       "      <td>1.671880</td>\n",
       "    </tr>\n",
       "    <tr>\n",
       "      <th>18</th>\n",
       "      <td>1.276809</td>\n",
       "    </tr>\n",
       "    <tr>\n",
       "      <th>17</th>\n",
       "      <td>0.907851</td>\n",
       "    </tr>\n",
       "    <tr>\n",
       "      <th>16</th>\n",
       "      <td>0.764593</td>\n",
       "    </tr>\n",
       "    <tr>\n",
       "      <th>15</th>\n",
       "      <td>0.302945</td>\n",
       "    </tr>\n",
       "    <tr>\n",
       "      <th>14</th>\n",
       "      <td>0.269651</td>\n",
       "    </tr>\n",
       "    <tr>\n",
       "      <th>13</th>\n",
       "      <td>0.187131</td>\n",
       "    </tr>\n",
       "    <tr>\n",
       "      <th>12</th>\n",
       "      <td>0.124827</td>\n",
       "    </tr>\n",
       "    <tr>\n",
       "      <th>11</th>\n",
       "      <td>0.082172</td>\n",
       "    </tr>\n",
       "    <tr>\n",
       "      <th>10</th>\n",
       "      <td>0.028052</td>\n",
       "    </tr>\n",
       "    <tr>\n",
       "      <th>9</th>\n",
       "      <td>-0.020449</td>\n",
       "    </tr>\n",
       "    <tr>\n",
       "      <th>8</th>\n",
       "      <td>-0.143564</td>\n",
       "    </tr>\n",
       "    <tr>\n",
       "      <th>7</th>\n",
       "      <td>-0.295480</td>\n",
       "    </tr>\n",
       "    <tr>\n",
       "      <th>6</th>\n",
       "      <td>-0.630369</td>\n",
       "    </tr>\n",
       "    <tr>\n",
       "      <th>5</th>\n",
       "      <td>-0.687142</td>\n",
       "    </tr>\n",
       "    <tr>\n",
       "      <th>4</th>\n",
       "      <td>-0.766557</td>\n",
       "    </tr>\n",
       "    <tr>\n",
       "      <th>3</th>\n",
       "      <td>-0.778103</td>\n",
       "    </tr>\n",
       "    <tr>\n",
       "      <th>2</th>\n",
       "      <td>-0.968863</td>\n",
       "    </tr>\n",
       "    <tr>\n",
       "      <th>1</th>\n",
       "      <td>-1.887167</td>\n",
       "    </tr>\n",
       "    <tr>\n",
       "      <th>0</th>\n",
       "      <td>-2.078626</td>\n",
       "    </tr>\n",
       "  </tbody>\n",
       "</table>\n",
       "</div>"
      ],
      "text/plain": [
       "           0\n",
       "19  1.671880\n",
       "18  1.276809\n",
       "17  0.907851\n",
       "16  0.764593\n",
       "15  0.302945\n",
       "14  0.269651\n",
       "13  0.187131\n",
       "12  0.124827\n",
       "11  0.082172\n",
       "10  0.028052\n",
       "9  -0.020449\n",
       "8  -0.143564\n",
       "7  -0.295480\n",
       "6  -0.630369\n",
       "5  -0.687142\n",
       "4  -0.766557\n",
       "3  -0.778103\n",
       "2  -0.968863\n",
       "1  -1.887167\n",
       "0  -2.078626"
      ]
     },
     "execution_count": 51,
     "metadata": {},
     "output_type": "execute_result"
    }
   ],
   "source": [
    "# Classement par orde décroissant\n",
    "\n",
    "num_list_df.sort_values([0], ascending = False)"
   ]
  },
  {
   "cell_type": "markdown",
   "id": "f9268817",
   "metadata": {},
   "source": [
    "## Exercice 4\n",
    "> **A l'aide de boucle for, calculer quelques série mathématiques connu et comparer le résultat à la théorie Sum 1/n^2 , Sum n etc...**"
   ]
  },
  {
   "cell_type": "code",
   "execution_count": 182,
   "id": "e849bb89",
   "metadata": {},
   "outputs": [
    {
     "data": {
      "text/plain": [
       "[44, 40, 22, 10, 13, 9, 31, 12, 47, 19, 11, 36, 48, 44, 29]"
      ]
     },
     "execution_count": 182,
     "metadata": {},
     "output_type": "execute_result"
    }
   ],
   "source": [
    "# 1/Génération aléatoire d'une suite de chiffres\n",
    "\n",
    "L = list(random.randint(2, 50, 15))\n",
    "L"
   ]
  },
  {
   "cell_type": "code",
   "execution_count": null,
   "id": "1918dbeb",
   "metadata": {},
   "outputs": [],
   "source": []
  },
  {
   "cell_type": "code",
   "execution_count": 220,
   "id": "97a844b9",
   "metadata": {},
   "outputs": [
    {
     "name": "stdout",
     "output_type": "stream",
     "text": [
      "9\n"
     ]
    }
   ],
   "source": [
    "# Algorithme qui trouve le minimum de L\n",
    "\n",
    "L = [44, 40, 22, 10, 13, 9, 31, 12, 47, 19, 11, 36, 48, 44, 29]\n",
    "\n",
    "le_min = np.inf\n",
    "for x in L:\n",
    "    if le_min > x:\n",
    "        le_min = x\n",
    "\n",
    "print(le_min)"
   ]
  },
  {
   "cell_type": "code",
   "execution_count": null,
   "id": "e94ba308",
   "metadata": {},
   "outputs": [],
   "source": []
  },
  {
   "cell_type": "code",
   "execution_count": null,
   "id": "91a0d443",
   "metadata": {},
   "outputs": [],
   "source": []
  }
 ],
 "metadata": {
  "kernelspec": {
   "display_name": "Python 3 (ipykernel)",
   "language": "python",
   "name": "python3"
  },
  "language_info": {
   "codemirror_mode": {
    "name": "ipython",
    "version": 3
   },
   "file_extension": ".py",
   "mimetype": "text/x-python",
   "name": "python",
   "nbconvert_exporter": "python",
   "pygments_lexer": "ipython3",
   "version": "3.8.11"
  }
 },
 "nbformat": 4,
 "nbformat_minor": 5
}
