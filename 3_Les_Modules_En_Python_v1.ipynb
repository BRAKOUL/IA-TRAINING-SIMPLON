{
 "cells": [
  {
   "cell_type": "markdown",
   "id": "07ccea71",
   "metadata": {},
   "source": [
    "# Les  Modules en programmation python"
   ]
  },
  {
   "cell_type": "markdown",
   "id": "cc088562",
   "metadata": {},
   "source": [
    "# 1. Définition\n",
    "Python ne connait de base qu'un petit nombre d'opérations et fonctions :\n",
    "> - Il ignore comment calculer un cosinus. \n",
    "> - Pour étendre ses capacités, on dispose de bibliothèques de fonctions additionnelles ou modules. Ainsi, le module :\n",
    ">   - math : donne accès aux fonctions mathématiques comme sqrt (racine carrée), sin (cosinus), ....\n",
    ">   - turtule : donne accès à des fonctions permettant de réaliser simplement des tracés\n",
    "> - Les modules sont donc des programmes Python qui contiennent des fonctions que l'on est amené à réutiliser souvent (on les appelle aussi bibliothèques ou libraries). \n",
    ">   - => Ce sont des « boîtes à outils » qui vont vous être très utiles.\n",
    "\n",
    "Les développeurs de Python ont mis au point de nombreux modules qui effectuent une quantité phénoménale de tâches. \n",
    "> - => Prendre toujours le réflexe de vérifier si une partie du code qu'on souhaite écrire n'existe pas déjà sous forme de module.\n",
    "> - La plupart de ces modules sont déjà installés dans les versions standards de Python \n",
    ">   - Python vient avec un nombre enorme de fonctions utiles. \n",
    ">   - Ces fonctions sont dans un fichier python comme par exemple os.py. \n",
    ">   - On peut importer ces fonctions tout simplement avec le mot clé import."
   ]
  },
  {
   "cell_type": "markdown",
   "id": "82104bf1",
   "metadata": {},
   "source": [
    "# 2. Importation de modules python\n",
    "### Nota bene : différence entre une méthode et une fonction :\n",
    "#### # Note de syntaxe sur la notion de méthode .format() :\n",
    "> - Une méthode était une fonction un peu particulière :\n",
    ">   - elle était liée à un objet par un point ;\n",
    ">   - en général, elle agissait sur ou utilisait l'objet auquel elle était liée.\n",
    "> - En Python, on peut considérer chaque variable comme un objet sur lequel on peut appliquer des méthodes. \n",
    "> - Une méthode est simplement une fonction qui utilise et/ou agit sur l'objet lui-même, les deux étant connectés par un point. \n",
    ">   - La syntaxe générale est de la forme `objet.méthode()`.\n",
    "> > Dans l'exemple ci-dessous :\n",
    "> > - la méthode .format() est liée à \"Joe a {} ans\" qui est un objet de type chaîne de caractères. \n",
    "> > - La méthode renvoie une nouvelle chaîne de caractères avec le bon formatage (ici, 'Joe a 20 ans').\n",
    "> >   - => notation **objet.méthode()**\n",
    "\n",
    "#### # Avec les modules, nous rencontrons une syntaxe similaire :\n",
    "> - Dans l'instruction math.cos() :\n",
    ">    - On pourrait penser que .cos() est aussi une méthode. \n",
    ">    - En fait la documentation officielle de Python précise bien que dans ce cas .cos() est une fonction. \n",
    "> - Nous utiliserons ainsi le mot **fonction** lorsqu'on évoquera des **fonctions issues de modules**.\n",
    "> - => Ici, la syntaxe **module.fonction()** est là pour rappeler **de quel module** provient `la fonction` en un coup d’œil !"
   ]
  },
  {
   "cell_type": "code",
   "execution_count": 9,
   "id": "d5f9d726",
   "metadata": {},
   "outputs": [
    {
     "data": {
      "text/plain": [
       "'Joe a 20 ans'"
      ]
     },
     "execution_count": 9,
     "metadata": {},
     "output_type": "execute_result"
    }
   ],
   "source": [
    "\"Joe a {} ans\".format(20)\n",
    "'Joe a 20 ans'"
   ]
  },
  {
   "cell_type": "markdown",
   "id": "aabbcf5f",
   "metadata": {},
   "source": [
    "`NB: voir la notion de f-string` => Chap. affichage"
   ]
  },
  {
   "cell_type": "markdown",
   "id": "7e00d059",
   "metadata": {},
   "source": [
    "## 2.1. Importation globale d'un module et de ses fonctions\n",
    "### 2.1.1. Importation globale classique \n",
    "#### 1. Le concept de base "
   ]
  },
  {
   "cell_type": "code",
   "execution_count": 7,
   "id": "40fb6a8e",
   "metadata": {},
   "outputs": [],
   "source": [
    "import random"
   ]
  },
  {
   "cell_type": "code",
   "execution_count": 6,
   "id": "a081957c",
   "metadata": {
    "collapsed": true
   },
   "outputs": [
    {
     "data": {
      "text/plain": [
       "['BPF',\n",
       " 'LOG4',\n",
       " 'NV_MAGICCONST',\n",
       " 'RECIP_BPF',\n",
       " 'Random',\n",
       " 'SG_MAGICCONST',\n",
       " 'SystemRandom',\n",
       " 'TWOPI',\n",
       " '_Sequence',\n",
       " '_Set',\n",
       " '__all__',\n",
       " '__builtins__',\n",
       " '__cached__',\n",
       " '__doc__',\n",
       " '__file__',\n",
       " '__loader__',\n",
       " '__name__',\n",
       " '__package__',\n",
       " '__spec__',\n",
       " '_accumulate',\n",
       " '_acos',\n",
       " '_bisect',\n",
       " '_ceil',\n",
       " '_cos',\n",
       " '_e',\n",
       " '_exp',\n",
       " '_inst',\n",
       " '_log',\n",
       " '_os',\n",
       " '_pi',\n",
       " '_random',\n",
       " '_repeat',\n",
       " '_sha512',\n",
       " '_sin',\n",
       " '_sqrt',\n",
       " '_test',\n",
       " '_test_generator',\n",
       " '_urandom',\n",
       " '_warn',\n",
       " 'betavariate',\n",
       " 'choice',\n",
       " 'choices',\n",
       " 'expovariate',\n",
       " 'gammavariate',\n",
       " 'gauss',\n",
       " 'getrandbits',\n",
       " 'getstate',\n",
       " 'lognormvariate',\n",
       " 'normalvariate',\n",
       " 'paretovariate',\n",
       " 'randint',\n",
       " 'random',\n",
       " 'randrange',\n",
       " 'sample',\n",
       " 'seed',\n",
       " 'setstate',\n",
       " 'shuffle',\n",
       " 'triangular',\n",
       " 'uniform',\n",
       " 'vonmisesvariate',\n",
       " 'weibullvariate']"
      ]
     },
     "execution_count": 6,
     "metadata": {},
     "output_type": "execute_result"
    }
   ],
   "source": [
    "dir(random)"
   ]
  },
  {
   "cell_type": "code",
   "execution_count": 8,
   "id": "654e33c5",
   "metadata": {},
   "outputs": [
    {
     "data": {
      "text/plain": [
       "6"
      ]
     },
     "execution_count": 8,
     "metadata": {},
     "output_type": "execute_result"
    }
   ],
   "source": [
    "random.randint(0, 10)"
   ]
  },
  {
   "cell_type": "markdown",
   "id": "9b0998f0",
   "metadata": {},
   "source": [
    "- L'instruction import donne accès à toutes les fonctions du module **random**.\n",
    "- Ensuite, Entrée[8]: nous utilisons la fonction **randint**(0, 10) du module random. \n",
    "    - Cette fonction renvoie un nombre entier tiré aléatoirement entre 0 inclus et 10 inclus.\n"
   ]
  },
  {
   "cell_type": "code",
   "execution_count": 7,
   "id": "98c4ee77",
   "metadata": {},
   "outputs": [
    {
     "data": {
      "text/plain": [
       "6.123233995736766e-17"
      ]
     },
     "execution_count": 7,
     "metadata": {},
     "output_type": "execute_result"
    }
   ],
   "source": [
    "# Exemple :\n",
    "\n",
    "import math\n",
    "math.cos(math.pi/2)"
   ]
  },
  {
   "cell_type": "code",
   "execution_count": 8,
   "id": "cc90ac8b",
   "metadata": {},
   "outputs": [
    {
     "data": {
      "text/plain": [
       "1.0"
      ]
     },
     "execution_count": 8,
     "metadata": {},
     "output_type": "execute_result"
    }
   ],
   "source": [
    "math.sin(math.pi/2)"
   ]
  },
  {
   "cell_type": "markdown",
   "id": "d87a6451",
   "metadata": {},
   "source": [
    "#### 2. En résumé  \n",
    "> - L'utilisation de la syntaxe import module permet d'importer tout une série de fonctions organisées par « thèmes » :\n",
    ">   - Par exemple, les fonctions gérant les nombres aléatoires avec random et \n",
    ">   - les fonctions mathématiques avec math. \n",
    ">   - Python possède de nombreux autres modules internes (c'est-à-dire présent de base lorsqu'on installe Python)."
   ]
  },
  {
   "cell_type": "markdown",
   "id": "4dcec0fc",
   "metadata": {},
   "source": [
    "### 2.1.2. Import global d'un module sous forme d'alias \n",
    "> - => Définir un alias (un nom plus court) pour le module soit ici **rand**\n",
    "> - Dans ce cas, les **fonctions** du **module random** seront accessibles via l'alias **rand**."
   ]
  },
  {
   "cell_type": "code",
   "execution_count": 14,
   "id": "8779e7e1",
   "metadata": {},
   "outputs": [
    {
     "data": {
      "text/plain": [
       "3"
      ]
     },
     "execution_count": 14,
     "metadata": {},
     "output_type": "execute_result"
    }
   ],
   "source": [
    "import random as rand\n",
    "rand.randint(1, 10)"
   ]
  },
  {
   "cell_type": "code",
   "execution_count": 15,
   "id": "83885878",
   "metadata": {},
   "outputs": [
    {
     "data": {
      "text/plain": [
       "2.6730647383573722"
      ]
     },
     "execution_count": 15,
     "metadata": {},
     "output_type": "execute_result"
    }
   ],
   "source": [
    "rand.uniform(1, 3)"
   ]
  },
  {
   "cell_type": "code",
   "execution_count": null,
   "id": "67235f49",
   "metadata": {},
   "outputs": [],
   "source": []
  },
  {
   "cell_type": "markdown",
   "id": "93237195",
   "metadata": {},
   "source": [
    "## 2.2. Importer une ou plusieurs fonctions d'un module \n",
    "> À l'aide du mot-clé `from` : on peut importer une fonction spécifique d'un module donné. "
   ]
  },
  {
   "cell_type": "code",
   "execution_count": 13,
   "id": "b85c5f52",
   "metadata": {},
   "outputs": [
    {
     "data": {
      "text/plain": [
       "1"
      ]
     },
     "execution_count": 13,
     "metadata": {},
     "output_type": "execute_result"
    }
   ],
   "source": [
    "# 1 - Import d'une seule fonction\n",
    "\n",
    "from random import randint\n",
    "randint(0, 10)    \n",
    "\n",
    "# => On utilise directement la fonction sans préciser le module. (random) avant"
   ]
  },
  {
   "cell_type": "markdown",
   "id": "f2a293a4",
   "metadata": {},
   "source": [
    "- Remarquez bien qu'il est inutile de répéter le nom du module dans ce cas, \n",
    "- Seul le nom de la fonction en question est requis."
   ]
  },
  {
   "cell_type": "code",
   "execution_count": 10,
   "id": "0ffc94d2",
   "metadata": {},
   "outputs": [],
   "source": [
    "# 2 - Import de plusieurs fonctions\n",
    "\n",
    "from random import randint, sample, seed"
   ]
  },
  {
   "cell_type": "code",
   "execution_count": null,
   "id": "6f1a4c33",
   "metadata": {},
   "outputs": [],
   "source": []
  },
  {
   "cell_type": "markdown",
   "id": "69a20586",
   "metadata": {},
   "source": [
    "## 2.3. Importer toutes les fonctions d'un module avec `*`"
   ]
  },
  {
   "cell_type": "code",
   "execution_count": 10,
   "id": "96fdf064",
   "metadata": {},
   "outputs": [
    {
     "data": {
      "text/plain": [
       "42"
      ]
     },
     "execution_count": 10,
     "metadata": {},
     "output_type": "execute_result"
    }
   ],
   "source": [
    "from random import *\n",
    "randint(0, 50)        # => Pas besoin de précéder la fonction (randint) du module (random)"
   ]
  },
  {
   "cell_type": "code",
   "execution_count": 11,
   "id": "e8a9b4d8",
   "metadata": {},
   "outputs": [
    {
     "data": {
      "text/plain": [
       "0.9125019879975721"
      ]
     },
     "execution_count": 11,
     "metadata": {},
     "output_type": "execute_result"
    }
   ],
   "source": [
    "uniform(0, 2.5)    # => Pas besoin de préciser random. avant utilisation de la fonction "
   ]
  },
  {
   "cell_type": "markdown",
   "id": "ef753222",
   "metadata": {},
   "source": [
    "**L'instruction from random import * :**\n",
    "- Importe toutes les fonctions du module random. \n",
    "- On peut ainsi utiliser **toutes ses fonctions directement**, comme par exemple randint() et uniform() qui renvoie des nombres aléatoires entiers et floats.\n",
    "\n",
    "**NB :** Dans la pratique, plutôt que de charger toutes les fonctions d'un module en une seule fois :\n",
    "- Charger le module seul comme ci-dessous,\n",
    "  - puis appelez **explicitement** les fonctions voulues, précédées du module :"
   ]
  },
  {
   "cell_type": "code",
   "execution_count": 12,
   "id": "8e5f6961",
   "metadata": {},
   "outputs": [
    {
     "data": {
      "text/plain": [
       "1"
      ]
     },
     "execution_count": 12,
     "metadata": {},
     "output_type": "execute_result"
    }
   ],
   "source": [
    "import random\n",
    "random.randint(0,2)  "
   ]
  },
  {
   "cell_type": "markdown",
   "id": "578c41b4",
   "metadata": {},
   "source": [
    "## 2.4. Vider de la mémoire un module déjà chargé avec `del`\n",
    "> On constate alors qu'un rappel d'une fonction du module random après l'avoir vidé de la mémoire retourne un message d'erreur."
   ]
  },
  {
   "cell_type": "code",
   "execution_count": 16,
   "id": "f7abf15b",
   "metadata": {},
   "outputs": [
    {
     "data": {
      "text/plain": [
       "0"
      ]
     },
     "execution_count": 16,
     "metadata": {},
     "output_type": "execute_result"
    }
   ],
   "source": [
    "import random\n",
    "random.randint(0, 10)"
   ]
  },
  {
   "cell_type": "code",
   "execution_count": 17,
   "id": "0ec4e6af",
   "metadata": {},
   "outputs": [],
   "source": [
    "del random"
   ]
  },
  {
   "cell_type": "code",
   "execution_count": null,
   "id": "33203bf2",
   "metadata": {},
   "outputs": [],
   "source": []
  },
  {
   "cell_type": "code",
   "execution_count": 18,
   "id": "9d843bec",
   "metadata": {
    "scrolled": true
   },
   "outputs": [
    {
     "ename": "NameError",
     "evalue": "name 'random' is not defined",
     "output_type": "error",
     "traceback": [
      "\u001b[0;31m---------------------------------------------------------------------------\u001b[0m",
      "\u001b[0;31mNameError\u001b[0m                                 Traceback (most recent call last)",
      "\u001b[0;32m/tmp/ipykernel_61702/4032215069.py\u001b[0m in \u001b[0;36m<module>\u001b[0;34m\u001b[0m\n\u001b[0;32m----> 1\u001b[0;31m \u001b[0mrandom\u001b[0m\u001b[0;34m.\u001b[0m\u001b[0mrandint\u001b[0m\u001b[0;34m(\u001b[0m\u001b[0;36m0\u001b[0m\u001b[0;34m,\u001b[0m \u001b[0;36m10\u001b[0m\u001b[0;34m)\u001b[0m\u001b[0;34m\u001b[0m\u001b[0;34m\u001b[0m\u001b[0m\n\u001b[0m",
      "\u001b[0;31mNameError\u001b[0m: name 'random' is not defined"
     ]
    }
   ],
   "source": [
    "random.randint(0, 10)"
   ]
  },
  {
   "cell_type": "markdown",
   "id": "dab72040",
   "metadata": {},
   "source": [
    "# 3. Création de modules\n",
    "On peut imaginer qu'une fonction bien écrite pourrait être judicieusement réutilisée dans un autre programme Python. \n",
    "> - C'est justement l'intérêt de créer un module. \n",
    "> - On y met un ensemble de fonctions que l'on peut être amené à utiliser souvent. \n",
    ">   - En général, les modules sont regroupés autour d'un thème précis. \n",
    ">   - Par exemple, on pourrait concevoir un module :\n",
    ">      - d'analyse de séquences biologiques ou encore \n",
    ">      - de gestion de fichiers PDB"
   ]
  },
  {
   "cell_type": "markdown",
   "id": "e5630fed",
   "metadata": {},
   "source": [
    "## 3.1 Créer son propre module \n",
    "> - Il suffit de :\n",
    ">    - écrire un ensemble de fonctions (et/ou de constantes) dans un `fichier txt` à l'aide d'un **éditeur de texte (Sublim text)**\n",
    ">       - **Une constante** est, par définition, une variable dont la valeur n'est pas modifiée. Par convention en Python, le nom des constantes est écrit en majuscules (comme DATE).\n",
    ">    - puis enregistrer ce dernier avec une extension `.py` (comme n'importe quel script Python)\n"
   ]
  },
  {
   "cell_type": "markdown",
   "id": "eeab18f7",
   "metadata": {},
   "source": [
    "### 3.1.1. Créer et enregistrer un module dans un repertoire via l'explorer\n",
    "> => Nous allons créer un module simple contenant les données ci-dessous :\n",
    "> - dans le repertoire **2_FONCTION_MODULE_Concepts** via **l'explorateur**\n",
    "> - que nous enregistrerons sous le nom **message.py**"
   ]
  },
  {
   "cell_type": "raw",
   "id": "dd7906bf",
   "metadata": {},
   "source": [
    "\"\"\"Module inutile qui affiche des messages :-).\"\"\"\n",
    "\n",
    "DATE = 16092008\n",
    "\n",
    "def bonjour(nom):\n",
    "    \"\"\"Dit Bonjour.\"\"\"\n",
    "    return \"Bonjour \" + nom\n",
    "\n",
    "def ciao(nom):\n",
    "    \"\"\"Dit Ciao.\"\"\"\n",
    "    return \"Ciao \" + nom\n",
    "\n",
    "def hello(nom):\n",
    "    \"\"\"Dit Hello.\"\"\"\n",
    "    return \"Hello \" + nom"
   ]
  },
  {
   "cell_type": "markdown",
   "id": "0bbd9cf7",
   "metadata": {},
   "source": [
    "- Les chaînes de caractères entre triple guillemets en tête du module et en tête de chaque fonction sont facultatives mais elles jouent néanmoins un rôle essentiel dans la documentation du code cf. **docstrings**"
   ]
  },
  {
   "cell_type": "markdown",
   "id": "6633ab18",
   "metadata": {},
   "source": [
    "### 3.1.2. Créer et enregistrer un module dans un repertoire via le Jupyter Notebook\n",
    "> - Le fichier peut être créé via le Notebook \n",
    ">    - avec `%%writefile calcul.py` ou **%%writefile calcul.txt** puis y \n",
    ">       - définir les fonctions tjrs via le notbook car si vide, **--> Warning** à l'exécution\n",
    ">       - exécuter !! \n",
    "> - Par défaut, le fichier s'enregistre dans le même dossier que celui du Notebook\n",
    ">    - => Le fichier calcul.py sera créé dans le dossier 2_FONCTION_MODULE_Concepts"
   ]
  },
  {
   "cell_type": "code",
   "execution_count": 2,
   "id": "610ee46a",
   "metadata": {},
   "outputs": [
    {
     "name": "stdout",
     "output_type": "stream",
     "text": [
      "Overwriting calcul_brak.py\n"
     ]
    }
   ],
   "source": [
    "%%writefile calcul_brak.py\n",
    "\n",
    "\"\"\" Module permettant d'effectuer les 4 opérations arithmétiques de base \"\"\"\n",
    "\n",
    "def addition (a, b):\n",
    "    return a + b\n",
    "\n",
    "def soustraction(a, b):\n",
    "    return a - b\n",
    "\n",
    "def multiplication(a, b):\n",
    "    return a * b\n",
    "\n",
    "def division(a, b):\n",
    "    if b != 0:\n",
    "        return a / b\n",
    "    else:\n",
    "        return \"L'opération est impossible\""
   ]
  },
  {
   "cell_type": "markdown",
   "id": "14bf8b10",
   "metadata": {},
   "source": [
    "`%%writefile calcul_brak.py`  **=>** `Crée` le fichier et `l'enregistre` sous le nom de **calcul_brak.py**"
   ]
  },
  {
   "cell_type": "markdown",
   "id": "e3a54668",
   "metadata": {},
   "source": [
    "## 3.2. Utilisation de son propre module\n",
    "### 3.2.1. Dispositions préalables\n",
    "#### 1. Rappels\n",
    "> Pour appeler une fonction ou une variable de ce module, il faut que le `fichier message.py` soit :\n",
    "> - dans le **répertoire courant** (dans lequel on travaille) ou bien\n",
    "> - dans un répertoire listé par la **variable d'environnement** `PYTHONPATH` de votre système d'exploitation. \n",
    ">   - Ensuite, il suffit d'importer le module et toutes ses fonctions (et constantes) vous sont alors accessibles.\n",
    "#### 2. Remarque sur la variable d'environnement `PYTHONPATH` XX??\n",
    "> - Avec **Mac OS** X et **Linux :**\n",
    ">   - il faut taper la commande suivante depuis un shell Bash pour modifier la variable d'environnement PYTHONPATH : `export PYTHONPATH=$PYTHONPATH:/chemin/vers/mon/super/module`\n",
    "> - Avec **Windows :**\n",
    ">   - il faut taper la commande suivante mais depuis un shell PowerShell: \n",
    "`$env:PYTHONPATH += \";C:\\chemin\\vers\\mon\\super\\module\"`\n",
    "\n",
    "> - Une fois cette manipulation effectuée, vous pouvez contrôler que le chemin vers le répertoire contenant vos modules a bien été ajouté à la variable d'environnement PYTHONPATH :\n",
    ">   - sous Mac OS X et Linux : `echo $PYTHONPATH`\n",
    ">   - sous Windows : `echo $env:PYTHONPATH`"
   ]
  },
  {
   "cell_type": "markdown",
   "id": "7c06ef68",
   "metadata": {},
   "source": [
    "### 3.2.2. Le chargement du module\n",
    "> - Se fait avec la commande `import leModule` \n",
    ">   - Notez que le fichier est bien enregistré avec une **extension** `.py` et pourtant on ne la précise pas lorsqu'on importe le module. \n",
    ">   - Ensuite, on peut utiliser les fonctions comme avec un module classique.\n",
    "\n",
    "> - **NB:** La première fois qu'un module est importé, Python crée un répertoire nommé `__pycache__` contenant un fichier avec une extension `.pyc` qui contient le bytecode, c'est-à-dire le code précompilé du module."
   ]
  },
  {
   "cell_type": "markdown",
   "id": "7bd84966",
   "metadata": {},
   "source": [
    "## 3.3. Importer de son module ses fonctions pour son projet\n",
    "### 3.3.1. Import global classique de module\n",
    "* => Import du module **calcul_brak** ou **message** comportant toutes les fonctions\n",
    "* La toute **1ière fois d'importation** de module dans un dossier :\n",
    "> - Il se génère automatiquement dans le dossier comportant le module, un dossier `__pycache__`\n",
    "> - => Outil permettant de créer des connexions entre les différents modules"
   ]
  },
  {
   "cell_type": "code",
   "execution_count": 11,
   "id": "f60d3a5f",
   "metadata": {},
   "outputs": [],
   "source": [
    "import calcul_brak   # Charge le module calcul_brak avec les fct° qu'il comporte"
   ]
  },
  {
   "cell_type": "code",
   "execution_count": 23,
   "id": "366a9aae",
   "metadata": {},
   "outputs": [],
   "source": [
    "import message"
   ]
  },
  {
   "cell_type": "code",
   "execution_count": 24,
   "id": "2dc1182f",
   "metadata": {
    "collapsed": true
   },
   "outputs": [
    {
     "data": {
      "text/plain": [
       "['DATE',\n",
       " '__builtins__',\n",
       " '__cached__',\n",
       " '__doc__',\n",
       " '__file__',\n",
       " '__loader__',\n",
       " '__name__',\n",
       " '__package__',\n",
       " '__spec__',\n",
       " 'bonjour',\n",
       " 'ciao',\n",
       " 'hello']"
      ]
     },
     "execution_count": 24,
     "metadata": {},
     "output_type": "execute_result"
    }
   ],
   "source": [
    "dir(message)         # Commande listant toutes les fonctions du module"
   ]
  },
  {
   "cell_type": "markdown",
   "id": "d8f6be5c",
   "metadata": {},
   "source": [
    "#### # Utiliser les fonctions du module \n",
    "=> Appel des fonctions **présentes** dans le module **calcul_brak**"
   ]
  },
  {
   "cell_type": "code",
   "execution_count": 4,
   "id": "f1f3de8c",
   "metadata": {
    "collapsed": true
   },
   "outputs": [
    {
     "data": {
      "text/plain": [
       "['__builtins__',\n",
       " '__cached__',\n",
       " '__doc__',\n",
       " '__file__',\n",
       " '__loader__',\n",
       " '__name__',\n",
       " '__package__',\n",
       " '__spec__',\n",
       " 'addition',\n",
       " 'division',\n",
       " 'multiplication',\n",
       " 'soustraction']"
      ]
     },
     "execution_count": 4,
     "metadata": {},
     "output_type": "execute_result"
    }
   ],
   "source": [
    "dir(calcul_brak)  # Commande listant toutes les fonctions du module"
   ]
  },
  {
   "cell_type": "code",
   "execution_count": 12,
   "id": "c8ce2b2c",
   "metadata": {},
   "outputs": [
    {
     "data": {
      "text/plain": [
       "15"
      ]
     },
     "execution_count": 12,
     "metadata": {},
     "output_type": "execute_result"
    }
   ],
   "source": [
    "# Faire une addition \n",
    "# => Appel depuis le module calcul, la fonction spécifique à l'addition\n",
    "\n",
    "calcul_brak.addition(5, 10)"
   ]
  },
  {
   "cell_type": "code",
   "execution_count": 13,
   "id": "ebe596b2",
   "metadata": {},
   "outputs": [
    {
     "data": {
      "text/plain": [
       "50"
      ]
     },
     "execution_count": 13,
     "metadata": {},
     "output_type": "execute_result"
    }
   ],
   "source": [
    "# Faire une multiplication \n",
    "# => Appel depuis le module calcul, la fonction spécifique à la multiplication\n",
    "\n",
    "calcul_brak.multiplication(5, 10)"
   ]
  },
  {
   "cell_type": "markdown",
   "id": "253d26c4",
   "metadata": {},
   "source": [
    "### 3.3.2. Import global de module sous forme d'alias \n",
    "=> Accès **désormais** aux fonctions du module (calcul_brak) via son **alias**"
   ]
  },
  {
   "cell_type": "code",
   "execution_count": 7,
   "id": "d160115d",
   "metadata": {},
   "outputs": [],
   "source": [
    "import calcul_brak as cal"
   ]
  },
  {
   "cell_type": "markdown",
   "id": "2a5fccea",
   "metadata": {},
   "source": [
    "#### # Utiliser les fonctions du module\n",
    "=> Appel des fonctions **présentes** dans le module **calcul_brak** via l'alias **cal**"
   ]
  },
  {
   "cell_type": "code",
   "execution_count": 36,
   "id": "f8d75d8a",
   "metadata": {},
   "outputs": [
    {
     "data": {
      "text/plain": [
       "10"
      ]
     },
     "execution_count": 36,
     "metadata": {},
     "output_type": "execute_result"
    }
   ],
   "source": [
    "# Faire une addition \n",
    "# => Appel depuis cal, alias du module calcul_brak, la fonction spécifique à l'addition\n",
    "\n",
    "cal.addition(6, 4)"
   ]
  },
  {
   "cell_type": "code",
   "execution_count": 37,
   "id": "b9bed5d0",
   "metadata": {},
   "outputs": [
    {
     "data": {
      "text/plain": [
       "24"
      ]
     },
     "execution_count": 37,
     "metadata": {},
     "output_type": "execute_result"
    }
   ],
   "source": [
    "# Faire une addition \n",
    "# => Appel depuis cal, alias du module calcul_brak, la fonct° spécifique à la multiplicat°\n",
    "\n",
    "cal.multiplication(6, 4)"
   ]
  },
  {
   "cell_type": "markdown",
   "id": "760dbb94",
   "metadata": {},
   "source": [
    "### 3.3.3. Import de fonction(s) spécifique(s) du module calcul_brak\n",
    "#### 1. Import d'une seule fonction du module calcul_brak\n",
    "=> lancer dir(leModule) --> liste de fonctions disponibles >> Puis choix des fonct°"
   ]
  },
  {
   "cell_type": "code",
   "execution_count": 2,
   "id": "7cbbde52",
   "metadata": {},
   "outputs": [],
   "source": [
    "# Faire une soustraction \n",
    "\n",
    "# => Appel directement de la fonction spécifique soustraction pour effectuer l'opération :\n",
    "    # 1 / => import préalable de la fonction addition >> 'from calcul import soustraction'\n",
    "\n",
    "from calcul_brak import soustraction"
   ]
  },
  {
   "cell_type": "code",
   "execution_count": 3,
   "id": "d03dbd25",
   "metadata": {},
   "outputs": [
    {
     "data": {
      "text/plain": [
       "50"
      ]
     },
     "execution_count": 3,
     "metadata": {},
     "output_type": "execute_result"
    }
   ],
   "source": [
    "    # 2 / Appel de la fonction soustraction pour effectuer l'opération\n",
    "\n",
    "soustraction(100, 50)"
   ]
  },
  {
   "cell_type": "code",
   "execution_count": null,
   "id": "96cb9e7d",
   "metadata": {},
   "outputs": [],
   "source": []
  },
  {
   "cell_type": "code",
   "execution_count": 10,
   "id": "ebc6dec8",
   "metadata": {},
   "outputs": [],
   "source": [
    "from calcul_brak import addition"
   ]
  },
  {
   "cell_type": "code",
   "execution_count": 40,
   "id": "0030ca78",
   "metadata": {},
   "outputs": [
    {
     "data": {
      "text/plain": [
       "10"
      ]
     },
     "execution_count": 40,
     "metadata": {},
     "output_type": "execute_result"
    }
   ],
   "source": [
    "# Faire une addition \n",
    "# => Appel directement de la fonction spécifique addition pour effectuer l'opération\n",
    "\n",
    "addition(3, 7)"
   ]
  },
  {
   "cell_type": "markdown",
   "id": "13f70abb",
   "metadata": {},
   "source": [
    "#### 2. Import de plusieurs fonctions du module calcul_brak"
   ]
  },
  {
   "cell_type": "code",
   "execution_count": 15,
   "id": "9b8f9be8",
   "metadata": {},
   "outputs": [],
   "source": [
    "from calcul_brak import soustraction, multiplication"
   ]
  },
  {
   "cell_type": "code",
   "execution_count": 16,
   "id": "5bac24ce",
   "metadata": {},
   "outputs": [
    {
     "data": {
      "text/plain": [
       "20"
      ]
     },
     "execution_count": 16,
     "metadata": {},
     "output_type": "execute_result"
    }
   ],
   "source": [
    "multiplication(2, 10)"
   ]
  },
  {
   "cell_type": "code",
   "execution_count": null,
   "id": "b0e5f062",
   "metadata": {},
   "outputs": [],
   "source": []
  },
  {
   "cell_type": "code",
   "execution_count": 17,
   "id": "f1cc9be7",
   "metadata": {},
   "outputs": [
    {
     "data": {
      "text/plain": [
       "10"
      ]
     },
     "execution_count": 17,
     "metadata": {},
     "output_type": "execute_result"
    }
   ],
   "source": [
    "soustraction(15, 5)"
   ]
  },
  {
   "cell_type": "markdown",
   "id": "b1bad9f0",
   "metadata": {},
   "source": [
    "### 3.3.4. Import de toutes les fonctions du module calcul_brak avec `*` \n",
    "> - Avec `*` toutes les fonctions définies dans calcul seront importées\n",
    "> - => Pour effectuer les opérations, il suffit d'appeler directement la fonction spécifique : addition, soustraction, ..."
   ]
  },
  {
   "cell_type": "code",
   "execution_count": 19,
   "id": "0c2e321b",
   "metadata": {},
   "outputs": [],
   "source": [
    "from calcul_brak import*"
   ]
  },
  {
   "cell_type": "code",
   "execution_count": 20,
   "id": "0762be1c",
   "metadata": {},
   "outputs": [
    {
     "data": {
      "text/plain": [
       "5.0"
      ]
     },
     "execution_count": 20,
     "metadata": {},
     "output_type": "execute_result"
    }
   ],
   "source": [
    "# Faire une division\n",
    "\n",
    "division(25, 5)"
   ]
  },
  {
   "cell_type": "code",
   "execution_count": 22,
   "id": "5c3a99c2",
   "metadata": {},
   "outputs": [
    {
     "data": {
      "text/plain": [
       "5.0"
      ]
     },
     "execution_count": 22,
     "metadata": {},
     "output_type": "execute_result"
    }
   ],
   "source": [
    "calcul_brak.division(25, 5)"
   ]
  },
  {
   "cell_type": "code",
   "execution_count": null,
   "id": "1af728aa",
   "metadata": {},
   "outputs": [],
   "source": []
  },
  {
   "cell_type": "markdown",
   "id": "e8c77c50",
   "metadata": {},
   "source": [
    "## 3.4. Les docstrings"
   ]
  },
  {
   "cell_type": "code",
   "execution_count": null,
   "id": "85660e0f",
   "metadata": {},
   "outputs": [],
   "source": []
  },
  {
   "cell_type": "markdown",
   "id": "3bb3aecd",
   "metadata": {},
   "source": [
    "## 3.5. Visibilité des fonctions dans un module"
   ]
  },
  {
   "cell_type": "code",
   "execution_count": null,
   "id": "ad9d0686",
   "metadata": {},
   "outputs": [],
   "source": []
  },
  {
   "cell_type": "markdown",
   "id": "73daf001",
   "metadata": {},
   "source": [
    "# 4. Module ou script ?\n",
    "## 4.1. Le concept\n",
    "> => Utiliser son code Python en tant que **programme** (script) ou en tant que **module** !!"
   ]
  },
  {
   "cell_type": "code",
   "execution_count": 13,
   "id": "cc96dd4a",
   "metadata": {},
   "outputs": [],
   "source": [
    "! python message.py  # Exécution comme script => N'affiche rien !\n",
    "                        # Car absence de programme principal !"
   ]
  },
  {
   "cell_type": "code",
   "execution_count": 14,
   "id": "69f67d25",
   "metadata": {},
   "outputs": [],
   "source": [
    "import message       # Exécuté comme un module --> N'affiche rien => Cptmt normal"
   ]
  },
  {
   "cell_type": "code",
   "execution_count": null,
   "id": "ab0c277a",
   "metadata": {},
   "outputs": [],
   "source": []
  },
  {
   "cell_type": "code",
   "execution_count": 18,
   "id": "733783c8",
   "metadata": {},
   "outputs": [
    {
     "name": "stdout",
     "output_type": "stream",
     "text": [
      "Bonjour Joe\r\n"
     ]
    }
   ],
   "source": [
    "! python message2.py  # Exécution comme script affiche 'Bonjour Joe' => Normal car le\n",
    "                         # fichier comporte cette fois un programme principal"
   ]
  },
  {
   "cell_type": "code",
   "execution_count": 1,
   "id": "66223c22",
   "metadata": {},
   "outputs": [
    {
     "name": "stdout",
     "output_type": "stream",
     "text": [
      "Bonjour Joe\n"
     ]
    }
   ],
   "source": [
    "import message2      # Exécution côm module --> affiche 'Bonjour Joe' => Anormal!\n",
    "                        # Car la commande import math n'affiche rien dans l'interpréteur"
   ]
  },
  {
   "cell_type": "markdown",
   "id": "16ee8a11",
   "metadata": {},
   "source": [
    "**=>** Pour résoudre cette anomalie, il faut `respecter` la **structure particulière** ci-dessous qui seule permet de :\n",
    "- Soit exécuter le fichier en tant que script\n",
    "- Soit exécuter le fichier en tant que module"
   ]
  },
  {
   "cell_type": "markdown",
   "id": "8d45dc2a",
   "metadata": {},
   "source": [
    "## 4.2. Structure du code permettant d'y répondre\n",
    "> Cette distinction, présente l'avantage de signaler clairement où se situe le programme principal quand on lit le code. \n",
    "> - Ainsi => Plus besoin d'ajouter un commentaire # programme principal"
   ]
  },
  {
   "cell_type": "raw",
   "id": "e0f481d4",
   "metadata": {},
   "source": [
    "\"\"\"Script de test.\"\"\"\n",
    "\n",
    "\n",
    "def bonjour(nom):\n",
    "    \"\"\"Dit Bonjour.\"\"\"\n",
    "    return \"Bonjour \" + nom\n",
    "\n",
    "\n",
    "if _ _name_ _ == \"_ _main_ _\":\n",
    "    print(bonjour(\"Joe\"))"
   ]
  },
  {
   "cell_type": "markdown",
   "id": "e0535504",
   "metadata": {},
   "source": [
    "> => L'instruction `if __name__ == \"__main__\":` indique à Python :\n",
    "- Si le programme message2.py est exécuté en tant que **script** dans un shell :\n",
    "    - le **résultat** du `test if` sera alors **True** et \n",
    "    - le bloc d'instructions correspondant `print(bonjour(\"Joe\"))` **sera** exécuté :\n",
    "- Si le programme message2.py est importé en tant que **module** : \n",
    "    - le **résultat** du `test if` sera alors **False** et \n",
    "    - le bloc d'instructions correspondant `print(bonjour(\"Joe\"))` **ne sera pas** exécuté:"
   ]
  },
  {
   "cell_type": "code",
   "execution_count": 6,
   "id": "496e0a42",
   "metadata": {},
   "outputs": [
    {
     "name": "stdout",
     "output_type": "stream",
     "text": [
      "Bonjour Joe\r\n"
     ]
    }
   ],
   "source": [
    "!python message2b.py  # => Exécute le print() >> Normal !"
   ]
  },
  {
   "cell_type": "code",
   "execution_count": 12,
   "id": "182b906c",
   "metadata": {},
   "outputs": [],
   "source": [
    "import message2b      # => N'exécute pas le print() >> Normal"
   ]
  },
  {
   "cell_type": "markdown",
   "id": "78606a50",
   "metadata": {},
   "source": [
    "# 5. Obtenir de l'aide sur les modules importés"
   ]
  },
  {
   "cell_type": "code",
   "execution_count": null,
   "id": "7e6d53dc",
   "metadata": {},
   "outputs": [],
   "source": []
  },
  {
   "cell_type": "code",
   "execution_count": null,
   "id": "70946b90",
   "metadata": {},
   "outputs": [],
   "source": []
  },
  {
   "cell_type": "markdown",
   "id": "69100bf4",
   "metadata": {},
   "source": [
    "# 6. Quelques modules Python courants"
   ]
  },
  {
   "cell_type": "markdown",
   "id": "f721d662",
   "metadata": {},
   "source": [
    "**urllib** : récupération de données sur internet depuis Python.\n",
    "https://docs.python.org/fr/3/library/urllib.html#module-urllib"
   ]
  },
  {
   "cell_type": "markdown",
   "id": "4b939376",
   "metadata": {},
   "source": [
    "math : fonctions et constantes mathématiques de base (sin, cos, exp, pi...).\n",
    "https://docs.python.org/fr/3/library/math.html#module-math"
   ]
  },
  {
   "cell_type": "markdown",
   "id": "1165346c",
   "metadata": {},
   "source": [
    "## 6.1. Module os : interaction avec le système d'exploitation\n",
    "> - Le module os permet d'interagir avec notre système d'opération, donc de copier, créer, déplacer, supprimer des fichiers et documents grâce à des focntions dédiées. \n",
    ">   - => Le module os gère l'interface avec le système d'exploitation. Importons le module os:"
   ]
  },
  {
   "cell_type": "code",
   "execution_count": 86,
   "id": "971de525",
   "metadata": {},
   "outputs": [],
   "source": [
    "import os"
   ]
  },
  {
   "cell_type": "code",
   "execution_count": 12,
   "id": "3913d6d5",
   "metadata": {
    "collapsed": true
   },
   "outputs": [
    {
     "data": {
      "text/plain": [
       "['CLD_CONTINUED',\n",
       " 'CLD_DUMPED',\n",
       " 'CLD_EXITED',\n",
       " 'CLD_TRAPPED',\n",
       " 'DirEntry',\n",
       " 'EX_CANTCREAT',\n",
       " 'EX_CONFIG',\n",
       " 'EX_DATAERR',\n",
       " 'EX_IOERR',\n",
       " 'EX_NOHOST',\n",
       " 'EX_NOINPUT',\n",
       " 'EX_NOPERM',\n",
       " 'EX_NOUSER',\n",
       " 'EX_OK',\n",
       " 'EX_OSERR',\n",
       " 'EX_OSFILE',\n",
       " 'EX_PROTOCOL',\n",
       " 'EX_SOFTWARE',\n",
       " 'EX_TEMPFAIL',\n",
       " 'EX_UNAVAILABLE',\n",
       " 'EX_USAGE',\n",
       " 'F_LOCK',\n",
       " 'F_OK',\n",
       " 'F_TEST',\n",
       " 'F_TLOCK',\n",
       " 'F_ULOCK',\n",
       " 'GRND_NONBLOCK',\n",
       " 'GRND_RANDOM',\n",
       " 'MutableMapping',\n",
       " 'NGROUPS_MAX',\n",
       " 'O_ACCMODE',\n",
       " 'O_APPEND',\n",
       " 'O_ASYNC',\n",
       " 'O_CLOEXEC',\n",
       " 'O_CREAT',\n",
       " 'O_DIRECT',\n",
       " 'O_DIRECTORY',\n",
       " 'O_DSYNC',\n",
       " 'O_EXCL',\n",
       " 'O_LARGEFILE',\n",
       " 'O_NDELAY',\n",
       " 'O_NOATIME',\n",
       " 'O_NOCTTY',\n",
       " 'O_NOFOLLOW',\n",
       " 'O_NONBLOCK',\n",
       " 'O_PATH',\n",
       " 'O_RDONLY',\n",
       " 'O_RDWR',\n",
       " 'O_RSYNC',\n",
       " 'O_SYNC',\n",
       " 'O_TMPFILE',\n",
       " 'O_TRUNC',\n",
       " 'O_WRONLY',\n",
       " 'POSIX_FADV_DONTNEED',\n",
       " 'POSIX_FADV_NOREUSE',\n",
       " 'POSIX_FADV_NORMAL',\n",
       " 'POSIX_FADV_RANDOM',\n",
       " 'POSIX_FADV_SEQUENTIAL',\n",
       " 'POSIX_FADV_WILLNEED',\n",
       " 'POSIX_SPAWN_CLOSE',\n",
       " 'POSIX_SPAWN_DUP2',\n",
       " 'POSIX_SPAWN_OPEN',\n",
       " 'PRIO_PGRP',\n",
       " 'PRIO_PROCESS',\n",
       " 'PRIO_USER',\n",
       " 'P_ALL',\n",
       " 'P_NOWAIT',\n",
       " 'P_NOWAITO',\n",
       " 'P_PGID',\n",
       " 'P_PID',\n",
       " 'P_WAIT',\n",
       " 'PathLike',\n",
       " 'RTLD_DEEPBIND',\n",
       " 'RTLD_GLOBAL',\n",
       " 'RTLD_LAZY',\n",
       " 'RTLD_LOCAL',\n",
       " 'RTLD_NODELETE',\n",
       " 'RTLD_NOLOAD',\n",
       " 'RTLD_NOW',\n",
       " 'R_OK',\n",
       " 'SCHED_BATCH',\n",
       " 'SCHED_FIFO',\n",
       " 'SCHED_IDLE',\n",
       " 'SCHED_OTHER',\n",
       " 'SCHED_RESET_ON_FORK',\n",
       " 'SCHED_RR',\n",
       " 'SEEK_CUR',\n",
       " 'SEEK_DATA',\n",
       " 'SEEK_END',\n",
       " 'SEEK_HOLE',\n",
       " 'SEEK_SET',\n",
       " 'ST_APPEND',\n",
       " 'ST_MANDLOCK',\n",
       " 'ST_NOATIME',\n",
       " 'ST_NODEV',\n",
       " 'ST_NODIRATIME',\n",
       " 'ST_NOEXEC',\n",
       " 'ST_NOSUID',\n",
       " 'ST_RDONLY',\n",
       " 'ST_RELATIME',\n",
       " 'ST_SYNCHRONOUS',\n",
       " 'ST_WRITE',\n",
       " 'TMP_MAX',\n",
       " 'WCONTINUED',\n",
       " 'WCOREDUMP',\n",
       " 'WEXITED',\n",
       " 'WEXITSTATUS',\n",
       " 'WIFCONTINUED',\n",
       " 'WIFEXITED',\n",
       " 'WIFSIGNALED',\n",
       " 'WIFSTOPPED',\n",
       " 'WNOHANG',\n",
       " 'WNOWAIT',\n",
       " 'WSTOPPED',\n",
       " 'WSTOPSIG',\n",
       " 'WTERMSIG',\n",
       " 'WUNTRACED',\n",
       " 'W_OK',\n",
       " 'XATTR_CREATE',\n",
       " 'XATTR_REPLACE',\n",
       " 'XATTR_SIZE_MAX',\n",
       " 'X_OK',\n",
       " '_Environ',\n",
       " '__all__',\n",
       " '__builtins__',\n",
       " '__cached__',\n",
       " '__doc__',\n",
       " '__file__',\n",
       " '__loader__',\n",
       " '__name__',\n",
       " '__package__',\n",
       " '__spec__',\n",
       " '_check_methods',\n",
       " '_execvpe',\n",
       " '_exists',\n",
       " '_exit',\n",
       " '_fspath',\n",
       " '_fwalk',\n",
       " '_get_exports_list',\n",
       " '_putenv',\n",
       " '_spawnvef',\n",
       " '_unsetenv',\n",
       " '_wrap_close',\n",
       " 'abc',\n",
       " 'abort',\n",
       " 'access',\n",
       " 'altsep',\n",
       " 'chdir',\n",
       " 'chmod',\n",
       " 'chown',\n",
       " 'chroot',\n",
       " 'close',\n",
       " 'closerange',\n",
       " 'confstr',\n",
       " 'confstr_names',\n",
       " 'cpu_count',\n",
       " 'ctermid',\n",
       " 'curdir',\n",
       " 'defpath',\n",
       " 'device_encoding',\n",
       " 'devnull',\n",
       " 'dup',\n",
       " 'dup2',\n",
       " 'environ',\n",
       " 'environb',\n",
       " 'error',\n",
       " 'execl',\n",
       " 'execle',\n",
       " 'execlp',\n",
       " 'execlpe',\n",
       " 'execv',\n",
       " 'execve',\n",
       " 'execvp',\n",
       " 'execvpe',\n",
       " 'extsep',\n",
       " 'fchdir',\n",
       " 'fchmod',\n",
       " 'fchown',\n",
       " 'fdatasync',\n",
       " 'fdopen',\n",
       " 'fork',\n",
       " 'forkpty',\n",
       " 'fpathconf',\n",
       " 'fsdecode',\n",
       " 'fsencode',\n",
       " 'fspath',\n",
       " 'fstat',\n",
       " 'fstatvfs',\n",
       " 'fsync',\n",
       " 'ftruncate',\n",
       " 'fwalk',\n",
       " 'get_blocking',\n",
       " 'get_exec_path',\n",
       " 'get_inheritable',\n",
       " 'get_terminal_size',\n",
       " 'getcwd',\n",
       " 'getcwdb',\n",
       " 'getegid',\n",
       " 'getenv',\n",
       " 'getenvb',\n",
       " 'geteuid',\n",
       " 'getgid',\n",
       " 'getgrouplist',\n",
       " 'getgroups',\n",
       " 'getloadavg',\n",
       " 'getlogin',\n",
       " 'getpgid',\n",
       " 'getpgrp',\n",
       " 'getpid',\n",
       " 'getppid',\n",
       " 'getpriority',\n",
       " 'getrandom',\n",
       " 'getresgid',\n",
       " 'getresuid',\n",
       " 'getsid',\n",
       " 'getuid',\n",
       " 'getxattr',\n",
       " 'initgroups',\n",
       " 'isatty',\n",
       " 'kill',\n",
       " 'killpg',\n",
       " 'lchown',\n",
       " 'linesep',\n",
       " 'link',\n",
       " 'listdir',\n",
       " 'listxattr',\n",
       " 'lockf',\n",
       " 'lseek',\n",
       " 'lstat',\n",
       " 'major',\n",
       " 'makedev',\n",
       " 'makedirs',\n",
       " 'minor',\n",
       " 'mkdir',\n",
       " 'mkfifo',\n",
       " 'mknod',\n",
       " 'name',\n",
       " 'nice',\n",
       " 'open',\n",
       " 'openpty',\n",
       " 'pardir',\n",
       " 'path',\n",
       " 'pathconf',\n",
       " 'pathconf_names',\n",
       " 'pathsep',\n",
       " 'pipe',\n",
       " 'pipe2',\n",
       " 'popen',\n",
       " 'posix_fadvise',\n",
       " 'posix_fallocate',\n",
       " 'posix_spawn',\n",
       " 'posix_spawnp',\n",
       " 'pread',\n",
       " 'preadv',\n",
       " 'putenv',\n",
       " 'pwrite',\n",
       " 'pwritev',\n",
       " 'read',\n",
       " 'readlink',\n",
       " 'readv',\n",
       " 'register_at_fork',\n",
       " 'remove',\n",
       " 'removedirs',\n",
       " 'removexattr',\n",
       " 'rename',\n",
       " 'renames',\n",
       " 'replace',\n",
       " 'rmdir',\n",
       " 'scandir',\n",
       " 'sched_get_priority_max',\n",
       " 'sched_get_priority_min',\n",
       " 'sched_getaffinity',\n",
       " 'sched_getparam',\n",
       " 'sched_getscheduler',\n",
       " 'sched_param',\n",
       " 'sched_rr_get_interval',\n",
       " 'sched_setaffinity',\n",
       " 'sched_setparam',\n",
       " 'sched_setscheduler',\n",
       " 'sched_yield',\n",
       " 'sendfile',\n",
       " 'sep',\n",
       " 'set_blocking',\n",
       " 'set_inheritable',\n",
       " 'setegid',\n",
       " 'seteuid',\n",
       " 'setgid',\n",
       " 'setgroups',\n",
       " 'setpgid',\n",
       " 'setpgrp',\n",
       " 'setpriority',\n",
       " 'setregid',\n",
       " 'setresgid',\n",
       " 'setresuid',\n",
       " 'setreuid',\n",
       " 'setsid',\n",
       " 'setuid',\n",
       " 'setxattr',\n",
       " 'spawnl',\n",
       " 'spawnle',\n",
       " 'spawnlp',\n",
       " 'spawnlpe',\n",
       " 'spawnv',\n",
       " 'spawnve',\n",
       " 'spawnvp',\n",
       " 'spawnvpe',\n",
       " 'st',\n",
       " 'stat',\n",
       " 'stat_result',\n",
       " 'statvfs',\n",
       " 'statvfs_result',\n",
       " 'strerror',\n",
       " 'supports_bytes_environ',\n",
       " 'supports_dir_fd',\n",
       " 'supports_effective_ids',\n",
       " 'supports_fd',\n",
       " 'supports_follow_symlinks',\n",
       " 'symlink',\n",
       " 'sync',\n",
       " 'sys',\n",
       " 'sysconf',\n",
       " 'sysconf_names',\n",
       " 'system',\n",
       " 'tcgetpgrp',\n",
       " 'tcsetpgrp',\n",
       " 'terminal_size',\n",
       " 'times',\n",
       " 'times_result',\n",
       " 'truncate',\n",
       " 'ttyname',\n",
       " 'umask',\n",
       " 'uname',\n",
       " 'uname_result',\n",
       " 'unlink',\n",
       " 'unsetenv',\n",
       " 'urandom',\n",
       " 'utime',\n",
       " 'wait',\n",
       " 'wait3',\n",
       " 'wait4',\n",
       " 'waitid',\n",
       " 'waitid_result',\n",
       " 'waitpid',\n",
       " 'walk',\n",
       " 'write',\n",
       " 'writev']"
      ]
     },
     "execution_count": 12,
     "metadata": {},
     "output_type": "execute_result"
    }
   ],
   "source": [
    "dir(os)"
   ]
  },
  {
   "cell_type": "code",
   "execution_count": 13,
   "id": "9fd05727",
   "metadata": {},
   "outputs": [
    {
     "data": {
      "text/plain": [
       "'/home/simplon/monGoogleDrive/4_CRs_PYTHON/2_Python_Bases/2_FONCTION_MODULE_Concepts'"
      ]
     },
     "execution_count": 13,
     "metadata": {},
     "output_type": "execute_result"
    }
   ],
   "source": [
    "os.getcwd() # => Indique le répertoire courant (dans lequel on est) de travail"
   ]
  },
  {
   "cell_type": "code",
   "execution_count": null,
   "id": "ae885752",
   "metadata": {},
   "outputs": [],
   "source": []
  },
  {
   "cell_type": "code",
   "execution_count": 18,
   "id": "dc094101",
   "metadata": {
    "collapsed": true
   },
   "outputs": [
    {
     "data": {
      "text/plain": [
       "['1_Concept_bases_fonction_v2.ipynb',\n",
       " 'message2b.py',\n",
       " 'Capture d’écran du 2022-01-11 12-44-41.png',\n",
       " 'calcul1.py',\n",
       " 'calcul_brak.py',\n",
       " 'Capture d’écran du 2022-01-11 12-53-20.png',\n",
       " 'La-Pratique_0_1_Fonctions_Modules_Python.ipynb',\n",
       " 'Capture d’écran du 2022-01-11 11-22-29.png',\n",
       " '3_Les_Modules_En_Python.ipynb',\n",
       " '__pycache__',\n",
       " '.ipynb_checkpoints',\n",
       " 'message2.py',\n",
       " 'Capture d’écran du 2022-01-11 12-51-17.png',\n",
       " 'message.py',\n",
       " 'Capture d’écran du 2022-01-11 12-42-25.png',\n",
       " '2_EXOs_Fonctions_WebPyF.ipynb']"
      ]
     },
     "execution_count": 18,
     "metadata": {},
     "output_type": "execute_result"
    }
   ],
   "source": [
    "# 1 - .listdir() sans argument :\n",
    "\n",
    "os.listdir()  # Affiche la liste de tous les fichiers et dossiers du répertoire courant\n",
    "\n",
    "# Ci-dessous les codes équivalents"
   ]
  },
  {
   "cell_type": "code",
   "execution_count": null,
   "id": "8d67928b",
   "metadata": {},
   "outputs": [],
   "source": [
    "os.listdir('./')"
   ]
  },
  {
   "cell_type": "code",
   "execution_count": null,
   "id": "9ad215d7",
   "metadata": {},
   "outputs": [],
   "source": [
    "os.listdir('.')"
   ]
  },
  {
   "cell_type": "code",
   "execution_count": null,
   "id": "e03c04ed",
   "metadata": {},
   "outputs": [],
   "source": []
  },
  {
   "cell_type": "code",
   "execution_count": 22,
   "id": "3f65cdd1",
   "metadata": {},
   "outputs": [
    {
     "data": {
      "text/plain": [
       "['message2.cpython-38.pyc',\n",
       " 'message.cpython-38.pyc',\n",
       " 'message2b.cpython-38.pyc',\n",
       " 'calcul_brak.cpython-38.pyc']"
      ]
     },
     "execution_count": 22,
     "metadata": {},
     "output_type": "execute_result"
    }
   ],
   "source": [
    "# 2 - .listdir(\"xxx\") avec argument :\n",
    "\n",
    "os.listdir('__pycache__')     # Affiche le contenu du dossier en cours\n",
    "                                # !! => dossier inclus dans liste affichée avec listdir"
   ]
  },
  {
   "cell_type": "code",
   "execution_count": null,
   "id": "f7cb5b70",
   "metadata": {},
   "outputs": [],
   "source": []
  },
  {
   "cell_type": "markdown",
   "id": "9d5948ee",
   "metadata": {},
   "source": [
    "### Completer Cf. Cours univ diderot"
   ]
  },
  {
   "cell_type": "code",
   "execution_count": 19,
   "id": "c1411b37",
   "metadata": {},
   "outputs": [
    {
     "data": {
      "text/plain": [
       "False"
      ]
     },
     "execution_count": 19,
     "metadata": {},
     "output_type": "execute_result"
    }
   ],
   "source": [
    "os.path.exists(\"Coding_Training_v2.ipynb\") # fonction qui vérifie la présence d'un fichier sur le disque dur"
   ]
  },
  {
   "cell_type": "code",
   "execution_count": 2,
   "id": "3eba94ff",
   "metadata": {},
   "outputs": [],
   "source": [
    "exit() # fonction permettant de quitter le system"
   ]
  },
  {
   "cell_type": "code",
   "execution_count": null,
   "id": "015038c2",
   "metadata": {},
   "outputs": [],
   "source": []
  },
  {
   "cell_type": "code",
   "execution_count": null,
   "id": "e720ee99",
   "metadata": {},
   "outputs": [],
   "source": [
    "# Algo de vérification de fichiers sur le disque dure\n",
    "\n",
    "if os.path.exists(\"toto.pdb\"):\n",
    "    print(\"le fichier est présent\")\n",
    "else:\n",
    "    sys.exit(\"le fichier est absent\")"
   ]
  },
  {
   "cell_type": "code",
   "execution_count": null,
   "id": "4b4afb8d",
   "metadata": {},
   "outputs": [],
   "source": []
  },
  {
   "cell_type": "markdown",
   "id": "1ba39597",
   "metadata": {},
   "source": [
    "## 6.2. Le module glob"
   ]
  },
  {
   "cell_type": "code",
   "execution_count": 28,
   "id": "15b10c49",
   "metadata": {},
   "outputs": [],
   "source": [
    "import glob"
   ]
  },
  {
   "cell_type": "code",
   "execution_count": 26,
   "id": "ac0562e0",
   "metadata": {
    "collapsed": true
   },
   "outputs": [
    {
     "data": {
      "text/plain": [
       "['__all__',\n",
       " '__builtins__',\n",
       " '__cached__',\n",
       " '__doc__',\n",
       " '__file__',\n",
       " '__loader__',\n",
       " '__name__',\n",
       " '__package__',\n",
       " '__spec__',\n",
       " '_glob0',\n",
       " '_glob1',\n",
       " '_glob2',\n",
       " '_iglob',\n",
       " '_ishidden',\n",
       " '_isrecursive',\n",
       " '_iterdir',\n",
       " '_rlistdir',\n",
       " 'escape',\n",
       " 'fnmatch',\n",
       " 'glob',\n",
       " 'glob0',\n",
       " 'glob1',\n",
       " 'has_magic',\n",
       " 'iglob',\n",
       " 'magic_check',\n",
       " 'magic_check_bytes',\n",
       " 'os',\n",
       " 're',\n",
       " 'sys']"
      ]
     },
     "execution_count": 26,
     "metadata": {},
     "output_type": "execute_result"
    }
   ],
   "source": [
    "dir(glob)"
   ]
  },
  {
   "cell_type": "code",
   "execution_count": 27,
   "id": "5569db73",
   "metadata": {
    "collapsed": true
   },
   "outputs": [
    {
     "data": {
      "text/plain": [
       "['1_Concept_bases_fonction_v2.ipynb',\n",
       " 'message2b.py',\n",
       " 'Capture d’écran du 2022-01-11 12-44-41.png',\n",
       " 'calcul1.py',\n",
       " 'calcul_brak.py',\n",
       " 'Capture d’écran du 2022-01-11 12-53-20.png',\n",
       " 'La-Pratique_0_1_Fonctions_Modules_Python.ipynb',\n",
       " 'Capture d’écran du 2022-01-11 11-22-29.png',\n",
       " '3_Les_Modules_En_Python.ipynb',\n",
       " '__pycache__',\n",
       " 'message2.py',\n",
       " 'Capture d’écran du 2022-01-11 12-51-17.png',\n",
       " 'message.py',\n",
       " 'Capture d’écran du 2022-01-11 12-42-25.png',\n",
       " '2_EXOs_Fonctions_WebPyF.ipynb']"
      ]
     },
     "execution_count": 27,
     "metadata": {},
     "output_type": "execute_result"
    }
   ],
   "source": [
    "glob.glob('*')  # Affiche la liste de tous les fichiers et dossiers du répertoire courant\n",
    "                    # <=> à os.listdir()"
   ]
  },
  {
   "cell_type": "code",
   "execution_count": null,
   "id": "be3fa0ba",
   "metadata": {},
   "outputs": [],
   "source": []
  },
  {
   "cell_type": "code",
   "execution_count": null,
   "id": "8f492555",
   "metadata": {},
   "outputs": [],
   "source": [
    "glob.glob('*.txt')  # Sélectionne uniquement tous les fichiers se terminant par .txt"
   ]
  },
  {
   "cell_type": "code",
   "execution_count": null,
   "id": "7a7b57b2",
   "metadata": {},
   "outputs": [],
   "source": []
  },
  {
   "cell_type": "code",
   "execution_count": null,
   "id": "647d7e22",
   "metadata": {},
   "outputs": [],
   "source": [
    "file_types = glob.glob('*.txt') + glob.glob('*.pptx')    # Sélectionne différents types d'extension de fichier\n",
    "file_types"
   ]
  },
  {
   "cell_type": "code",
   "execution_count": 36,
   "id": "d72a4c4f",
   "metadata": {},
   "outputs": [],
   "source": [
    "from glob import glob"
   ]
  },
  {
   "cell_type": "code",
   "execution_count": 38,
   "id": "33168bc8",
   "metadata": {},
   "outputs": [
    {
     "data": {
      "text/plain": [
       "['message2b.py', 'calcul1.py', 'calcul_brak.py', 'message2.py', 'message.py']"
      ]
     },
     "execution_count": 38,
     "metadata": {},
     "output_type": "execute_result"
    }
   ],
   "source": [
    "glob('*.py')"
   ]
  },
  {
   "cell_type": "markdown",
   "id": "918b8793",
   "metadata": {},
   "source": [
    "#### Intérêt\n",
    "> - On peut indiquer certains fichiers sur lesquels mener certaines actions en précisant **le mode** :\n",
    ">   - Lire : \"r\"\n",
    ">   - Écrire (écraser) : \"w\"\n",
    ">   - Continuer d’écrire : \"a\"\n",
    ">   - Lire et écrire (écraser) : \"r+\""
   ]
  },
  {
   "cell_type": "code",
   "execution_count": 47,
   "id": "b327c98d",
   "metadata": {},
   "outputs": [],
   "source": [
    "# Fonction pour lire un fichier et afficher le contenu\n",
    "\n",
    "filenames = glob('*.py')"
   ]
  },
  {
   "cell_type": "code",
   "execution_count": 48,
   "id": "a31dc8ab",
   "metadata": {
    "collapsed": true
   },
   "outputs": [
    {
     "name": "stdout",
     "output_type": "stream",
     "text": [
      "\"\"\"Script de test.\"\"\"\n",
      "\n",
      "\n",
      "def bonjour(nom):\n",
      "    \"\"\"Dit Bonjour.\"\"\"\n",
      "    return \"Bonjour \" + nom\n",
      "\n",
      "\n",
      "if __name__ == \"__main__\":\n",
      "    print(bonjour(\"Joe\"))\n",
      "\n",
      "\n",
      "\n",
      "\"\"\" Module permettant d'effectuer les 4 opérations arithmétiques de base \"\"\"\n",
      "\n",
      "def addition (a, b):\n",
      "    return a + b\n",
      "\n",
      "def soustraction(a, b):\n",
      "    return a - b\n",
      "\n",
      "def multiplication(a, b):\n",
      "    return a * b\n",
      "\n",
      "def division(a, b):\n",
      "    if b != 0:\n",
      "        return a / b\n",
      "    else:\n",
      "        return \"L'opération est impossible\"\n",
      "\n",
      "\n",
      "\"\"\" Module permettant d'effectuer les 4 opérations arithmétiques de base \"\"\"\n",
      "\n",
      "def addition (a, b):\n",
      "    return a + b\n",
      "\n",
      "def soustraction(a, b):\n",
      "    return a - b\n",
      "\n",
      "def multiplication(a, b):\n",
      "    return a * b\n",
      "\n",
      "def division(a, b):\n",
      "    if b != 0:\n",
      "        return a / b\n",
      "    else:\n",
      "        return \"L'opération est impossible\"\n",
      "\n",
      "\"\"\"Script de test.\"\"\"\n",
      "\n",
      "\n",
      "def bonjour(nom):\n",
      "\t\"\"\"Dit Bonjour.\"\"\"\n",
      "\treturn \"Bonjour \" + nom\n",
      "\n",
      "\n",
      "# programme principal\n",
      "print(bonjour(\"Joe\"))\n",
      "\n",
      "\n",
      "\"\"\"Module inutile qui affiche des messages :-).\"\"\"\n",
      "\n",
      "DATE = 16092008\n",
      "\n",
      "def bonjour(nom):\n",
      "    \"\"\"Dit Bonjour.\"\"\"\n",
      "    return \"Bonjour \" + nom\n",
      "\n",
      "def ciao(nom):\n",
      "    \"\"\"Dit Ciao.\"\"\"\n",
      "    return \"Ciao \" + nom\n",
      "\n",
      "def hello(nom):\n",
      "    \"\"\"Dit Hello.\"\"\"\n",
      "    return \"Hello \" + nom\n",
      "\n"
     ]
    }
   ],
   "source": [
    "for file in filenames:\n",
    "    with open(file, 'r') as f:\n",
    "        print(f.read())"
   ]
  },
  {
   "cell_type": "code",
   "execution_count": null,
   "id": "495a9935",
   "metadata": {},
   "outputs": [],
   "source": [
    "#### Exercice d'application\n",
    "> Voir Module et packages >> Machine learnea"
   ]
  },
  {
   "cell_type": "markdown",
   "id": "dbec471c",
   "metadata": {},
   "source": [
    "## 6.3. Module sys : passage d'arguments\n",
    "> - Le module sys contient des fonctions et des variables spécifiques à l'interpréteur Python lui-même. \n",
    "> - Ce module est particulièrement intéressant pour récupérer les arguments passés à un script Python lorsque celui-ci est appelé en ligne de commande."
   ]
  },
  {
   "cell_type": "code",
   "execution_count": 49,
   "id": "5621d788",
   "metadata": {},
   "outputs": [],
   "source": [
    "import sys"
   ]
  },
  {
   "cell_type": "code",
   "execution_count": null,
   "id": "0867edbc",
   "metadata": {},
   "outputs": [],
   "source": []
  },
  {
   "cell_type": "code",
   "execution_count": null,
   "id": "35710207",
   "metadata": {},
   "outputs": [],
   "source": [
    "# Completer Cf. univ diderot"
   ]
  },
  {
   "cell_type": "code",
   "execution_count": null,
   "id": "a858ab9d",
   "metadata": {},
   "outputs": [],
   "source": []
  },
  {
   "cell_type": "markdown",
   "id": "6b45dbd8",
   "metadata": {},
   "source": [
    "## 6.4. Module random : génération de nombres aléatoires\n",
    "### 1. Génération de nombres aléatoires"
   ]
  },
  {
   "cell_type": "code",
   "execution_count": 50,
   "id": "3d93a024",
   "metadata": {},
   "outputs": [
    {
     "data": {
      "text/plain": [
       "array([ 6, 36, 15, 49, 23, 37, 24, 13, 17, 20])"
      ]
     },
     "execution_count": 50,
     "metadata": {},
     "output_type": "execute_result"
    }
   ],
   "source": [
    "from numpy import random\n",
    "random.randint(low=2, high=50,size=10)  # Générer 10 entiers dt le +petit=2 et le +grd=50"
   ]
  },
  {
   "cell_type": "code",
   "execution_count": 51,
   "id": "704dc203",
   "metadata": {},
   "outputs": [
    {
     "data": {
      "text/plain": [
       "array([28,  5, 23,  9, 14, 25, 20, 35, 49, 46])"
      ]
     },
     "execution_count": 51,
     "metadata": {},
     "output_type": "execute_result"
    }
   ],
   "source": [
    "random.randint(2, 50, 10)  # Peut s'écrire implement comme ci-contre"
   ]
  },
  {
   "cell_type": "code",
   "execution_count": null,
   "id": "862d960e",
   "metadata": {},
   "outputs": [],
   "source": []
  },
  {
   "cell_type": "code",
   "execution_count": 3,
   "id": "e07f2ae9",
   "metadata": {},
   "outputs": [
    {
     "data": {
      "text/plain": [
       "array([ 5,  1,  8, 12,  2])"
      ]
     },
     "execution_count": 3,
     "metadata": {},
     "output_type": "execute_result"
    }
   ],
   "source": [
    "random.randint(0, 20, 5)"
   ]
  },
  {
   "cell_type": "code",
   "execution_count": 4,
   "id": "210d7340",
   "metadata": {},
   "outputs": [
    {
     "data": {
      "text/plain": [
       "[16, 1, 19, 13, 11]"
      ]
     },
     "execution_count": 4,
     "metadata": {},
     "output_type": "execute_result"
    }
   ],
   "source": [
    "list(random.randint(0, 20, 5))"
   ]
  },
  {
   "cell_type": "markdown",
   "id": "4d09d3fd",
   "metadata": {},
   "source": [
    "### 2. Permuter aléatoirement des listes avec `.shuffle()`"
   ]
  },
  {
   "cell_type": "code",
   "execution_count": 55,
   "id": "f6645b52",
   "metadata": {},
   "outputs": [
    {
     "data": {
      "text/plain": [
       "[2, 3, 4, 1]"
      ]
     },
     "execution_count": 55,
     "metadata": {},
     "output_type": "execute_result"
    }
   ],
   "source": [
    "import random\n",
    "\n",
    "liste = [1, 2, 3, 4]\n",
    "\n",
    "random.shuffle(liste)\n",
    "liste"
   ]
  },
  {
   "cell_type": "markdown",
   "id": "9d1d97a2",
   "metadata": {},
   "source": [
    "### 3. Tirer alétoirement un ou plusieurs éléments dans une liste donnée\n",
    "> - La fonction `choice()` sans **s** tire aléatoirement un élément d'une liste \n",
    "> - Alors que la fonction **choices()** (avec un **s** à la fin) réalise plusieurs tirages aléatoires, dont le **nombre** est précisé par le **paramètre k**."
   ]
  },
  {
   "cell_type": "code",
   "execution_count": 26,
   "id": "d3fb35a2",
   "metadata": {},
   "outputs": [
    {
     "data": {
      "text/plain": [
       "'T'"
      ]
     },
     "execution_count": 26,
     "metadata": {},
     "output_type": "execute_result"
    }
   ],
   "source": [
    "bases = [\"A\", \"T\", \"C\", \"G\"]\n",
    "random.choice(bases)"
   ]
  },
  {
   "cell_type": "code",
   "execution_count": 27,
   "id": "4fbf45b3",
   "metadata": {},
   "outputs": [
    {
     "data": {
      "text/plain": [
       "'G'"
      ]
     },
     "execution_count": 27,
     "metadata": {},
     "output_type": "execute_result"
    }
   ],
   "source": [
    "random.choice(bases)"
   ]
  },
  {
   "cell_type": "code",
   "execution_count": null,
   "id": "dac2f145",
   "metadata": {},
   "outputs": [],
   "source": []
  },
  {
   "cell_type": "code",
   "execution_count": 39,
   "id": "bb408eb7",
   "metadata": {},
   "outputs": [
    {
     "data": {
      "text/plain": [
       "['C', 'T', 'T', 'C', 'C']"
      ]
     },
     "execution_count": 39,
     "metadata": {},
     "output_type": "execute_result"
    }
   ],
   "source": [
    "random.choices(bases, k=5)"
   ]
  },
  {
   "cell_type": "code",
   "execution_count": 42,
   "id": "77777268",
   "metadata": {},
   "outputs": [
    {
     "data": {
      "text/plain": [
       "['A', 'A', 'C', 'T', 'G', 'T', 'G', 'G', 'G', 'C']"
      ]
     },
     "execution_count": 42,
     "metadata": {},
     "output_type": "execute_result"
    }
   ],
   "source": [
    "random.choices(bases, k=10)"
   ]
  },
  {
   "cell_type": "markdown",
   "id": "3a24df14",
   "metadata": {},
   "source": [
    "### 4. Définir la graine aléatoire avec la fonction `seed()`\n",
    "> Pour des besoins de reproductibilité des analyses en science : \n",
    "> - On a souvent besoin de retrouver les mêmes résultats même si on utilise des nombres aléatoires. \n",
    "> - Pour cela, on peut définir ce qu'on appelle la « **graine aléatoire** » : Cette graine est la plupart du temps un nombre entier qu'on passe au générateur :\n",
    ">   - celui-ci va alors produire une série donnée de nombres pseudo-aléatoires qui dépendent de cette graine. \n",
    ">   - Si on change la graine, la série de nombres change. "
   ]
  },
  {
   "cell_type": "code",
   "execution_count": null,
   "id": "b9c97e82",
   "metadata": {},
   "outputs": [],
   "source": []
  },
  {
   "cell_type": "code",
   "execution_count": null,
   "id": "310002d2",
   "metadata": {},
   "outputs": [],
   "source": []
  },
  {
   "cell_type": "code",
   "execution_count": 46,
   "id": "a132a6f2",
   "metadata": {},
   "outputs": [
    {
     "data": {
      "text/plain": [
       "10"
      ]
     },
     "execution_count": 46,
     "metadata": {},
     "output_type": "execute_result"
    }
   ],
   "source": [
    "random.seed(42)\n",
    "random.randint(0, 10)"
   ]
  },
  {
   "cell_type": "code",
   "execution_count": 47,
   "id": "1ade66d1",
   "metadata": {},
   "outputs": [
    {
     "data": {
      "text/plain": [
       "1"
      ]
     },
     "execution_count": 47,
     "metadata": {},
     "output_type": "execute_result"
    }
   ],
   "source": [
    "random.randint(0, 10)"
   ]
  },
  {
   "cell_type": "code",
   "execution_count": 50,
   "id": "222119eb",
   "metadata": {},
   "outputs": [
    {
     "data": {
      "text/plain": [
       "2"
      ]
     },
     "execution_count": 50,
     "metadata": {},
     "output_type": "execute_result"
    }
   ],
   "source": [
    "random.seed()\n",
    "random.randint(0, 10)"
   ]
  },
  {
   "cell_type": "markdown",
   "id": "f32fc427",
   "metadata": {},
   "source": [
    "Si on ne précise pas la graine, par défaut Python utilise la date. Plus précisément, il s'agit du nombre de secondes écoulées depuis une date donnée du passé. Ainsi, à chaque fois qu'on relance Python, la graine sera différente car ce nombre de secondes sera différent."
   ]
  },
  {
   "cell_type": "markdown",
   "id": "1115a439",
   "metadata": {},
   "source": [
    "> Quand on utlise des nombres aléatoires, il est fondamental de connaitre la distribution de probablités utilisée par la fonction. \n",
    "> - Par exemple, La fonction de base du module random est random.random(), \n",
    ">    - elle renvoie un float aléatoire entre 0 et 1 tiré dans une distribution uniforme. \n",
    ">    - Si on tire beaucoup de nombres, on aura la même probabilité d'obtenir tous les nombres possibles entre 0 et 1. \n",
    "> - La fonction random.randint() tire aussi un entier dans une distribution uniforme. \n",
    "> - La fonction random.gauss() tire quant à elle un float aléatoire dans une distribution Gaussienne."
   ]
  },
  {
   "cell_type": "markdown",
   "id": "4c306bda",
   "metadata": {},
   "source": [
    "## 6.5. Le module turtle\n",
    "=> Module de dessin"
   ]
  },
  {
   "cell_type": "code",
   "execution_count": 83,
   "id": "6a85ef99",
   "metadata": {},
   "outputs": [],
   "source": [
    "import turtle"
   ]
  },
  {
   "cell_type": "code",
   "execution_count": 84,
   "id": "d98c42c4",
   "metadata": {
    "collapsed": true
   },
   "outputs": [
    {
     "data": {
      "text/plain": [
       "['Canvas',\n",
       " 'Pen',\n",
       " 'RawPen',\n",
       " 'RawTurtle',\n",
       " 'Screen',\n",
       " 'ScrolledCanvas',\n",
       " 'Shape',\n",
       " 'TK',\n",
       " 'TNavigator',\n",
       " 'TPen',\n",
       " 'Tbuffer',\n",
       " 'Terminator',\n",
       " 'Turtle',\n",
       " 'TurtleGraphicsError',\n",
       " 'TurtleScreen',\n",
       " 'TurtleScreenBase',\n",
       " 'Vec2D',\n",
       " '_CFG',\n",
       " '_LANGUAGE',\n",
       " '_Root',\n",
       " '_Screen',\n",
       " '_TurtleImage',\n",
       " '__all__',\n",
       " '__builtins__',\n",
       " '__cached__',\n",
       " '__doc__',\n",
       " '__file__',\n",
       " '__forwardmethods',\n",
       " '__func_body',\n",
       " '__loader__',\n",
       " '__methodDict',\n",
       " '__methods',\n",
       " '__name__',\n",
       " '__package__',\n",
       " '__spec__',\n",
       " '__stringBody',\n",
       " '_alias_list',\n",
       " '_make_global_funcs',\n",
       " '_screen_docrevise',\n",
       " '_tg_classes',\n",
       " '_tg_screen_functions',\n",
       " '_tg_turtle_functions',\n",
       " '_tg_utilities',\n",
       " '_turtle_docrevise',\n",
       " '_ver',\n",
       " 'addshape',\n",
       " 'back',\n",
       " 'backward',\n",
       " 'begin_fill',\n",
       " 'begin_poly',\n",
       " 'bgcolor',\n",
       " 'bgpic',\n",
       " 'bk',\n",
       " 'bye',\n",
       " 'circle',\n",
       " 'clear',\n",
       " 'clearscreen',\n",
       " 'clearstamp',\n",
       " 'clearstamps',\n",
       " 'clone',\n",
       " 'color',\n",
       " 'colormode',\n",
       " 'config_dict',\n",
       " 'deepcopy',\n",
       " 'degrees',\n",
       " 'delay',\n",
       " 'distance',\n",
       " 'done',\n",
       " 'dot',\n",
       " 'down',\n",
       " 'end_fill',\n",
       " 'end_poly',\n",
       " 'exitonclick',\n",
       " 'fd',\n",
       " 'fillcolor',\n",
       " 'filling',\n",
       " 'forward',\n",
       " 'get_poly',\n",
       " 'get_shapepoly',\n",
       " 'getcanvas',\n",
       " 'getmethparlist',\n",
       " 'getpen',\n",
       " 'getscreen',\n",
       " 'getshapes',\n",
       " 'getturtle',\n",
       " 'goto',\n",
       " 'heading',\n",
       " 'hideturtle',\n",
       " 'home',\n",
       " 'ht',\n",
       " 'inspect',\n",
       " 'isdown',\n",
       " 'isfile',\n",
       " 'isvisible',\n",
       " 'join',\n",
       " 'left',\n",
       " 'listen',\n",
       " 'lt',\n",
       " 'mainloop',\n",
       " 'math',\n",
       " 'mode',\n",
       " 'numinput',\n",
       " 'onclick',\n",
       " 'ondrag',\n",
       " 'onkey',\n",
       " 'onkeypress',\n",
       " 'onkeyrelease',\n",
       " 'onrelease',\n",
       " 'onscreenclick',\n",
       " 'ontimer',\n",
       " 'pd',\n",
       " 'pen',\n",
       " 'pencolor',\n",
       " 'pendown',\n",
       " 'pensize',\n",
       " 'penup',\n",
       " 'pos',\n",
       " 'position',\n",
       " 'pu',\n",
       " 'radians',\n",
       " 'read_docstrings',\n",
       " 'readconfig',\n",
       " 'register_shape',\n",
       " 'reset',\n",
       " 'resetscreen',\n",
       " 'resizemode',\n",
       " 'right',\n",
       " 'rt',\n",
       " 'screensize',\n",
       " 'seth',\n",
       " 'setheading',\n",
       " 'setpos',\n",
       " 'setposition',\n",
       " 'settiltangle',\n",
       " 'setundobuffer',\n",
       " 'setup',\n",
       " 'setworldcoordinates',\n",
       " 'setx',\n",
       " 'sety',\n",
       " 'shape',\n",
       " 'shapesize',\n",
       " 'shapetransform',\n",
       " 'shearfactor',\n",
       " 'showturtle',\n",
       " 'simpledialog',\n",
       " 'speed',\n",
       " 'split',\n",
       " 'st',\n",
       " 'stamp',\n",
       " 'sys',\n",
       " 'textinput',\n",
       " 'tilt',\n",
       " 'tiltangle',\n",
       " 'time',\n",
       " 'title',\n",
       " 'towards',\n",
       " 'tracer',\n",
       " 'turtles',\n",
       " 'turtlesize',\n",
       " 'types',\n",
       " 'undo',\n",
       " 'undobufferentries',\n",
       " 'up',\n",
       " 'update',\n",
       " 'width',\n",
       " 'window_height',\n",
       " 'window_width',\n",
       " 'write',\n",
       " 'write_docstringdict',\n",
       " 'xcor',\n",
       " 'ycor']"
      ]
     },
     "execution_count": 84,
     "metadata": {},
     "output_type": "execute_result"
    }
   ],
   "source": [
    "dir(turtle)"
   ]
  },
  {
   "cell_type": "code",
   "execution_count": 85,
   "id": "26bd2ac9",
   "metadata": {},
   "outputs": [],
   "source": [
    "from turtle import *"
   ]
  },
  {
   "cell_type": "code",
   "execution_count": 2,
   "id": "fed484d7",
   "metadata": {},
   "outputs": [],
   "source": [
    "for i in range(5):\n",
    "    left(144)\n",
    "    forward(300)"
   ]
  },
  {
   "cell_type": "code",
   "execution_count": null,
   "id": "90c8de4b",
   "metadata": {},
   "outputs": [],
   "source": []
  },
  {
   "cell_type": "code",
   "execution_count": 4,
   "id": "7753e598",
   "metadata": {},
   "outputs": [],
   "source": [
    "speed(0)\n",
    "for i in range(20, 480, 5):\n",
    "    forward(i)\n",
    "    left(91)"
   ]
  }
 ],
 "metadata": {
  "kernelspec": {
   "display_name": "Python 3 (ipykernel)",
   "language": "python",
   "name": "python3"
  },
  "language_info": {
   "codemirror_mode": {
    "name": "ipython",
    "version": 3
   },
   "file_extension": ".py",
   "mimetype": "text/x-python",
   "name": "python",
   "nbconvert_exporter": "python",
   "pygments_lexer": "ipython3",
   "version": "3.8.11"
  }
 },
 "nbformat": 4,
 "nbformat_minor": 5
}
