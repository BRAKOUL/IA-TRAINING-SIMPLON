{
 "cells": [
  {
   "cell_type": "markdown",
   "id": "ad813da3",
   "metadata": {},
   "source": [
    "# LES STRUCTURES CONDITIONNELLES"
   ]
  },
  {
   "cell_type": "markdown",
   "id": "d05c96dc",
   "metadata": {},
   "source": [
    "## 1. Découverte de la structure conditionnelle if et else"
   ]
  },
  {
   "cell_type": "code",
   "execution_count": 1,
   "id": "3062b7ab",
   "metadata": {},
   "outputs": [],
   "source": [
    "# Voir tuto (pas nécessaire)"
   ]
  },
  {
   "cell_type": "markdown",
   "id": "163ed0d0",
   "metadata": {},
   "source": [
    "### 1.1. Maitriser la structure conditionnelle if"
   ]
  },
  {
   "cell_type": "code",
   "execution_count": 3,
   "id": "0ede0bab",
   "metadata": {},
   "outputs": [
    {
     "name": "stdout",
     "output_type": "stream",
     "text": [
      "12\n",
      "15\n",
      "15\n"
     ]
    }
   ],
   "source": [
    "# Syntaxe / Indexation\n",
    "\n",
    "\"\"\"\n",
    "if condition (expression en code):\n",
    "    ligne de code 1   -> indenté => exécuté seulement quand la condition est évaluée à True\n",
    "    ligne de code 2   -> indenté => exécuté seulement quand la condition est évaluée à True\n",
    "    \n",
    "ligne de code         -> hors du if  => exécuté que la condition soit évaluée à True ou False     \n",
    "\n",
    "\"\"\"\n",
    "\n",
    "a = 10     # NB: faire varier a pour voir le résultat retourné\n",
    "\n",
    "if a == 10:\n",
    "    a = a + 2\n",
    "    print(a)\n",
    "    a = a + 3\n",
    "    print(a)\n",
    "\n",
    "print(a)"
   ]
  },
  {
   "cell_type": "code",
   "execution_count": 1,
   "id": "da994713",
   "metadata": {},
   "outputs": [
    {
     "name": "stdout",
     "output_type": "stream",
     "text": [
      "IN\n",
      "30\n",
      "OUT\n"
     ]
    }
   ],
   "source": [
    "# Imbrication\n",
    "\n",
    "a = 10\n",
    "\n",
    "if a == 10:\n",
    "    print('IN')\n",
    "    if a >= 10:\n",
    "        a += 20\n",
    "        print(a)\n",
    "    \n",
    "    a = a/2\n",
    "    if a % 2 == 0:\n",
    "        print(a)\n",
    "\n",
    "print('OUT')"
   ]
  },
  {
   "cell_type": "code",
   "execution_count": null,
   "id": "548d722a",
   "metadata": {},
   "outputs": [],
   "source": []
  },
  {
   "cell_type": "code",
   "execution_count": null,
   "id": "adadd8f3",
   "metadata": {},
   "outputs": [],
   "source": []
  },
  {
   "cell_type": "markdown",
   "id": "c400c65a",
   "metadata": {},
   "source": [
    "### 1.2 Exercices d'application"
   ]
  },
  {
   "cell_type": "markdown",
   "id": "e54f4558",
   "metadata": {},
   "source": [
    "**Exercice 1 - Une erreur courante à connaître absolument**\n",
    "> Ce bout de code ne fonctionne pas. C'est une erreur très fréquente qu'il faut absolument savoir repérer. Recopier le code puis exécutez le pour constater où se trouve l'erreur. Puis essayez de déboguer le code pour le faire fonctionner."
   ]
  },
  {
   "cell_type": "code",
   "execution_count": 4,
   "id": "fe0a3aba",
   "metadata": {},
   "outputs": [
    {
     "ename": "SyntaxError",
     "evalue": "invalid syntax (<ipython-input-4-cbb7cdbb4f4b>, line 4)",
     "output_type": "error",
     "traceback": [
      "\u001b[0;36m  File \u001b[0;32m\"<ipython-input-4-cbb7cdbb4f4b>\"\u001b[0;36m, line \u001b[0;32m4\u001b[0m\n\u001b[0;31m    if prix = monnaie:\u001b[0m\n\u001b[0m            ^\u001b[0m\n\u001b[0;31mSyntaxError\u001b[0m\u001b[0;31m:\u001b[0m invalid syntax\n"
     ]
    }
   ],
   "source": [
    "prix = 10\n",
    "monnaie = 10\n",
    "\n",
    "if prix = monnaie:\n",
    "    print('Voua avez donné pile le bon montant, merci')"
   ]
  },
  {
   "cell_type": "code",
   "execution_count": 5,
   "id": "e4908a05",
   "metadata": {},
   "outputs": [
    {
     "name": "stdout",
     "output_type": "stream",
     "text": [
      "Voua avez donné pile le bon montat, merci\n"
     ]
    }
   ],
   "source": [
    "prix = 10\n",
    "monnaie = 10\n",
    "\n",
    "if prix == monnaie:\n",
    "     print('Voua avez donné pile le bon montant, merci')"
   ]
  },
  {
   "cell_type": "markdown",
   "id": "b05f3987",
   "metadata": {},
   "source": [
    "**Exercice 2 - Une autre erreur et utilisation du modulo dans les IF**\n",
    "> - Le code ci-dessous va afficher une erreur. Recopier le code puis exécutez le pour constater l'erreur. \n",
    "> - Corriger cette erreur, puis étudier le bout de code en changeant la variable valeur. \n",
    "> - Retenez bien ce bout de code pour tester si un nombre est pair ou impair, c'est un bout de code qu'on utilise très souvent."
   ]
  },
  {
   "cell_type": "code",
   "execution_count": 3,
   "id": "ce4f7b3e",
   "metadata": {},
   "outputs": [
    {
     "ename": "SyntaxError",
     "evalue": "invalid syntax (<ipython-input-3-984191f2db5a>, line 2)",
     "output_type": "error",
     "traceback": [
      "\u001b[0;36m  File \u001b[0;32m\"<ipython-input-3-984191f2db5a>\"\u001b[0;36m, line \u001b[0;32m2\u001b[0m\n\u001b[0;31m    if valeur % 2 = 0:\u001b[0m\n\u001b[0m                  ^\u001b[0m\n\u001b[0;31mSyntaxError\u001b[0m\u001b[0;31m:\u001b[0m invalid syntax\n"
     ]
    }
   ],
   "source": [
    "valeur = 10 # essayez une à une les valeurs 4, 5, 6, 7, 8, 9, -4, -3 pour tester le code\n",
    "if valeur % 2 = 0:\n",
    "    print(f\"{valeur} est pair.\")\n",
    "else:\n",
    "    print(f\"{valeur} est impair.\")"
   ]
  },
  {
   "cell_type": "code",
   "execution_count": 9,
   "id": "881a734b",
   "metadata": {},
   "outputs": [
    {
     "name": "stdout",
     "output_type": "stream",
     "text": [
      "-3 est impair.\n"
     ]
    }
   ],
   "source": [
    "# EXO Modullo à BANQUER\n",
    "valeur = -3 # essayez une à uen les valeurs 4, 5, 6, 7, 8, 9, -4, -3 pour tester le code\n",
    "\n",
    "if valeur % 2 == 0:\n",
    "    print(f\"{valeur} est pair.\")\n",
    "else:\n",
    "    print(f\"{valeur} est impair.\")"
   ]
  },
  {
   "cell_type": "markdown",
   "id": "29d86c1c",
   "metadata": {},
   "source": [
    "### Exercice 3   ||  Solution\n",
    "Ecrire un programme en Python qui demande à l'utilisateur de saisir deux nombres a et b et de lui afficher leur maximum."
   ]
  },
  {
   "cell_type": "code",
   "execution_count": null,
   "id": "6bbe14a0",
   "metadata": {},
   "outputs": [],
   "source": [
    "# 1/ Demander à l'utilisateur de sairir deux nombre a et b\n",
    "    # a = input('Veuiller saisir la valeur de a : ')\n",
    "    # b = input('Veuiller saisir la valeur de b : ')\n",
    "\n",
    "# 2/ Connvertir les valeurs saisies en integer => peut se faire directement lors de la saisie comme suit\n",
    "a = int(input('Veuiller saisir la valeur de a : '))\n",
    "b = int(input('Veuiller saisir la valeur de b : '))\n",
    "\n",
    "# 3/ Poser l'opération de reherche du maximum\n",
    "    # Solution 1 => faire un test de comparaison en affichant le résultat\n",
    "if a > b:\n",
    "    print('le maximum de a et b est : ' , a)\n",
    "else:\n",
    "    print('le maximum de a et b est : ' , b)\n",
    "    \n",
    "    # solution 2\n",
    "# maximum = max(a,b)"
   ]
  },
  {
   "cell_type": "markdown",
   "id": "714a065b",
   "metadata": {},
   "source": [
    "### Exercice 5   ||   Solution\n",
    "Ecrire un programme en langage Python qui demande à l'utilisateur de saisir son nombre entier et de lui afficher si ce nombre est pair ou impair."
   ]
  },
  {
   "cell_type": "code",
   "execution_count": null,
   "id": "f44fd476",
   "metadata": {},
   "outputs": [],
   "source": [
    "# 1/ Demander à l'utilisateur de saisir un nombre entier\n",
    "nb_entier = int(input('veuillez saisir un nombre entier'))\n",
    "\n",
    "# 2/ Tester si nb_entier est pair ou non et afficher la conclusion\n",
    "if nb_entier % 2 == 0:\n",
    "    print('le nombre que vous avez saisi:' , nb_entier, 'est pair')\n",
    "else:\n",
    "    print('le nombre que vous avez saisi:' , nb_entier, 'est impair')"
   ]
  },
  {
   "cell_type": "code",
   "execution_count": null,
   "id": "1ebb6ca2",
   "metadata": {},
   "outputs": [],
   "source": []
  },
  {
   "cell_type": "markdown",
   "id": "c6084632",
   "metadata": {},
   "source": [
    "### Exercice 6 || Solution\n",
    "Ecrire un programme en langage Python qui demande à l'utilisateur de saisir son âge et de lui afficher le message « vous êtes Majeur ! » si l’âge tapé est supérieur ou égale à 18 et le message « vous êtes mineur ! » si l’âge tapé est inférieur à 18"
   ]
  },
  {
   "cell_type": "code",
   "execution_count": null,
   "id": "bda80de6",
   "metadata": {},
   "outputs": [],
   "source": [
    "# 1/ Demander à l'utilisateur de saisir son age\n",
    "age = float(input('veuillez saisir votre age: '))\n",
    "\n",
    "# 2/ Appliquer un test de comparaison pour et afficher si utilisateur majeur ou mineur\n",
    "if age >= 18:\n",
    "    print('vous avez saisi :', age, 'vous êtes majeur')\n",
    "else:\n",
    "    print('vous avez saisi :', age, 'ans', 'vous êtes mineur')"
   ]
  },
  {
   "cell_type": "code",
   "execution_count": null,
   "id": "b615eafa",
   "metadata": {},
   "outputs": [],
   "source": []
  },
  {
   "cell_type": "code",
   "execution_count": null,
   "id": "9bc54e0d",
   "metadata": {},
   "outputs": [],
   "source": []
  },
  {
   "cell_type": "code",
   "execution_count": null,
   "id": "27bdec9c",
   "metadata": {},
   "outputs": [],
   "source": []
  },
  {
   "cell_type": "code",
   "execution_count": null,
   "id": "7b43b4b3",
   "metadata": {},
   "outputs": [],
   "source": []
  },
  {
   "cell_type": "markdown",
   "id": "cd508693",
   "metadata": {},
   "source": [
    "### Exercice 7  ||  Solution\n",
    "Ecrire un programme en Python qui demande à l'utilisateur de saisir 3 nombre x, y et z et de lui afficher leur maximum"
   ]
  },
  {
   "cell_type": "code",
   "execution_count": null,
   "id": "b6f9fb5f",
   "metadata": {},
   "outputs": [],
   "source": [
    "# Demander à l'utilisateur de taper 3 nombres  a, b, c\n",
    "a = int(input(\"Type a value of the number a \"))\n",
    "b = int(input(\"Type a value of the number b \"))\n",
    "c = int(input(\"Type a value of the number c \"))\n",
    "\n",
    "# définir et initialiser le maximum à zero\n",
    "\n",
    "max = 0\n",
    "\n",
    "if(a > b):\n",
    "    max = a\n",
    "else:\n",
    "    max = b\n",
    "    \n",
    "if(max < c):\n",
    "    max = c\n",
    "else:\n",
    "    max = max\n",
    "print(\"Le maximum des trois nombres : \", a, b, c, 'est', '=', 'à', max)"
   ]
  },
  {
   "cell_type": "code",
   "execution_count": null,
   "id": "6d255c27",
   "metadata": {},
   "outputs": [],
   "source": [
    "# 1/ Demander à l'utilisateur de sairsir les 3 trois nombres\n",
    "a = int(input('Taper la valeur du nombre a : '))\n",
    "b = int(input('Taper la valeur du nombre b : '))\n",
    "c = int(input('Taper la valeur du nombre c : '))\n",
    "\n",
    "# 2/ Faire un test de comparaison / Structures conditionnelles\n",
    "if (a > b and a > c):\n",
    "#if (a > b > c):\n",
    "    print('Le maximum de a, b et de c est : a = ', a)\n",
    "    \n",
    "elif (b > c and b > a):\n",
    "#elif (b > a > c):\n",
    "    print('Le maximum de a, b et de c est : b = ', b)\n",
    "    \n",
    "else:\n",
    "    print('Le maximum de a, b et de c est : c = ', c)"
   ]
  },
  {
   "cell_type": "code",
   "execution_count": null,
   "id": "7dfd0e9f",
   "metadata": {},
   "outputs": [],
   "source": []
  },
  {
   "cell_type": "markdown",
   "id": "6752b939",
   "metadata": {},
   "source": [
    "#### Exercice 3 || Solution + Fonction\n",
    "Ecrire un algorithme python sous forme de fonction qui prend en paramètres une liste l et renvoie un tuple de deux listes (l_even, l_odd) où l_even est composé des éléments de l d'indexe pair et l_old est constitué par les éléments d'indexe impair .\n",
    "Exemple: si:\n",
    "> \n",
    "L = [\"Python\", \"Java\", \"C ++\", \"C #\", \"VB.Net\", \"Javascript\"]\n",
    "\n",
    "l'algorithme renvoie:\n",
    "\n",
    "(['Python', 'C ++', 'VB.Net'], ['Java', 'C #', 'Javascript'])"
   ]
  },
  {
   "cell_type": "code",
   "execution_count": 1,
   "id": "deb53e6e",
   "metadata": {},
   "outputs": [],
   "source": [
    "# 1 / Définition de la fonction\n",
    "\n",
    "def liste_to_tuple(L):\n",
    "    n = len(L)           # Obtenir la longueur de la liste \n",
    "    l_odd = []           # Initialisation de la liste d'indices impairs\n",
    "    l_even = []         # Initialisation de la liste d'indices pairs\n",
    "\n",
    "# 2 / Construire les listes l_odd et l_even\n",
    "    for i in range(0, n):\n",
    "        if (i%2 == 0):\n",
    "            l_even.append(L[i])\n",
    "        else:\n",
    "            l_odd.append(L[i])\n",
    "    return (l_even, l_odd)"
   ]
  },
  {
   "cell_type": "code",
   "execution_count": null,
   "id": "26858742",
   "metadata": {},
   "outputs": [],
   "source": []
  },
  {
   "cell_type": "markdown",
   "id": "7741bb65",
   "metadata": {},
   "source": [
    "## 2. Maitriser les structures conditionnelles elif et else"
   ]
  },
  {
   "cell_type": "code",
   "execution_count": null,
   "id": "606fc173",
   "metadata": {},
   "outputs": [],
   "source": [
    "# LESSON:\n",
    "\n",
    "if : obligatoire\n",
    "    \n",
    "elif : vient toujours après if et peut varier de 0 à +sieurs\n",
    "\n",
    "else : vient en dernier => 0 fois ou 1 fois (pas plus d'une fois) "
   ]
  },
  {
   "cell_type": "code",
   "execution_count": 17,
   "id": "dfca63bb",
   "metadata": {},
   "outputs": [
    {
     "name": "stdout",
     "output_type": "stream",
     "text": [
      "medaille d'or\n"
     ]
    }
   ],
   "source": [
    "position = 1\n",
    "\n",
    "if position <= 1:\n",
    "    print('medaille d\\'or')\n",
    "elif position <= 2:\n",
    "    print('Médaille d\\'argent')\n",
    "elif position <= 3:\n",
    "    print('Médaille de bronze')\n",
    "else:\n",
    "    print('Désolé, vous n\\'êtes pas sur le podium')\n",
    "\n",
    "# On aurait dû mettre == comme comparateur dans la condition mais <= marche bien => La puissance de if/elif/else"
   ]
  },
  {
   "cell_type": "markdown",
   "id": "e7b6ae7b",
   "metadata": {},
   "source": [
    "**Exercice 3 - Structures conditionnelles et listes**\n",
    "> - Que va afficher le code ci-dessous? Mentalement, remplacer la valeur de liste par l'une des valeurs suggérées. Que devrait afficher le code dans ce cas?\n",
    "> - Recopier le code puis exécuter le pour vérifier votre réponse.\n",
    "> - Ensuite, prenez le temps d'étudier le fonctionnement de ce bout de code en remplaçant le contenu de la variable liste par les valeurs suggérées en commentaire."
   ]
  },
  {
   "cell_type": "code",
   "execution_count": null,
   "id": "2b9852d4",
   "metadata": {},
   "outputs": [],
   "source": [
    "liste = [] # variable à remplacer, essayer les valeurs [], [1], [1, 2]\n",
    "\n",
    "if liste:\n",
    "    print('liste non vide', liste)\n",
    "elif not liste:\n",
    "    print('Liste vide', liste)"
   ]
  },
  {
   "cell_type": "code",
   "execution_count": null,
   "id": "f6d446e9",
   "metadata": {},
   "outputs": [],
   "source": []
  },
  {
   "cell_type": "code",
   "execution_count": 22,
   "id": "e9e1471f",
   "metadata": {},
   "outputs": [
    {
     "name": "stdout",
     "output_type": "stream",
     "text": [
      "liste non vide [1, 2]\n"
     ]
    }
   ],
   "source": [
    "liste = [1, 2]\n",
    "\n",
    "if liste:\n",
    "    print('liste non vide', liste)\n",
    "elif not liste:\n",
    "    print('liste vide', liste)"
   ]
  },
  {
   "cell_type": "markdown",
   "id": "ab4335d3",
   "metadata": {},
   "source": [
    "**Exercice 4 - Chaînes de caractères et IF**\n",
    "> - Ce bout de code montre comment tester si une chaîne de caractère est vide ou non. \n",
    "> - Que va afficher le code ci-dessous? \n",
    "    - Mentalement, remplacer la valeur de liste par l'une des valeurs suggérées. \n",
    "    - Que devrait afficher le code dans ce cas?\n",
    "> - Recopier le code puis exécuter le pour vérifier votre réponse.\n",
    "> - Par un raisonnement similaire que dans l'exercice précédent, prenez le temps de modifier le contenu de la variable texte pour étudier comment le code se comporte"
   ]
  },
  {
   "cell_type": "code",
   "execution_count": null,
   "id": "b6a030e4",
   "metadata": {},
   "outputs": [],
   "source": [
    "texte = \"Bravo\" # variable à remplacer, essayer les valeurs \"\", \"          \" (10 espaces), \"Bravo\"\n",
    "\n",
    "if texte:\n",
    "    print('texte non vide' , texte, '!') # On a mis le point pour pouvoir observer l'impact des espaces\n",
    "elif not texte:\n",
    "    print('texte vide', texte, '!')"
   ]
  },
  {
   "cell_type": "code",
   "execution_count": 27,
   "id": "b2630b45",
   "metadata": {},
   "outputs": [
    {
     "name": "stdout",
     "output_type": "stream",
     "text": [
      "texte non vide            !\n"
     ]
    }
   ],
   "source": [
    "texte = \"          \"\n",
    "\n",
    "if texte:\n",
    "    print('texte non vide', texte, '!')\n",
    "elif not texte:\n",
    "    print('texte vide', texte, '!')"
   ]
  },
  {
   "cell_type": "markdown",
   "id": "bd17e69a",
   "metadata": {},
   "source": [
    "**Exercice 5 - Contourner les KeyError avec les dictionnaires et les if**\n",
    "> - Que va afficher le code ci-dessous? \n",
    "> - Essayer les valeurs \"Patates\", Poisson\", \"Végé\", \"Citrouille\", \"Pizza\".\n",
    ">   - Que constatez vous? Prenez votre temps pour déconstruire cette exemple. étudier \n",
    "> - Ensuite modifier la valeur renvoyée par défaut \"N'existe pas\" par -1 et faites les modification nécessaire pour faire marcher le code.\n",
    "> - N'hésitez pas à vous appuyer sur les informations renvoyée par la ligne de debug pour vérifier que votre script se comporte comme vous le désirez."
   ]
  },
  {
   "cell_type": "code",
   "execution_count": 30,
   "id": "e9952ce8",
   "metadata": {},
   "outputs": [
    {
     "name": "stdout",
     "output_type": "stream",
     "text": [
      "Pour debug : Patates -1 \n",
      "\n",
      "Le plat que vous avez choisi, Patates, n'est malheureusment pas au menu ce soir.\n",
      "Choisissez autre chose s'il vous plaît\n"
     ]
    }
   ],
   "source": [
    "menu = {\"Poisson\":100, \n",
    "        \"Végé\":56,\n",
    "        \"Pizza\":80, \n",
    "        \"Salade\":27}\n",
    "\n",
    "choix = \"Patates\"  # Variable à remplacer : \"Patates\", Poisson\", \"Végé\", \"Citrouille\", \"Pizza\"\n",
    "prix = menu.get(choix, \"N'existe pas\")\n",
    "\n",
    "# Cette ligne vous sert à observer les valeurs importantes, on appelle ça débugger.\n",
    "print(\"Pour debug :\", choix, prix, '\\n')  \n",
    "\n",
    "if prix != \"N'existe pas\":\n",
    "    print(f'Vous avez choisi {choix}, excellent. Cela vous coutera {prix} euros svp.')\n",
    "else:\n",
    "    print(f'Le plat que vous avez choisi, {choix}, n\\'est malheureusment pas au menu ce soir.')\n",
    "    print('Choisissez autre chose s\\'il vous plaît')"
   ]
  },
  {
   "cell_type": "code",
   "execution_count": null,
   "id": "a4374fff",
   "metadata": {},
   "outputs": [],
   "source": []
  },
  {
   "cell_type": "markdown",
   "id": "f8c0849e",
   "metadata": {},
   "source": [
    "**Exercice 6 - Bien utilisez les if-elif-else**\n",
    "> - Que va afficher le code ci-dessous? \n",
    "> - Recopier le code puis exécuter le en testant chacune des valeurs suggérées en commentaire.\n",
    ">    - Que constatez vous? (Indice, vous devez constater que le code ne se comporte pas comme on souhaiterait qu'il se comporte)\n",
    "> - Corrigez le code pour que le code se comporte d'une façon sensée. (Il y a plusieurs manières de procéder, s'il vous plaît utiliser la manière utilisant des elif.)\n",
    "> - Pour finir, rajoutez une close else affichant \"Le secret de la longévité. 5 fruits et légumes par jour.\""
   ]
  },
  {
   "cell_type": "code",
   "execution_count": 31,
   "id": "e9564189",
   "metadata": {},
   "outputs": [
    {
     "name": "stdout",
     "output_type": "stream",
     "text": [
      "Vous avez moins de cinq ans\n",
      "Vous êtes ado\n",
      "Vous êtes jeune adulte\n",
      "Vous êtes adulte\n",
      "Vous êtes centenaire\n"
     ]
    }
   ],
   "source": [
    "age =  0  # Variable à remplacer. Tester les valeurs -5, 5, 6, 17, 18, 29, 30, 99, 100, 199, 200\n",
    "\n",
    "if age < 6:\n",
    "    print(\"Vous avez moins de cinq ans\")\n",
    "if age < 18:\n",
    "    print(\"Vous êtes ado\")\n",
    "if age < 30:\n",
    "    print(\"Vous êtes jeune adulte\")\n",
    "if age < 100:\n",
    "    print(\"Vous êtes adulte\")\n",
    "if age < 200:\n",
    "    print(\"Vous êtes centenaire\")\n",
    "\n",
    "#  et rajoutez une close else disant 'Le secret de la longévité. 5 fruits et légumes par jour.'"
   ]
  },
  {
   "cell_type": "code",
   "execution_count": 40,
   "id": "025948cd",
   "metadata": {},
   "outputs": [
    {
     "name": "stdout",
     "output_type": "stream",
     "text": [
      "Le secret de la longevité. 5 fruits et légumes par jour\n"
     ]
    }
   ],
   "source": [
    "age = 200 # Variable à remplacer. Tester les valeurs -5, 5, 6, 17, 18, 29, 30, 99, 100, 199, 200\n",
    "\n",
    "if age < 6:\n",
    "    print(\"Vous avez moins de 5\")\n",
    "elif age < 18:\n",
    "    print(\"Vous êtes ado\")\n",
    "elif age < 30:\n",
    "    print('Vous êtes jeune adulte')\n",
    "elif age < 100:\n",
    "    print(\"Vous êtes adule\")\n",
    "elif age < 200:\n",
    "    print(\"Vous êtes centenaire\")\n",
    "else:\n",
    "    print('Le secret de la longevité. 5 fruits et légumes par jour')"
   ]
  },
  {
   "cell_type": "markdown",
   "id": "aa28c638",
   "metadata": {},
   "source": [
    "\n",
    "**Exercice 7 - Attention à la casse, utilisez la méthode lower() pour comparer des strings entre elles.**\n",
    "> - Selon un cahier des charges fictif, le code ci-dessous devrait afficher l'aide si l'utilisateur envoit comme message \"Aide\", peu importe les majuscules ou les minuscules.\n",
    "> - Recopier le code puis exécuter le pour constater son comportement.\n",
    "> - Puis corriger le bout de code ci-dessous pour qu'il fonctionne comme attendu."
   ]
  },
  {
   "cell_type": "code",
   "execution_count": null,
   "id": "e7e3e202",
   "metadata": {},
   "outputs": [],
   "source": [
    "message_utilisateur = 'AIDE'\n",
    "\n",
    "if message_utilisateur == 'aide':\n",
    "    print('Affichez l\\'aide.')\n",
    "else:\n",
    "    print('On passe à la suite')"
   ]
  },
  {
   "cell_type": "code",
   "execution_count": 48,
   "id": "0c61a8da",
   "metadata": {},
   "outputs": [
    {
     "name": "stdout",
     "output_type": "stream",
     "text": [
      "Affichez l'aide.\n"
     ]
    }
   ],
   "source": [
    "message_utilisateur = 'AIDE'\n",
    "\n",
    "message_utilisateur = message_utilisateur.lower()\n",
    "\n",
    "if message_utilisateur == 'aide':\n",
    "    print('Affichez l\\'aide.')\n",
    "else:\n",
    "    print('On passe à la suite')"
   ]
  },
  {
   "cell_type": "code",
   "execution_count": 50,
   "id": "c704408d",
   "metadata": {},
   "outputs": [
    {
     "name": "stdout",
     "output_type": "stream",
     "text": [
      "Affichez l'aide.\n"
     ]
    }
   ],
   "source": [
    "message_utilisateur = 'AIDE'\n",
    "\n",
    "if message_utilisateur.lower() == 'aide':\n",
    "    print('Affichez l\\'aide.')\n",
    "else:\n",
    "    print('On passe à la suite')"
   ]
  },
  {
   "cell_type": "markdown",
   "id": "caf15562",
   "metadata": {},
   "source": [
    "**Exercice 8 - Se repérer dans une structure if-elif-else complexe => Requêtes imbriquées**\n",
    "> - Recopier le code ci-dessous puis exécuter le.\n",
    "> - Puis modifier la variable note_au_bac en lui faisant prendre successivement les valeurs suggérées en commentaire. \n",
    "> - Après chaque modification essayer de visualiser mentalement \"le chemin\" que va emprunter la variable note_au_bac dans la structure if-elif-else.\n",
    "> - À chaque fois, appuyez vous sur l'affichage de debug pour vérifier si votre raisonnement est correct.\n",
    "> - (Note: j'ai intégré le code de l'exercice au format repl car je rencontrais un bug étrange avec mon site web, je vous conseille tout de même de le recopier manuellement pour vous habituer à écrire des structures if-elif-else complexes)"
   ]
  },
  {
   "cell_type": "code",
   "execution_count": null,
   "id": "43414ccd",
   "metadata": {},
   "outputs": [],
   "source": [
    "note_au_bac = 10.0 # Valeur à remplacer 7.99, 8.5, 10.0, 12.5, 14.5, 16.99, 999\n",
    "print('Pour débug', note_au_bac, '\\n')\n",
    "\n",
    "message = ''\n",
    "\n",
    "if note_au_bac >= 10:\n",
    "    message += 'Félicitations. Vous avez le bac '\n",
    "    if 12 <= note_au_bac < 14:\n",
    "        message += 'avec mention \"Assez Bien\"'\n",
    "    elif 14 <= note_au_bac < 16:\n",
    "        message += 'avec mention \"Bien\"'\n",
    "    elif 16 <= note_au_bac:\n",
    "        message += 'avec mention \"Très Bien\"'\n",
    "    else:\n",
    "\n",
    "        message += 'sans mention.'\n",
    "else:\n",
    "    if note_au_bac > 8:\n",
    "        message += 'Désolé, vous devez aller au rattrapage.'\n",
    "    else:\n",
    "        message += 'Désolé, vous pouvez réessayer l\\'année prochaine.'\n",
    "\n",
    "print(message)"
   ]
  },
  {
   "cell_type": "code",
   "execution_count": null,
   "id": "2e04ad45",
   "metadata": {},
   "outputs": [],
   "source": []
  },
  {
   "cell_type": "code",
   "execution_count": 72,
   "id": "6b482d4d",
   "metadata": {},
   "outputs": [
    {
     "name": "stdout",
     "output_type": "stream",
     "text": [
      "pour debug 14.5 \n",
      "\n",
      "félicitation. Vous avez le bac avec mention \"Bien\"\n"
     ]
    }
   ],
   "source": [
    "note_au_bac = 14.5   # Valeur à remplacer 7.99, 8.5, 10.0, 12.5, 14.5, 16.99, 999\n",
    "print('pour debug', note_au_bac, '\\n')\n",
    "\n",
    "message = ''\n",
    "\n",
    "if note_au_bac >= 10:\n",
    "    message += 'félicitation. Vous avez le bac '\n",
    "    if 12 <= note_au_bac < 14:\n",
    "        message += 'avec mention \"Assez bien\"'\n",
    "    elif 14 <= note_au_bac < 16:\n",
    "        message += 'avec mention \"Bien\"'\n",
    "    elif 16 <= note_au_bac:\n",
    "        message += 'avec mention \"Très bien\"'\n",
    "    else:\n",
    "        message += 'sans mention.'\n",
    "\n",
    "else:\n",
    "    if note_au_bac > 8:\n",
    "        message += 'Désolé, vous devrez aller au ratrappage'\n",
    "    else:\n",
    "        message += 'Désolé, vous pouvez réessayer l\\'année prochaine.'\n",
    "\n",
    "print(message)"
   ]
  },
  {
   "cell_type": "code",
   "execution_count": null,
   "id": "55abeb03",
   "metadata": {},
   "outputs": [],
   "source": []
  },
  {
   "cell_type": "markdown",
   "id": "6cf331d7",
   "metadata": {},
   "source": [
    "## 3. TP Distributeur de boissons"
   ]
  },
  {
   "cell_type": "code",
   "execution_count": null,
   "id": "585f533f",
   "metadata": {},
   "outputs": [],
   "source": [
    "# Instructions\n",
    "    # Combien? \n",
    "    # Prix:\n",
    "        # Il y en a trop\n",
    "        # Il n'y en a pa assez\n",
    "        # C'est tout bon\n",
    "    # Pour afficher on le fera par print()"
   ]
  },
  {
   "cell_type": "code",
   "execution_count": null,
   "id": "6fb3c1dc",
   "metadata": {},
   "outputs": [],
   "source": [
    "# Indice 1 : faire une suite d'étapes"
   ]
  },
  {
   "cell_type": "code",
   "execution_count": null,
   "id": "b51feb07",
   "metadata": {},
   "outputs": [],
   "source": [
    "# Indice 2 : \n",
    "    # 1/ Récuperer les arguments passés en ligne de commande\n",
    "    # 2/ Convertir les arguments en nombre\n",
    "    # 3/ Décider lequel est le prix , lequel est le billet\n",
    "    # 4/ introduction des if et du elif"
   ]
  },
  {
   "cell_type": "code",
   "execution_count": null,
   "id": "0a71e2eb",
   "metadata": {},
   "outputs": [],
   "source": [
    "# Indice 3 : varible billet et variable prix\n",
    "    # billet < prix -> afficher pas assez en indiquant le montant qui manque\n",
    "    # S'il y a assez, doit rendre ou pas monnaie: \n",
    "        # si billet == prix  => 'Merci au revoir'\n",
    "        # si non, je vous dois 'Z'"
   ]
  },
  {
   "cell_type": "code",
   "execution_count": null,
   "id": "c90eafdf",
   "metadata": {},
   "outputs": [],
   "source": []
  },
  {
   "cell_type": "code",
   "execution_count": null,
   "id": "56ac212b",
   "metadata": {},
   "outputs": [],
   "source": []
  },
  {
   "cell_type": "code",
   "execution_count": null,
   "id": "6be75ec0",
   "metadata": {},
   "outputs": [],
   "source": []
  },
  {
   "cell_type": "code",
   "execution_count": null,
   "id": "b09ad3a7",
   "metadata": {},
   "outputs": [],
   "source": []
  },
  {
   "cell_type": "markdown",
   "id": "9a665584",
   "metadata": {},
   "source": [
    "## 4. Projet Solo"
   ]
  },
  {
   "cell_type": "code",
   "execution_count": null,
   "id": "a9a18bfb",
   "metadata": {},
   "outputs": [],
   "source": []
  },
  {
   "cell_type": "code",
   "execution_count": null,
   "id": "a55d4dc0",
   "metadata": {},
   "outputs": [],
   "source": []
  },
  {
   "cell_type": "markdown",
   "id": "7c517a5f",
   "metadata": {},
   "source": [
    "# Coding game"
   ]
  },
  {
   "cell_type": "markdown",
   "id": "32b43a83",
   "metadata": {},
   "source": [
    "## La structure"
   ]
  },
  {
   "cell_type": "markdown",
   "id": "56a03372",
   "metadata": {},
   "source": [
    "### if... elif ... else"
   ]
  },
  {
   "cell_type": "code",
   "execution_count": 2,
   "id": "15a8a693",
   "metadata": {},
   "outputs": [],
   "source": [
    "note = 12"
   ]
  },
  {
   "cell_type": "code",
   "execution_count": 3,
   "id": "8c4b9ff4",
   "metadata": {},
   "outputs": [],
   "source": [
    "if note > 15:\n",
    "    print(\"Très bien\")"
   ]
  },
  {
   "cell_type": "code",
   "execution_count": null,
   "id": "08ad3b5c",
   "metadata": {},
   "outputs": [],
   "source": []
  },
  {
   "cell_type": "code",
   "execution_count": 4,
   "id": "72deb5d3",
   "metadata": {},
   "outputs": [
    {
     "name": "stdout",
     "output_type": "stream",
     "text": [
      "Tu devrais recopier 3 fois toutes les décimales de pi!\n"
     ]
    }
   ],
   "source": [
    "if note > 15:\n",
    "    print(\"Très bien\")\n",
    "else:\n",
    "    print(\"Tu devrais recopier 3 fois toutes les décimales de pi!\")"
   ]
  },
  {
   "cell_type": "code",
   "execution_count": null,
   "id": "79d612d9",
   "metadata": {},
   "outputs": [],
   "source": []
  },
  {
   "cell_type": "code",
   "execution_count": 27,
   "id": "757e5be8",
   "metadata": {},
   "outputs": [
    {
     "name": "stdout",
     "output_type": "stream",
     "text": [
      "Assez Bien\n",
      "Ce message représente la suite du programme...\n"
     ]
    }
   ],
   "source": [
    "if note>15 :\n",
    "    print(\"Très Bien !\")\n",
    "elif note>13 :\n",
    "    print(\"Bien\")\n",
    "elif note>11 :\n",
    "    print(\"Assez Bien\")\n",
    "elif note>20 :\n",
    "    print(\"Tu es un génie !!!\")\n",
    "else :\n",
    "    print(\"Tu devras recopier 3 fois toutes les décimales de pi !\")\n",
    "print(\"Ce message représente la suite du programme...\")"
   ]
  },
  {
   "cell_type": "markdown",
   "id": "0d288635",
   "metadata": {},
   "source": [
    "### Complément : Imbrication de blocs conditionnels"
   ]
  },
  {
   "cell_type": "code",
   "execution_count": 38,
   "id": "f6e56b23",
   "metadata": {},
   "outputs": [
    {
     "name": "stdout",
     "output_type": "stream",
     "text": [
      "Tu devras recommencer l'interrogation en devoir maison\n",
      "Tu devras en plus recopier 3 fois toutes les décimales de pi !\n"
     ]
    }
   ],
   "source": [
    "note = 4\n",
    "\n",
    "if note>15 :\n",
    "    print(\"Très Bien !\")\n",
    "    if note>17 : \n",
    "        print(\"Félicitations !\")\n",
    "        if note>20 :\n",
    "            print(\"Tu es un génie !!!\")\n",
    "elif note>13 :\n",
    "    print(\"Bien\")\n",
    "elif note>11 :\n",
    "    print(\"Assez Bien\")\n",
    "else :\n",
    "    print(\"Tu devras recommencer l'interrogation en devoir maison\")\n",
    "    if note<6 :\n",
    "        print(\"Tu devras en plus recopier 3 fois toutes les décimales de pi !\")"
   ]
  },
  {
   "cell_type": "markdown",
   "id": "cecd63bb",
   "metadata": {},
   "source": [
    "## Les conditions"
   ]
  },
  {
   "cell_type": "code",
   "execution_count": null,
   "id": "31909586",
   "metadata": {},
   "outputs": [],
   "source": [
    "# Les comparaisons :"
   ]
  },
  {
   "cell_type": "code",
   "execution_count": null,
   "id": "820c55a9",
   "metadata": {},
   "outputs": [],
   "source": [
    "== : pour tester l'égalité. Il faut doubler le = pour le différencier de l'affectation des variables.\n",
    "!= : différent de.\n",
    "< : strictement inférieur.\n",
    "<= :inférieur ou égal.\n",
    "> : strictement supérieur.\n",
    ">= : supérieur ou égal."
   ]
  },
  {
   "cell_type": "code",
   "execution_count": null,
   "id": "6c43cde1",
   "metadata": {},
   "outputs": [],
   "source": [
    "# Les connecteurs logiques not, and et or"
   ]
  },
  {
   "cell_type": "markdown",
   "id": "1e0a46c3",
   "metadata": {},
   "source": [
    "Par exemple :\n",
    "- `not x<3` est identique à **x>=3**. \n",
    "- `x<3` **and** `x>1` est identique à **1<x<3** car x doit vérifier les deux conditions en même temps. \n",
    "- `x<3` **or** `x>5` est **identique... à elle même** car il n'y a pas de façon plus concise de l'écrire. Elle sera vraie si une des deux conditions est vérifiée."
   ]
  },
  {
   "cell_type": "code",
   "execution_count": null,
   "id": "084d5313",
   "metadata": {},
   "outputs": [],
   "source": [
    "not 3 > 2 --> Faux\n",
    "not 1 >= 5 --> Vrai"
   ]
  },
  {
   "cell_type": "code",
   "execution_count": null,
   "id": "7f5a0d54",
   "metadata": {},
   "outputs": [],
   "source": []
  },
  {
   "cell_type": "markdown",
   "id": "2269f529",
   "metadata": {},
   "source": [
    "#### Exercice 1 : Calcul de l'inverse d'un nombre\n",
    "> Ecrire une fonction qui prend en entrée un nombre x et qui renvoie \"Impossible\" si x est nul et le resultat de 1/x sinon."
   ]
  },
  {
   "cell_type": "code",
   "execution_count": 31,
   "id": "3f17dde9",
   "metadata": {},
   "outputs": [],
   "source": [
    "def ma_fonction(x):\n",
    "    if x == 0:\n",
    "        return (\"Impossible\")\n",
    "    else:\n",
    "        return 1/x"
   ]
  },
  {
   "cell_type": "code",
   "execution_count": 35,
   "id": "b6a1b21e",
   "metadata": {},
   "outputs": [
    {
     "data": {
      "text/plain": [
       "'Impossible'"
      ]
     },
     "execution_count": 35,
     "metadata": {},
     "output_type": "execute_result"
    }
   ],
   "source": [
    "ma_fonction(0)"
   ]
  },
  {
   "cell_type": "code",
   "execution_count": 36,
   "id": "bdad880e",
   "metadata": {},
   "outputs": [
    {
     "data": {
      "text/plain": [
       "0.16666666666666666"
      ]
     },
     "execution_count": 36,
     "metadata": {},
     "output_type": "execute_result"
    }
   ],
   "source": [
    "ma_fonction(6)"
   ]
  },
  {
   "cell_type": "code",
   "execution_count": null,
   "id": "7f2b9dd3",
   "metadata": {},
   "outputs": [],
   "source": []
  },
  {
   "cell_type": "markdown",
   "id": "d99e4186",
   "metadata": {},
   "source": [
    "#### Exercice 2 :\n",
    "> Ecrire un programme qui prend en entrée une température t et qui renvoie l'état de l'eau à cette température c'est à dire \"SOLIDE\", \"LIQUIDE\" ou \"GAZEUX\".\n",
    "> - On prendra comme conditions les suivantes :\n",
    "    - Si la température est strictement négative alors l'eau est à l'état solide.\n",
    "    - Si la température est entre 0 et 100 (compris) l'eau est à l'état liquide.\n",
    "    - Si la température est strictement supérieure à 100\n",
    "    \n",
    "> - Entrée : Une température t\n",
    "> - Sortie : L'état de l'eau à cette température parmi les trois possibilités : \"SOLIDE\", \"LIQUIDE\" ou \"GAZEUX\""
   ]
  },
  {
   "cell_type": "code",
   "execution_count": null,
   "id": "f7088683",
   "metadata": {},
   "outputs": [],
   "source": [
    "def ma_fonction(t):\n",
    "    if t < 0:\n",
    "        return \"SOLIDE\"\n",
    "    elif 0 <= t <= 100:\n",
    "        return \"LIQUIDE\"\n",
    "    elif t > 100:\n",
    "        return \"GAZEUX\"\n",
    "    else:\n",
    "        return \"fin du programme\""
   ]
  },
  {
   "cell_type": "code",
   "execution_count": null,
   "id": "7ccebedc",
   "metadata": {},
   "outputs": [],
   "source": [
    "# Correction --------\n",
    "\n",
    "def ma_fonction(t):\n",
    "    if t<0 : \n",
    "        return 'SOLIDE'\n",
    "    elif t>100 :\n",
    "        return 'GAZEUX'\n",
    "    else :\n",
    "        return 'LIQUIDE'"
   ]
  },
  {
   "cell_type": "markdown",
   "id": "fbe9193a",
   "metadata": {},
   "source": [
    "**NB :** Après else, il n'y a jamais de condition (étant donné que signifie sinon donc correspond à tous les cas restants, pas besoin donc de les préciser même si par chance on les connait)"
   ]
  },
  {
   "cell_type": "code",
   "execution_count": null,
   "id": "86f26732",
   "metadata": {},
   "outputs": [],
   "source": []
  }
 ],
 "metadata": {
  "kernelspec": {
   "display_name": "Python 3 (ipykernel)",
   "language": "python",
   "name": "python3"
  },
  "language_info": {
   "codemirror_mode": {
    "name": "ipython",
    "version": 3
   },
   "file_extension": ".py",
   "mimetype": "text/x-python",
   "name": "python",
   "nbconvert_exporter": "python",
   "pygments_lexer": "ipython3",
   "version": "3.8.11"
  }
 },
 "nbformat": 4,
 "nbformat_minor": 5
}
